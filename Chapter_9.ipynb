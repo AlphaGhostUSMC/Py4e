{
 "cells": [
  {
   "cell_type": "markdown",
   "metadata": {},
   "source": [
    "<body>\n",
    "  <h3 style=\"color: wheat; text-align: center; font-family: 'Times New Roman', Times, serif; font-size: 30px;\">Chapter 9: Python Dictionaries</h3>\n",
    "</body>"
   ]
  },
  {
   "cell_type": "markdown",
   "metadata": {},
   "source": [
    "<!DOCTYPE html>\n",
    "<html lang=\"en\">\n",
    "  <head>\n",
    "    <meta charset=\"UTF-8\" />\n",
    "    <meta http-equiv=\"X-UA-Compatible\" content=\"IE=edge\" />\n",
    "    <meta name=\"viewport\" content=\"width=device-width, initial-scale=1.0\" />\n",
    "    <title>Python Collections</title>\n",
    "    <link rel=\"stylesheet\" href=\"./Resources/assets/style.css\" />\n",
    "  </head>\n",
    "  <body>\n",
    "    <h3>What is a Collection?</h3>\n",
    "    <list>\n",
    "      <ul>\n",
    "        <li>\n",
    "          <p>\n",
    "            A collection is nice because we can put more than one value in it\n",
    "            and carry them all around in one convenient package\n",
    "          </p>\n",
    "        </li>\n",
    "        <li><p>We have a bunch of values in a single “variable”</p></li>\n",
    "        <li>\n",
    "          <p>We do this by having more than one place “in” the variable</p>\n",
    "        </li>\n",
    "        <li>\n",
    "          <p>We have ways of finding the different places in the variable</p>\n",
    "        </li>\n",
    "      </ul>\n",
    "    </list>\n",
    "  </body>\n",
    "</html>\n"
   ]
  },
  {
   "cell_type": "markdown",
   "metadata": {},
   "source": [
    "<!DOCTYPE html>\n",
    "<html lang=\"en\">\n",
    "  <head>\n",
    "    <meta charset=\"UTF-8\" />\n",
    "    <meta http-equiv=\"X-UA-Compatible\" content=\"IE=edge\" />\n",
    "    <meta name=\"viewport\" content=\"width=device-width, initial-scale=1.0\" />\n",
    "    <title>Python Collections</title>\n",
    "    <link rel=\"stylesheet\" href=\"./Resources/assets/style.css\" />\n",
    "  </head>\n",
    "  <body>\n",
    "    <h3>What is not a Collection?</h3>\n",
    "    <list>\n",
    "      <ul>\n",
    "        <li>\n",
    "          <p>\n",
    "            Most of our <span class=\"grn\">variables</span> have one value in\n",
    "            them - when we put a new value in the\n",
    "            <span class=\"grn\">variables</span> - the old value is overwritten\n",
    "          </p>\n",
    "        </li>\n",
    "      </ul>\n",
    "    </list>\n",
    "  </body>\n",
    "</html>\n"
   ]
  },
  {
   "cell_type": "code",
   "execution_count": null,
   "metadata": {},
   "outputs": [],
   "source": [
    "x = 2"
   ]
  },
  {
   "cell_type": "code",
   "execution_count": null,
   "metadata": {},
   "outputs": [],
   "source": [
    "x = 4\n",
    "print(x)"
   ]
  },
  {
   "cell_type": "markdown",
   "metadata": {},
   "source": [
    "<!DOCTYPE html>\n",
    "<html lang=\"en\">\n",
    "  <head>\n",
    "    <meta charset=\"UTF-8\" />\n",
    "    <meta http-equiv=\"X-UA-Compatible\" content=\"IE=edge\" />\n",
    "    <meta name=\"viewport\" content=\"width=device-width, initial-scale=1.0\" />\n",
    "    <title>Python Collections</title>\n",
    "    <link rel=\"stylesheet\" href=\"./Resources/assets/style.css\" />\n",
    "  </head>\n",
    "  <body>\n",
    "    <h3>The Two Collections</h3>\n",
    "    <list>\n",
    "      <ul>\n",
    "        <li>\n",
    "          Lists\n",
    "          <ul>\n",
    "            <li><p>A linear collection of values that stay in order</p></li>\n",
    "          </ul>\n",
    "        </li>\n",
    "        <li>\n",
    "          Dictionary\n",
    "          <ul>\n",
    "            <li><p>A “bag” of values, each with its own label</p></li>\n",
    "          </ul>\n",
    "        </li>\n",
    "      </ul>\n",
    "    </list>\n",
    "  </body>\n",
    "</html>\n"
   ]
  },
  {
   "cell_type": "markdown",
   "metadata": {},
   "source": [
    "<!DOCTYPE html>\n",
    "<html lang=\"en\">\n",
    "  <head>\n",
    "    <meta charset=\"UTF-8\" />\n",
    "    <meta http-equiv=\"X-UA-Compatible\" content=\"IE=edge\" />\n",
    "    <meta name=\"viewport\" content=\"width=device-width, initial-scale=1.0\" />\n",
    "    <title>Python Collections</title>\n",
    "    <link rel=\"stylesheet\" href=\"./Resources/assets/style.css\" />\n",
    "  </head>\n",
    "  <body>\n",
    "    <h3>Dictionaries</h3>\n",
    "    <list>\n",
    "      <ul>\n",
    "        <li><p>Dictionaries are Python's most powerful data collection</p></li>\n",
    "        <li><p>Dictionaries are unordered key-value pairs</p></li>\n",
    "        <li>\n",
    "          <p>Dictionaries have different names in different languages</p>\n",
    "          <ol>\n",
    "            <li><p>Associative Arrays - Perl / PHP</p></li>\n",
    "            <li><p>Properties or Map or HashMap - Java</p></li>\n",
    "            <li><p>Property Bag - C# / .Net</p></li>\n",
    "          </ol>\n",
    "        </li>\n",
    "      </ul>\n",
    "    </list>\n",
    "  </body>\n",
    "</html>\n"
   ]
  },
  {
   "cell_type": "markdown",
   "metadata": {},
   "source": [
    "<!DOCTYPE html>\n",
    "<html lang=\"en\">\n",
    "  <head>\n",
    "    <meta charset=\"UTF-8\" />\n",
    "    <meta http-equiv=\"X-UA-Compatible\" content=\"IE=edge\" />\n",
    "    <meta name=\"viewport\" content=\"width=device-width, initial-scale=1.0\" />\n",
    "    <title>Python Collections</title>\n",
    "    <link rel=\"stylesheet\" href=\"./Resources/assets/style.css\" />\n",
    "  </head>\n",
    "  <body>\n",
    "    <button onclick=\"myFunction()\">Toggle dark mode</button>\n",
    "    <h3>Dictionaries</h3>\n",
    "    <list>\n",
    "      <ul>\n",
    "        <li>\n",
    "          <p>\n",
    "            Lists <span class=\"cyn\">index</span> their entries based on the\n",
    "            position in the list\n",
    "          </p>\n",
    "        </li>\n",
    "        <li>\n",
    "          <p><span class=\"prpl\">Dictionaries</span> are like bags no order</p>\n",
    "        </li>\n",
    "        <li>\n",
    "          <p>\n",
    "            So we <span class=\"cyn\">index </span> the things we put in the\n",
    "            <span class=\"prpl\"></span> with a\n",
    "            <span class=\"cyn\">“lookup tag”</span>\n",
    "          </p>\n",
    "        </li>\n",
    "      </ul>\n",
    "    </list>\n",
    "  </body>\n",
    "  <script>\n",
    "    function myFunction() {\n",
    "      var element = document.body;\n",
    "      element.classList.toggle(\"dark-mode\");\n",
    "    }\n",
    "  </script>\n",
    "</html>\n"
   ]
  },
  {
   "cell_type": "code",
   "execution_count": null,
   "metadata": {},
   "outputs": [],
   "source": [
    "wallet = dict()\n",
    "wallet['item1'] = \"Money\"\n",
    "wallet['item2'] = \"Credit Card\"\n",
    "wallet['item3'] = \"ID Card\"\n",
    "wallet['item4'] = \"Keys\"\n",
    "wallet['item5'] = \"Phone\" "
   ]
  },
  {
   "cell_type": "code",
   "execution_count": null,
   "metadata": {},
   "outputs": [],
   "source": [
    "print(wallet)"
   ]
  },
  {
   "cell_type": "code",
   "execution_count": null,
   "metadata": {},
   "outputs": [],
   "source": [
    "wallet['item3']"
   ]
  },
  {
   "cell_type": "code",
   "execution_count": null,
   "metadata": {},
   "outputs": [],
   "source": [
    "wallet['item3'] = [\"Driver's License\" , \"Debit Card\"]"
   ]
  },
  {
   "cell_type": "code",
   "execution_count": null,
   "metadata": {},
   "outputs": [],
   "source": [
    "print(wallet)"
   ]
  },
  {
   "cell_type": "code",
   "execution_count": null,
   "metadata": {},
   "outputs": [],
   "source": [
    "purse = dict()\n",
    "purse[\"Money\"] = 10\n",
    "purse[\"Credit Card\"] = 1\n",
    "purse[\"Candy\"] = 5"
   ]
  },
  {
   "cell_type": "code",
   "execution_count": null,
   "metadata": {},
   "outputs": [],
   "source": [
    "print(purse)"
   ]
  },
  {
   "cell_type": "code",
   "execution_count": null,
   "metadata": {},
   "outputs": [],
   "source": [
    "purse[\"Credit Card\"] = purse[\"Credit Card\"] + 1"
   ]
  },
  {
   "cell_type": "code",
   "execution_count": null,
   "metadata": {},
   "outputs": [],
   "source": [
    "print(purse)"
   ]
  }
 ],
 "metadata": {
  "kernelspec": {
   "display_name": "Python 3.10.5 ('~Py4e': venv)",
   "language": "python",
   "name": "python3"
  },
  "language_info": {
   "codemirror_mode": {
    "name": "ipython",
    "version": 3
   },
   "file_extension": ".py",
   "mimetype": "text/x-python",
   "name": "python",
   "nbconvert_exporter": "python",
   "pygments_lexer": "ipython3",
   "version": "3.10.5"
  },
  "orig_nbformat": 4,
  "vscode": {
   "interpreter": {
    "hash": "b38cc145a8a0388fdb391487ded344ef1406e07d7e5214e41c0150124666a1b0"
   }
  }
 },
 "nbformat": 4,
 "nbformat_minor": 2
}

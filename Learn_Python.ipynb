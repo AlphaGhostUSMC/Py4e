{
 "cells": [
  {
   "cell_type": "markdown",
   "metadata": {},
   "source": [
    "<body>\n",
    "  <h3 style=\"color: wheat; text-align: center; font-family: 'Times New Roman', Times, serif; font-size: 30px;\">Chapter 1: An Intro to Python</h3>\n",
    "</body>"
   ]
  },
  {
   "cell_type": "markdown",
   "metadata": {},
   "source": [
    "<body>\n",
    "  <head>\n",
    "    <title>Learn Python</title>\n",
    "    <link rel=\"stylesheet\" href=\"./Resources/assets/style.css\">\n",
    "  </head>\n",
    "  <h3>Elements of Python</h3>\n",
    "<list>\n",
    "<ul><li><span class=\"orng\">Vocabulary / Words : </span>Variables and Reserved Words</li>\n",
    "<li><span class=\"orng\">Sentence Structure : </span>Valid syntax Patterns</li>\n",
    "<li><span class=\"orng\">Story Structure : </span>Constructing a program for a purpose</li></ul>\n",
    "</list>\n",
    "</body>"
   ]
  },
  {
   "cell_type": "markdown",
   "metadata": {},
   "source": [
    "<body>\n",
    "  <head>\n",
    "    <title>Learn Python</title>\n",
    "    <link rel=\"stylesheet\" href=\"./Resources/assets/style.css\">\n",
    "  </head>\n",
    "  <h3>Reserved Words</h3>\n",
    "<list>\n",
    "<ul><li>You cannot use <span class=\"ylw\">Reserved Words</span> as variable names / identifiers</li></ul>\n",
    "<p class=\"rwdsp\">\n",
    "False&nbsp;&nbsp;def&nbsp;&nbsp;if&nbsp;&nbsp;raise<br>\n",
    "None&nbsp;&nbsp;del&nbsp;&nbsp;import&nbsp;&nbsp;return<br>\n",
    "True&nbsp;&nbsp;elif&nbsp;&nbsp;in&nbsp;&nbsp;try<br>\n",
    "and&nbsp;&nbsp;else&nbsp;&nbsp;is&nbsp;&nbsp;while<br>\n",
    "as&nbsp;&nbsp;except&nbsp;&nbsp;lambda&nbsp;&nbsp;with<br>\n",
    "assert&nbsp;&nbsp;finally&nbsp;&nbsp;nonlocal&nbsp;&nbsp;yield<br>\n",
    "break&nbsp;&nbsp;for&nbsp;&nbsp;not<br>\t\n",
    "class&nbsp;&nbsp;from&nbsp;&nbsp;or<br>\t\n",
    "continue&nbsp;&nbsp;global&nbsp;&nbsp;pass<br>\n",
    "</p>\n",
    "</list>\n",
    "</body>"
   ]
  },
  {
   "cell_type": "code",
   "execution_count": 6,
   "metadata": {},
   "outputs": [
    {
     "name": "stdout",
     "output_type": "stream",
     "text": [
      "1\n"
     ]
    }
   ],
   "source": [
    "a = 1\n",
    "print(a) #correct"
   ]
  },
  {
   "cell_type": "code",
   "execution_count": null,
   "metadata": {},
   "outputs": [],
   "source": [
    "while = 1\n",
    "print(while) #incorrect use of reserved word\n",
    "\n",
    "if = 1\n",
    "print(if) #incorrect use of reserved word"
   ]
  },
  {
   "cell_type": "markdown",
   "metadata": {},
   "source": [
    "<body>\n",
    "  <head>\n",
    "    <title>Learn Python</title>\n",
    "    <link rel=\"stylesheet\" href=\"./Resources/assets/style.css\">\n",
    "  </head>\n",
    "  <h3>Sentences or Lines</h3>\n",
    "  <p><strong>\"x\"</strong> is a Variable <br>\n",
    "    <strong>\"=,+\"</strong> are Operators <br>\n",
    "    <strong>\"2\"</strong> is a constant <br>\n",
    "    <strong>\"print\"</strong> is a function (Also a Reserverd word) <br>\n",
    "  </p>\n",
    "</body>"
   ]
  },
  {
   "cell_type": "code",
   "execution_count": null,
   "metadata": {},
   "outputs": [],
   "source": [
    "x = 2 #Assignment statement\n",
    "x = 2 / 2 #Assignment with expression\n",
    "print(x) #Print statement\n"
   ]
  },
  {
   "cell_type": "markdown",
   "metadata": {},
   "source": [
    "<body>\n",
    "  <head>\n",
    "    <title>Learn Python</title>\n",
    "    <link rel=\"stylesheet\" href=\"./Resources/assets/style.css\">\n",
    "  </head>\n",
    "  <h3>Programming Paragraphs</h3>\n",
    "  <h4>Python Scripts</h4>\n",
    "  <list>\n",
    "    <ol>\n",
    "      <li class=\"pslst\">Interactive Python is good for experiment and programs of 3-4 lines long.</li>\n",
    "      <li class=\"pslst\">Most programs are much longer, so we type them into a file and tell Python to run the commands in the file.</li>\n",
    "      <li class=\"pslst\">In a sense, we are \"giving Python a script\"</li>\n",
    "      <li class=\"pslst\">As a convention, we add \".py\" as the suffix on the end of these files to indicate they contain Python.</li>\n",
    "    </ol>\n",
    "  </list>\n",
    "</body>"
   ]
  },
  {
   "cell_type": "markdown",
   "metadata": {},
   "source": [
    "<body>\n",
    "  <head>\n",
    "    <title>Learn Python</title>\n",
    "    <link rel=\"stylesheet\" href=\"./Resources/assets/style.css\">\n",
    "  </head>\n",
    "  <h3>Interactive Vs Script</h3>\n",
    "  <list>\n",
    "    <ul>\n",
    "      <header class=\"hdr\">Interactive</header>\n",
    "      <li>You type directly to Python one line at a time and it responds</li>\n",
    "      <header class=\"hdr\">Script</header>\n",
    "      <li>You enter a sequence of statements (lines) into a file using a text editor and tell Python to execute the statements in the file.</li>\n",
    "    </ul>\n",
    "  </list>\n",
    "</body>"
   ]
  },
  {
   "cell_type": "markdown",
   "metadata": {},
   "source": [
    "<body>\n",
    "  <head>\n",
    "    <title>Learn Python</title>\n",
    "    <link rel=\"stylesheet\" href=\"./Resources/assets/style.css\">\n",
    "  </head>\n",
    "  <h3>Syntax Errors</h3>\n",
    "  <p>Syntax errors are produced by Python when it is translating the source code into byte code. They usually indicate that there is something wrong with the syntax of the program. Example: Omitting the colon at the end of a def statement yields the somewhat redundant message SyntaxError: invalid syntax.</p>\n",
    "<list>\n",
    "  <ul>\n",
    "    <li>leaving out a keyword.</li>\n",
    "    <li>putting a keyword in the wrong place.</li>\n",
    "    <li>leaving out a symbol, such as a colon, comma or brackets.</li>\n",
    "    <li>misspelling a keyword.</li>\n",
    "    <li>incorrect indentation.</li>\n",
    "    <li>empty block.</li>\n",
    "  </ul>\n",
    "</list>\n",
    "</body>"
   ]
  },
  {
   "cell_type": "code",
   "execution_count": null,
   "metadata": {},
   "outputs": [],
   "source": [
    "x = 1\n",
    "if x > 0\n",
    "print(\"Hello\")\n"
   ]
  },
  {
   "cell_type": "markdown",
   "metadata": {},
   "source": [
    "<body>\n",
    "  <head>\n",
    "    <title>Learn Python</title>\n",
    "    <link rel=\"stylesheet\" href=\"./Resources/assets/style.css\">\n",
    "  </head>\n",
    "  <h3></font>Program Steps or Program flow</h3>\n",
    "  <list style=\"text-align: justify; font-size: 18px;\">\n",
    "    <ol>\n",
    "      <li>Like a installation instructions, a program is a <mark>sequence</mark> of steps to be done in order</li>\n",
    "      <li>Some steps are <mark>conditional</mark> - they may be skipped</li>\n",
    "      <li>Sometimes a step or group of steps is to be <mark>repeated</mark>.</li>\n",
    "      <li>Sometimes we store a set of steps to be used over and over as needed several places throughout the program.</li>\n",
    "    </ol>\n",
    "  </list>\n",
    "</body>"
   ]
  },
  {
   "cell_type": "markdown",
   "metadata": {},
   "source": [
    "<body>\n",
    "  <head>\n",
    "    <title>Learn Python</title>\n",
    "    <link rel=\"stylesheet\" href=\"./Resources/assets/style.css\">\n",
    "  </head>\n",
    "  <h3></font>Sequential Steps</h3>\n",
    "  <img src=\"Resources/Flowcharts/seqsteps.png\" alt=\"Sequential Steps\" style=\"display: block; margin-left: auto; margin-right: auto;\">\n",
    "  <p style=\"font-size: 18px; text-align: justify;\">\n",
    "    Sequential steps are <span class=\"grn\">step by step</span> execution of a program. They are used to show the flow of a program. it is kind of unintelligent execution of a program. \n",
    "  </p>\n",
    "</body>"
   ]
  },
  {
   "cell_type": "code",
   "execution_count": null,
   "metadata": {},
   "outputs": [],
   "source": [
    "x = 2\n",
    "print(x)\n",
    "x = x + 2\n",
    "print(x)"
   ]
  },
  {
   "cell_type": "markdown",
   "metadata": {},
   "source": [
    "<body>\n",
    "  <head>\n",
    "    <title>Learn Python</title>\n",
    "    <link rel=\"stylesheet\" href=\"./Resources/assets/style.css\">\n",
    "  </head>\n",
    "  <h3></font>Conditional Steps</h3>\n",
    "  <img src=\"Resources/Flowcharts/condsteps.png\" alt=\"Conditional Steps\" style=\"display: block; margin-left: auto; margin-right: auto;\">\n",
    "  <p style=\"font-size: 18px; text-align: justify;\">\n",
    "    Conditional steps are used to determine the next step in the process. They are used to determine the next step in the process based on the result of a previous step. For example, if the user has entered a valid email address, the next step would be to send the user an email with a link to reset their password. If the user has entered an invalid email address, the next step would be to display an error message.\n",
    "    Here we can make python to decide what to do based on the condition, We use the Reserved word <span style=\"color: yellow; font-size: 20px;\">if</span> this makes python code look intelligent</p>\n",
    "</body>"
   ]
  },
  {
   "cell_type": "code",
   "execution_count": 12,
   "metadata": {},
   "outputs": [
    {
     "name": "stdout",
     "output_type": "stream",
     "text": [
      "Smaller\n",
      "Done\n"
     ]
    }
   ],
   "source": [
    "x = 2\n",
    "if x > 5:\n",
    "    print('Bigger')\n",
    "if x < 5:\n",
    "    print('Smaller')\n",
    "\n",
    "print('Done')"
   ]
  },
  {
   "cell_type": "markdown",
   "metadata": {},
   "source": [
    "<body>\n",
    "  <head>\n",
    "    <title>Learn Python</title>\n",
    "    <link rel=\"stylesheet\" href=\"./Resources/assets/style.css\">\n",
    "  </head>\n",
    "  <h3></font>Repeated Steps</h3>\n",
    "  <img src=\"Resources/Flowcharts/repsteps.png\" alt=\"Repeated Steps\" style=\"display: block; margin-left: auto; margin-right: auto;\">\n",
    "  <p style=\"font-size: 18px; text-align: justify;\">\n",
    "  Loops (Repeated Steps) are used to repeat a set of instructions a certain number of times. The number of times the loop is repeated is known as the loop's <span class=\"grn\">iteration count</span>. The loop's iteration count is set by the user. The loop's termination condition is set by the user. The loop's termination condition is checked at the end of each iteration. \n",
    "  </p>\n",
    "</body>"
   ]
  },
  {
   "cell_type": "code",
   "execution_count": null,
   "metadata": {},
   "outputs": [],
   "source": [
    "X = 5\n",
    "while X > 0:\n",
    "    print(X)\n",
    "    X = X - 1\n",
    "print(\"Done\")"
   ]
  },
  {
   "cell_type": "code",
   "execution_count": 17,
   "metadata": {},
   "outputs": [
    {
     "name": "stdout",
     "output_type": "stream",
     "text": [
      "Hello\n",
      "Hello\n",
      "Hello\n",
      "Hello\n",
      "Hello\n"
     ]
    }
   ],
   "source": [
    "print(\"Hello\")\n",
    "print(\"Hello\")\n",
    "print(\"Hello\")\n",
    "print(\"Hello\")\n",
    "print(\"Hello\")"
   ]
  },
  {
   "cell_type": "code",
   "execution_count": 16,
   "metadata": {},
   "outputs": [
    {
     "name": "stdout",
     "output_type": "stream",
     "text": [
      "Hello\n",
      "Hello\n",
      "Hello\n",
      "Hello\n",
      "Hello\n"
     ]
    }
   ],
   "source": [
    "for i in range(5):\n",
    "    print(\"Hello\")"
   ]
  },
  {
   "cell_type": "markdown",
   "metadata": {},
   "source": [
    "<body>\n",
    "  <head>\n",
    "    <title>Learn Python</title>\n",
    "    <link rel=\"stylesheet\" href=\"./Resources/assets/style.css\">\n",
    "  </head>\n",
    "  <h3>Python Story</h3>\n",
    "\n",
    " <block> \n",
    "  <p style=\"font-size: 18px; text-align: justify;\">\n",
    "    A Short python \"Story\" about how to count a file\n",
    "  </p>\n",
    "  <p style=\"font-size: 18px; text-align: justify;\">\n",
    "  </block>\n",
    "\n",
    "<br>\n",
    "\n",
    "<p style=\"font-weight: bold; color: yellow;\">**Sequential**</p>\n",
    "<block style=\"color: yellow;\"> \n",
    "  print = (\"Reading the file...\")<br>\n",
    "  file = open(\"Resources/docs/blockchain.txt\")<br>\n",
    "  counts = dict()<br>\n",
    "</block>\n",
    "\n",
    "<br>\n",
    "\n",
    "<p style=\"font-weight: bold; color: green;\">**Repeated**</p>\n",
    "<block style=\"color: green;\">\n",
    "for line in file:<br>\n",
    "&nbsp;&nbsp;&nbsp;&nbsp;&nbsp;&nbsp;words = line.split()<br>\n",
    "&nbsp;&nbsp;&nbsp;&nbsp;&nbsp;&nbsp;for word in words:<br>\n",
    "&nbsp;&nbsp;&nbsp;&nbsp;&nbsp;&nbsp;&nbsp;&nbsp;&nbsp;&nbsp;&nbsp;&nbsp;counts[word] = counts.get(word, 0) + 1<br>\n",
    "</block>\n",
    "\n",
    "<br>\n",
    "\n",
    "<p style=\"font-weight: bold; color: yellow;\">**Sequential**</p>\n",
    "<block style=\"color: yellow;\">\n",
    "bigcount = None<br>\n",
    "bigword = None<br>\n",
    "</block>\n",
    "\n",
    "<br>\n",
    "\n",
    "<p style=\"font-weight: bold; color: green;\">**Repeated**</p>\n",
    "<block style=\"color: green;\">\n",
    "for word,count in counts.items():<br>\n",
    "</block>\n",
    "\n",
    "<br>\n",
    "\n",
    "<p style=\"font-weight: bold; color: orange;\">**Conditional**</p>\n",
    "<block style=\"color: orange;\">\n",
    "  &nbsp;&nbsp;&nbsp;&nbsp;&nbsp;&nbsp;if bigcount is None or count > bigcount:<br>\n",
    "  &nbsp;&nbsp;&nbsp;&nbsp;&nbsp;&nbsp;&nbsp;&nbsp;&nbsp;&nbsp;&nbsp;&nbsp;bigword = word<br>\n",
    "  &nbsp;&nbsp;&nbsp;&nbsp;&nbsp;&nbsp;&nbsp;&nbsp;&nbsp;&nbsp;&nbsp;&nbsp;bigcount = count<br>\n",
    "</block>\n",
    "\n",
    "<br>\n",
    "\n",
    "<p style=\"font-weight: bold; color: yellow;\">**Sequential**</p>\n",
    "<block style=\"color: yellow;\">\n",
    "print(bigword, bigcount)<br>\n",
    "</block>\n",
    "</p>\n",
    "</body>"
   ]
  },
  {
   "cell_type": "markdown",
   "metadata": {},
   "source": [
    "<body>\n",
    "  <h3 style=\"color: wheat; text-align: center; font-family: 'Times New Roman', Times, serif; font-size: 30px; \">Chapter 2: Variables, Expressions, and Statements</h3>\n",
    "</body>"
   ]
  },
  {
   "cell_type": "markdown",
   "metadata": {},
   "source": [
    "<body>\n",
    "  <head>\n",
    "    <title>Learn Python</title>\n",
    "    <link rel=\"stylesheet\" href=\"./Resources/assets/style.css\">\n",
    "  </head>\n",
    "  <h3>Constants</h3>\n",
    "<list>\n",
    "<ul><li><span class=\"orng\">Fixed Values </span>Such as numbers, letters, and strings are called <span class=\"orng\">\"Constants\" </span>because their value does not change</li>\n",
    "<li>Numeric <span class=\"orng\">Constants </span>are integer type</li>\n",
    "<li>String <span class=\"orng\">Constants </span>use single quotes (') or double quotes (\")</li></ul>\n",
    "<pre>\n",
    "  >>> print(123)\n",
    "  123\n",
    "  >>> print(98.6)\n",
    "  98.6\n",
    "  >>> print('Hello')\n",
    "  Hello\n",
    "</pre>\n",
    "</list>\n",
    "</body>"
   ]
  },
  {
   "cell_type": "markdown",
   "metadata": {},
   "source": [
    "<body>\n",
    "  <head>\n",
    "    <title>Learn Python</title>\n",
    "    <link rel=\"stylesheet\" href=\"./Resources/assets/style.css\">\n",
    "  </head>\n",
    "  <h3>Variables</h3>\n",
    "<list>\n",
    "<ul>\n",
    "  <li>A <span class=\"grn\">variable </span> is a named place in the memory where a programmer can store data and later retrieve the data using the <span class=\"grn\">variable </span>name.</li>\n",
    "  <li>Programmers get to choose the names of the <span class=\"grn\">variable </strong></li>\n",
    "  <li>You can change the contents of a <span class=\"grn\">variable </span> in a later statement</li>\n",
    "  <pre>\n",
    "    x = 5\n",
    "    y = x + 5\n",
    "    x = 10\n",
    "  </pre>\n",
    "</ul>\n",
    "</list>\n",
    "</body>"
   ]
  },
  {
   "cell_type": "code",
   "execution_count": null,
   "metadata": {},
   "outputs": [],
   "source": [
    "x = 5\n",
    "print(x)"
   ]
  },
  {
   "cell_type": "code",
   "execution_count": null,
   "metadata": {},
   "outputs": [],
   "source": [
    "y = x + 5\n",
    "print(x)\n",
    "print(y)"
   ]
  },
  {
   "cell_type": "code",
   "execution_count": null,
   "metadata": {},
   "outputs": [],
   "source": [
    "x = 10\n",
    "print(x)\n",
    "print(y)"
   ]
  },
  {
   "cell_type": "code",
   "execution_count": null,
   "metadata": {},
   "outputs": [],
   "source": [
    "y = x + 5\n",
    "print(x)\n",
    "print(y)"
   ]
  },
  {
   "cell_type": "markdown",
   "metadata": {},
   "source": [
    "<body>\n",
    "  <head>\n",
    "    <title>Learn Python</title>\n",
    "    <link rel=\"stylesheet\" href=\"./Resources/assets/style.css\">\n",
    "  </head>\n",
    "  <h3>Python Variable Name Rules</h3>\n",
    "<list>\n",
    "<ul>\n",
    "  <li>Must start with a letter or underscore _</li>\n",
    "  <li>Must consist of letter, numbers, and underscores</li>\n",
    "  <li>Case Sensitive</li>\n",
    "  <li>Use camelCase while using a long variable name</li>\n",
    "</ul>\n",
    "</list>\n",
    "<p>&nbsp;&nbsp;&nbsp;&nbsp;<span style=\"color: lightgreen;\">Good : </span>num &nbsp;&nbsp;value &nbsp;&nbsp; data1 &nbsp;&nbsp; first_number <br>\n",
    "&nbsp;&nbsp;&nbsp;&nbsp;<span style=\"color: lightcoral;\">Bad : </span>123 &nbsp;&nbsp;12num &nbsp;&nbsp; #val &nbsp;&nbsp; var.12 <br>\n",
    "&nbsp;&nbsp;&nbsp;&nbsp;<span style=\"color: lightblue;\">Case Sensitive : </span>value &nbsp;&nbsp;Value &nbsp;&nbsp; VALUE </p>\n",
    "</body>"
   ]
  },
  {
   "cell_type": "code",
   "execution_count": null,
   "metadata": {},
   "outputs": [],
   "source": [
    "num = 100\n",
    "print(num)"
   ]
  },
  {
   "cell_type": "code",
   "execution_count": null,
   "metadata": {},
   "outputs": [],
   "source": [
    "123 = 100\n",
    "print(123)"
   ]
  },
  {
   "cell_type": "code",
   "execution_count": null,
   "metadata": {},
   "outputs": [],
   "source": [
    "value = 100\n",
    "print(VALUE)"
   ]
  },
  {
   "cell_type": "code",
   "execution_count": null,
   "metadata": {},
   "outputs": [],
   "source": [
    "12num = 100\n",
    "print(12num)"
   ]
  },
  {
   "cell_type": "code",
   "execution_count": null,
   "metadata": {},
   "outputs": [],
   "source": [
    "thisIsAVeryLargeVariable = 100\n",
    "print(thisIsAVeryLargeVariable)"
   ]
  },
  {
   "cell_type": "code",
   "execution_count": null,
   "metadata": {},
   "outputs": [],
   "source": [
    "thisisaverylargevariable = 100\n",
    "print(thisisaverylargevariable)"
   ]
  },
  {
   "cell_type": "markdown",
   "metadata": {},
   "source": [
    "<body>\n",
    "  <h3 style=\"color: tomato;\">Mnemonic Variable Names</h3>\n",
    "<list>\n",
    "<ul>\n",
    "<li>Since we are given a choice in how we choose our variable names, there is a  bit of \"Best practice\"</li>\n",
    "<li>We name variable to help us remember what we intend to store in them (<span style=\"color: yellow;\">\"mnemonic\"</span> = \"memory aid\")</li>\n",
    "<li>A well named variable helps users to find the actual use of it.</li>\n",
    "</ul>\n",
    "</list>\n",
    "</body>"
   ]
  },
  {
   "cell_type": "code",
   "execution_count": null,
   "metadata": {},
   "outputs": [],
   "source": [
    "sdfsdf8 = 35.0\n",
    "wadasdw3 = 12.50\n",
    "rf09fsasf = sdfsdf8 * wadasdw3\n",
    "print(rf09fsasf)"
   ]
  },
  {
   "cell_type": "code",
   "execution_count": null,
   "metadata": {},
   "outputs": [],
   "source": [
    "a = 35.0\n",
    "b = 12.50\n",
    "c = a * b\n",
    "print(c)"
   ]
  },
  {
   "cell_type": "code",
   "execution_count": null,
   "metadata": {},
   "outputs": [],
   "source": [
    "hours = 35.0\n",
    "rate = 12.50\n",
    "pay = hours * rate\n",
    "print(pay)"
   ]
  },
  {
   "cell_type": "markdown",
   "metadata": {},
   "source": [
    "<body>\n",
    "  <h3 style=\"color: tomato;\">Assignment Statements</h3>\n",
    "<list>\n",
    "<ul>\n",
    "<li>We Assign a value to a variable using the assignment statement (=)</li>\n",
    "<li>An assignment statement consists of an <span style=\"color: yellow;\">expression on the right-hand side </span>and a <span style=\"color: green;\">variable </span>on left to store the result</li>\n",
    "</ul>\n",
    "</list>\n",
    "<p style=\"color: green;\">A variable is a memory location used to store a value, For Eg: (<mark>0.6</mark>)</p>\n",
    "<img src=\"Resources/Flowcharts/assignment.png\" alt=\"assignment\" style=\"display: block; margin-left: auto; margin-right: auto;\">\n",
    "<p style=\"color: yellow;\">The right side is an expression</p>\n",
    "<p style=\"color: orange;\">The left side is a variable, once the expression is evaluated,</p>\n",
    "<p style=\"color: green;\">the result is stored (assigned to) in the variable x</p>\n",
    "</body>"
   ]
  },
  {
   "cell_type": "code",
   "execution_count": null,
   "metadata": {},
   "outputs": [],
   "source": [
    "x = 0.6\n",
    "x = 3.9 * x * (1 - x)\n",
    "print(x)"
   ]
  },
  {
   "cell_type": "markdown",
   "metadata": {},
   "source": [
    "<body>\n",
    "  <h3 style=\"color: tomato;\">Expressions</h3>\n",
    "  <p>Expressions are little more complex calculations that we can do on the right hand side of the assignment statement</p>\n",
    "  <h3 style=\"color: tomato;\">Numeric Expressions</h3>\n",
    "<list>\n",
    "  <ul>\n",
    "    <li>Because of the lack of mathematical symbols on computer keyboards - we use \"Computer-speak\" to express the classic math operator</li>\n",
    "    <li>We use the following symbols: +, -, *, /, %, **, //</li>\n",
    "    <li>Asterisk is multiplication</li>\n",
    "    <li>Exponentiation (raise to a power) uses double Asterisk</li>\n",
    "</list>\n",
    "<table border=\"2px\", align=\"center\">\n",
    "  <caption>Numeric Expressions</caption>\n",
    "  <tr style=\"font-size: larger; color: cyan;\">\n",
    "    <th>Operator</th>\n",
    "    <th>Description</th>\n",
    "  </tr>\n",
    "  <tr>\n",
    "    <td>+</td>\n",
    "    <td>Addition</td>\n",
    "  </tr>\n",
    "  <tr>\n",
    "    <td>-</td>\n",
    "    <td>Subtraction</td>\n",
    "  </tr>\n",
    "  <tr>\n",
    "    <td>*</td>\n",
    "    <td>Multiplication</td>\n",
    "  </tr>\n",
    "  <tr>\n",
    "    <td>/</td>\n",
    "    <td>Division</td>\n",
    "  </tr>\n",
    "  <tr>\n",
    "    <td>%</td>\n",
    "    <td>Modulus</td>\n",
    "  </tr>\n",
    "  <tr>\n",
    "    <td>**</td>\n",
    "    <td>Exponentiation</td>\n",
    "  </tr>\n",
    "  <tr>\n",
    "    <td>//</td>\n",
    "    <td>Floor Division</td>\n",
    "  </tr>\n",
    "</table>\n",
    "</body>"
   ]
  },
  {
   "cell_type": "code",
   "execution_count": null,
   "metadata": {},
   "outputs": [],
   "source": [
    "xx = 2\n",
    "xx = xx + 2\n",
    "print(xx)"
   ]
  },
  {
   "cell_type": "code",
   "execution_count": null,
   "metadata": {},
   "outputs": [],
   "source": [
    "yy = 440 * 12\n",
    "print(yy)"
   ]
  },
  {
   "cell_type": "code",
   "execution_count": null,
   "metadata": {},
   "outputs": [],
   "source": [
    "zz = yy / 1000\n",
    "print(zz)"
   ]
  },
  {
   "cell_type": "code",
   "execution_count": null,
   "metadata": {},
   "outputs": [],
   "source": [
    "jj = 23\n",
    "kk = jj % 5\n",
    "print(kk)"
   ]
  },
  {
   "cell_type": "code",
   "execution_count": null,
   "metadata": {},
   "outputs": [],
   "source": [
    "print(4 ** 3)"
   ]
  },
  {
   "cell_type": "markdown",
   "metadata": {},
   "source": [
    "<body>\n",
    "  <h3 style=\"color: tomato;\">Order of Evaluation</h3>\n",
    "<list>\n",
    "<ul>\n",
    "<li>When we string operators together - Python must know which one to do first</li>\n",
    "<li>This is called \"<span style=\"color: cyan;\">operator precedence</span>\"</li>\n",
    "<li>Which operator \"takes precedence\" over the others?</li>\n",
    "</ul>\n",
    "</list>\n",
    "</body>"
   ]
  },
  {
   "cell_type": "code",
   "execution_count": null,
   "metadata": {},
   "outputs": [],
   "source": [
    "X = 1 + 2 * 3 - 4 / 5 ** 6\n",
    "print(X)"
   ]
  },
  {
   "cell_type": "markdown",
   "metadata": {},
   "source": [
    "<body>\n",
    "  <h3 style=\"color: tomato;\">Operator Precedence Rules</h3>\n",
    "  <p>Highest precedence rule to lowest precedence rule:</p>\n",
    "<list>\n",
    "<ul>\n",
    "  <li>Parentheses are always respected</li>\n",
    "  <li>Exponentiation (raise to a power)</li>\n",
    "  <li>Multiplication, division, and remainder</li>\n",
    "  <li>Addition and subtraction</li>\n",
    "  <li>Left to right</li>\n",
    "</ul>\n",
    "</list>\n",
    "<img src=\"Resources/Flowcharts/precedencerule.png\" alt=\"assignment\" style=\"display: block; margin-left: auto; margin-right: auto;\">\n",
    "<pre>\n",
    "  >>> x = 1 + 2 ** 3 / 4 * 5\n",
    "  >>> print(x)\n",
    "  11.0\n",
    "  >>>\n",
    "</pre>\n",
    "<img src=\"Resources/Flowcharts/egexpression.png\" alt=\"egexpression\" style=\"display: block; margin-left: auto; margin-right: auto;\">\n",
    "<h4 style=\"color: tomato;\">Operator Precedence</h4>\n",
    "<list>\n",
    "<ul>\n",
    "<li>Remember the rules top to bottom</li>\n",
    "<li>When writing code - use Parentheses</li>\n",
    "<li>When writing code - keep mathematical expression simple enough that they are easy to understand</li>\n",
    "<li>Break long series of mathematical operations up to make them more clear</li>\n",
    "</ul>\n",
    "</list>\n",
    "</body>"
   ]
  },
  {
   "cell_type": "code",
   "execution_count": null,
   "metadata": {},
   "outputs": [],
   "source": [
    "x = 1 + 2 ** 3 / 4 * 5\n",
    "print(x)"
   ]
  },
  {
   "cell_type": "markdown",
   "metadata": {},
   "source": [
    "<body>\n",
    "  <head>\n",
    "    <title>Learn Python</title>\n",
    "    <link rel=\"stylesheet\" href=\"./Resources/assets/style.css\">\n",
    "  </head>\n",
    "  <h3>Python Datatype</h3>\n",
    "<h4>What does \"Type\" Mean?</h4>\n",
    "<list>\n",
    "  <ul>\n",
    "    <li>In Python Variables, literals, and constants have a <span id=\"grn\">\"Type\"</span></li>\n",
    "    <li>In Python, the type of a variable is determined by the value assigned to it</li>\n",
    "    <li>Python knows the <span id=\"grn\">difference</span> between an integer number and a string</li>\n",
    "    <li>For Eg. \"+\" means \"Addition\" if something is a number and \"concatenate\" if something is a string</li>\n",
    "    <li>We can ask python what type something is by using the <span id=\"lgrn\">type()</span> function</li>\n",
    "  </ul>\n",
    "</list>\n",
    "</body>"
   ]
  },
  {
   "cell_type": "code",
   "execution_count": null,
   "metadata": {},
   "outputs": [],
   "source": [
    "a = 1 + 4\n",
    "print(a)"
   ]
  },
  {
   "cell_type": "code",
   "execution_count": null,
   "metadata": {},
   "outputs": [],
   "source": [
    "b = 'hello' + 'earth'\n",
    "print(b)"
   ]
  },
  {
   "cell_type": "markdown",
   "metadata": {},
   "source": [
    "<body>\n",
    "  <head>\n",
    "    <title>Learn Python</title>\n",
    "    <link rel=\"stylesheet\" href=\"./Resources/assets/style.css\">\n",
    "  </head>\n",
    "  <h3>Several Types of Numbers</h3>\n",
    "<list>\n",
    "  <ul>\n",
    "    <li>Numbers have two main types</li>\n",
    "    <li><span id=\"grn\">Integers</span> are whole numbers: -14, -2, 0, 1, 100, 401233</li>\n",
    "    <li><span id=\"grn\">Floating Point Numbers</span> have decimal parts: -2.5, 0.0, 98.6, 14.0</li>\n",
    "    <li>There are other number types - they are variations of float and integer</li>\n",
    "  </ul>\n",
    "</list>\n",
    "<h4>Built-in Data Types in Python</h4>\n",
    "<list>\n",
    "  <ul>\n",
    "    <li>Types: memoryview, bytearray, bytes.</li>\n",
    "    <li>Boolean Type: bool.</li>\n",
    "    <li>Set Types: frozenset, set.</li>\n",
    "    <li>Mapping Type: dict.</li>\n",
    "    <li>Sequence Types: range, tuple, list.</li>\n",
    "    <li>Numeric Types: complex, float, int.</li>\n",
    "    <li>Text Type: str.</li>\n",
    "  </ul>\n",
    "</list>\n",
    "</body>"
   ]
  },
  {
   "cell_type": "markdown",
   "metadata": {},
   "source": [
    "<body>\n",
    "  <head>\n",
    "    <title>Learn Python</title>\n",
    "    <link rel=\"stylesheet\" href=\"./Resources/assets/style.css\">\n",
    "  </head>\n",
    "  <h3>Type Conversions</h3>\n",
    "  <list>\n",
    "    <ul>\n",
    "      <li>When you put an integer and floating point in  an expression, the integer is <span id=\"ylw\">implicitly</span> converted to a float</li>\n",
    "      <li>you can control this with the built-in functions int() and float()</li>\n",
    "    </ul>\n",
    "  </list>\n",
    "</body>"
   ]
  },
  {
   "cell_type": "code",
   "execution_count": null,
   "metadata": {},
   "outputs": [],
   "source": [
    "print(float(99) + 100)"
   ]
  },
  {
   "cell_type": "code",
   "execution_count": null,
   "metadata": {},
   "outputs": [],
   "source": [
    "i = 42\n",
    "type(i)"
   ]
  },
  {
   "cell_type": "code",
   "execution_count": null,
   "metadata": {},
   "outputs": [],
   "source": [
    "f = float(i)\n",
    "print(f)"
   ]
  },
  {
   "cell_type": "code",
   "execution_count": null,
   "metadata": {},
   "outputs": [],
   "source": [
    "type(f)"
   ]
  },
  {
   "cell_type": "markdown",
   "metadata": {},
   "source": [
    "<body>\n",
    "  <head>\n",
    "    <title>Learn Python</title>\n",
    "    <link rel=\"stylesheet\" href=\"./Resources/assets/style.css\">\n",
    "  </head>\n",
    "  <h3>Integer Division</h3>\n",
    "  <list>\n",
    "    <ul>\n",
    "      <li>Integer Division produces a floating point result</li>\n",
    "    </ul>\n",
    "  </list>\n",
    "</body>"
   ]
  },
  {
   "cell_type": "code",
   "execution_count": null,
   "metadata": {},
   "outputs": [],
   "source": [
    "print (10 / 2)"
   ]
  },
  {
   "cell_type": "code",
   "execution_count": null,
   "metadata": {},
   "outputs": [],
   "source": [
    "print(9/2)"
   ]
  },
  {
   "cell_type": "code",
   "execution_count": null,
   "metadata": {},
   "outputs": [],
   "source": [
    "print(10.0/2.0)"
   ]
  },
  {
   "cell_type": "markdown",
   "metadata": {},
   "source": [
    "<body>\n",
    "  <head>\n",
    "    <title>Learn Python</title>\n",
    "    <link rel=\"stylesheet\" href=\"./Resources/assets/style.css\">\n",
    "  </head>\n",
    "  <h3>String Conversion</h3>\n",
    "  <list>\n",
    "    <ul>\n",
    "      <li>You can also use <span id=\"ylw\">int()</span> and <span id=\"ylw\">float()</span> to convert between string and integers</li>\n",
    "      <li>You will get an <span id=\"lred\">error</span> if the string does not contain any numeric characters</li>\n",
    "    </ul>\n",
    "  </list>\n",
    "</body>"
   ]
  },
  {
   "cell_type": "code",
   "execution_count": null,
   "metadata": {},
   "outputs": [],
   "source": [
    "a = '123'\n",
    "type(a)"
   ]
  },
  {
   "cell_type": "code",
   "execution_count": null,
   "metadata": {},
   "outputs": [],
   "source": [
    "print(a + 1)"
   ]
  },
  {
   "cell_type": "code",
   "execution_count": null,
   "metadata": {},
   "outputs": [],
   "source": [
    "ia = int(a)\n",
    "type(ia)"
   ]
  },
  {
   "cell_type": "code",
   "execution_count": null,
   "metadata": {},
   "outputs": [],
   "source": [
    "print(ia + 1)"
   ]
  },
  {
   "cell_type": "code",
   "execution_count": null,
   "metadata": {},
   "outputs": [],
   "source": [
    "b = 'Hello'\n",
    "c = int(b)"
   ]
  },
  {
   "cell_type": "markdown",
   "metadata": {},
   "source": [
    "<body>\n",
    "  <head>\n",
    "    <title>Learn Python</title>\n",
    "    <link rel=\"stylesheet\" href=\"./Resources/assets/style.css\">\n",
    "  </head>\n",
    "  <h3>User Input</h3>\n",
    "  <list>\n",
    "    <ul>\n",
    "      <li>We can instruct Python to Pause and read data from the user using the <span id=\"ylw\">input()</span> function</li>\n",
    "      <li>The <span id=\"ylw\">input()</span> function returns a string</li>\n",
    "    </ul>\n",
    "  </list>\n",
    "</body>"
   ]
  },
  {
   "cell_type": "code",
   "execution_count": null,
   "metadata": {},
   "outputs": [],
   "source": [
    "name = input('What is your name? ')\n",
    "print('Hello', name)"
   ]
  },
  {
   "cell_type": "code",
   "execution_count": null,
   "metadata": {},
   "outputs": [],
   "source": [
    "x = input(\"Please enter a number: \")\n",
    "y = input(\"Please enter another number: \")\n",
    "\n",
    "z = x + y\n",
    "print(z)"
   ]
  },
  {
   "cell_type": "markdown",
   "metadata": {},
   "source": [
    "<body>\n",
    "  <head>\n",
    "    <title>Learn Python</title>\n",
    "    <link rel=\"stylesheet\" href=\"./Resources/assets/style.css\">\n",
    "  </head>\n",
    "  <h3>Converting User Input</h3>\n",
    "  <list>\n",
    "    <ul>\n",
    "      <li>If we want to read a number from the user, we must convert it from a string to a number using the type conversion function</li>\n",
    "    </ul>\n",
    "  </list>\n",
    "</body>"
   ]
  },
  {
   "cell_type": "code",
   "execution_count": null,
   "metadata": {},
   "outputs": [],
   "source": [
    "x = input(\"Please enter a number: \")\n",
    "y = input(\"Please enter another number: \")\n",
    "\n",
    "z = int(x) + int(y)\n",
    "print(z)"
   ]
  },
  {
   "cell_type": "markdown",
   "metadata": {},
   "source": [
    "<body>\n",
    "  <head>\n",
    "    <title>Learn Python</title>\n",
    "    <link rel=\"stylesheet\" href=\"./Resources/assets/style.css\">\n",
    "  </head>\n",
    "  <h3>Comments in Python</h3>\n",
    "  <list>\n",
    "    <ul>\n",
    "      <li>Anything after a <span id=\"ylw\"> # </span>is ignored by python</li>\n",
    "      <li>Why Comment?</li>\n",
    "      <li>Describe what is going to happen in a sequence of code</li>\n",
    "      <li>Document who wrote the code or other important information</li>\n",
    "      <li>Turn off a line of code - perhaps temporarily</li>\n",
    "    </ul>\n",
    "  </list>\n",
    "</body>"
   ]
  },
  {
   "cell_type": "code",
   "execution_count": null,
   "metadata": {},
   "outputs": [],
   "source": [
    "#Get input from user and store it in a variable X\n",
    "x = input(\"Please enter a number: \")\n",
    "#Get input from user and store it in a variable Y\n",
    "y = input(\"Please enter another number: \")\n",
    "#Convert X and Y to integers\n",
    "#Add X and Y and store it in a variable Z\n",
    "z = int(x) + int(y)\n",
    "#Print Z\n",
    "print(z)"
   ]
  }
 ],
 "metadata": {
  "interpreter": {
   "hash": "e6ae03c729e04e8067e0b3e8ce7d36cec35b58f3b0551f9ebfb7e07158aef986"
  },
  "kernelspec": {
   "display_name": "Python 3 (ipykernel)",
   "language": "python",
   "name": "python3"
  },
  "language_info": {
   "codemirror_mode": {
    "name": "ipython",
    "version": 3
   },
   "file_extension": ".py",
   "mimetype": "text/x-python",
   "name": "python",
   "nbconvert_exporter": "python",
   "pygments_lexer": "ipython3",
   "version": "3.10.4"
  }
 },
 "nbformat": 4,
 "nbformat_minor": 4
}

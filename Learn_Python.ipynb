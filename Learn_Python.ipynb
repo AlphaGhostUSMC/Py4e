{
 "cells": [
  {
   "cell_type": "markdown",
   "metadata": {},
   "source": [
    "<body>\n",
    "  <h3 style=\"color: wheat; text-align: center; font-family: 'Times New Roman', Times, serif; font-size: 30px;\">Chapter 1: An Intro to Python</h3>\n",
    "</body>"
   ]
  },
  {
   "cell_type": "markdown",
   "metadata": {},
   "source": [
    "<body>\n",
    "  <head>\n",
    "    <title>Learn Python</title>\n",
    "    <link rel=\"stylesheet\" href=\"./Resources/assets/style.css\">\n",
    "  </head>\n",
    "  <h3>Elements of Python</h3>\n",
    "<list>\n",
    "<ul><li><span class=\"orng\">Vocabulary / Words : </span>Variables and Reserved Words</li>\n",
    "<li><span class=\"orng\">Sentence Structure : </span>Valid syntax Patterns</li>\n",
    "<li><span class=\"orng\">Story Structure : </span>Constructing a program for a purpose</li></ul>\n",
    "</list>\n",
    "</body>"
   ]
  },
  {
   "cell_type": "markdown",
   "metadata": {},
   "source": [
    "<body>\n",
    "  <head>\n",
    "    <title>Learn Python</title>\n",
    "    <link rel=\"stylesheet\" href=\"./Resources/assets/style.css\">\n",
    "  </head>\n",
    "  <h3>Reserved Words</h3>\n",
    "<list>\n",
    "<ul><li>You cannot use <span class=\"ylw\">Reserved Words</span> as variable names / identifiers</li></ul>\n",
    "<p class=\"rwdsp\">\n",
    "False&nbsp;&nbsp;def&nbsp;&nbsp;if&nbsp;&nbsp;raise<br>\n",
    "None&nbsp;&nbsp;del&nbsp;&nbsp;import&nbsp;&nbsp;return<br>\n",
    "True&nbsp;&nbsp;elif&nbsp;&nbsp;in&nbsp;&nbsp;try<br>\n",
    "and&nbsp;&nbsp;else&nbsp;&nbsp;is&nbsp;&nbsp;while<br>\n",
    "as&nbsp;&nbsp;except&nbsp;&nbsp;lambda&nbsp;&nbsp;with<br>\n",
    "assert&nbsp;&nbsp;finally&nbsp;&nbsp;nonlocal&nbsp;&nbsp;yield<br>\n",
    "break&nbsp;&nbsp;for&nbsp;&nbsp;not<br>\t\n",
    "class&nbsp;&nbsp;from&nbsp;&nbsp;or<br>\t\n",
    "continue&nbsp;&nbsp;global&nbsp;&nbsp;pass<br>\n",
    "</p>\n",
    "</list>\n",
    "</body>"
   ]
  },
  {
   "cell_type": "code",
   "execution_count": null,
   "metadata": {},
   "outputs": [],
   "source": [
    "a = 1\n",
    "print(a) #correct"
   ]
  },
  {
   "cell_type": "code",
   "execution_count": null,
   "metadata": {},
   "outputs": [],
   "source": [
    "while = 1\n",
    "print(while) #incorrect use of reserved word\n",
    "\n",
    "if = 1\n",
    "print(if) #incorrect use of reserved word"
   ]
  },
  {
   "cell_type": "markdown",
   "metadata": {},
   "source": [
    "<body>\n",
    "  <head>\n",
    "    <title>Learn Python</title>\n",
    "    <link rel=\"stylesheet\" href=\"./Resources/assets/style.css\">\n",
    "  </head>\n",
    "  <h3>Sentences or Lines</h3>\n",
    "  <p><strong>\"x\"</strong> is a Variable <br>\n",
    "    <strong>\"=,+\"</strong> are Operators <br>\n",
    "    <strong>\"2\"</strong> is a constant <br>\n",
    "    <strong>\"print\"</strong> is a function (Also a Reserverd word) <br>\n",
    "  </p>\n",
    "</body>"
   ]
  },
  {
   "cell_type": "code",
   "execution_count": null,
   "metadata": {},
   "outputs": [],
   "source": [
    "x = 2 #Assignment statement\n",
    "x = 2 / 2 #Assignment with expression\n",
    "print(x) #Print statement\n"
   ]
  },
  {
   "cell_type": "markdown",
   "metadata": {},
   "source": [
    "<body>\n",
    "  <head>\n",
    "    <title>Learn Python</title>\n",
    "    <link rel=\"stylesheet\" href=\"./Resources/assets/style.css\">\n",
    "  </head>\n",
    "  <h3>Programming Paragraphs</h3>\n",
    "  <h4>Python Scripts</h4>\n",
    "  <list>\n",
    "    <ol>\n",
    "      <li class=\"pslst\">Interactive Python is good for experiment and programs of 3-4 lines long.</li>\n",
    "      <li class=\"pslst\">Most programs are much longer, so we type them into a file and tell Python to run the commands in the file.</li>\n",
    "      <li class=\"pslst\">In a sense, we are \"giving Python a script\"</li>\n",
    "      <li class=\"pslst\">As a convention, we add \".py\" as the suffix on the end of these files to indicate they contain Python.</li>\n",
    "    </ol>\n",
    "  </list>\n",
    "</body>"
   ]
  },
  {
   "cell_type": "markdown",
   "metadata": {},
   "source": [
    "<body>\n",
    "  <head>\n",
    "    <title>Learn Python</title>\n",
    "    <link rel=\"stylesheet\" href=\"./Resources/assets/style.css\">\n",
    "  </head>\n",
    "  <h3>Interactive Vs Script</h3>\n",
    "  <list>\n",
    "    <ul>\n",
    "      <header class=\"hdr\">Interactive</header>\n",
    "      <li>You type directly to Python one line at a time and it responds</li>\n",
    "      <header class=\"hdr\">Script</header>\n",
    "      <li>You enter a sequence of statements (lines) into a file using a text editor and tell Python to execute the statements in the file.</li>\n",
    "    </ul>\n",
    "  </list>\n",
    "</body>"
   ]
  },
  {
   "cell_type": "markdown",
   "metadata": {},
   "source": [
    "<body>\n",
    "  <head>\n",
    "    <title>Learn Python</title>\n",
    "    <link rel=\"stylesheet\" href=\"./Resources/assets/style.css\">\n",
    "  </head>\n",
    "  <h3>Syntax Errors</h3>\n",
    "  <p>Syntax errors are produced by Python when it is translating the source code into byte code. They usually indicate that there is something wrong with the syntax of the program. Example: Omitting the colon at the end of a def statement yields the somewhat redundant message SyntaxError: invalid syntax.</p>\n",
    "<list>\n",
    "  <ul>\n",
    "    <li>leaving out a keyword.</li>\n",
    "    <li>putting a keyword in the wrong place.</li>\n",
    "    <li>leaving out a symbol, such as a colon, comma or brackets.</li>\n",
    "    <li>misspelling a keyword.</li>\n",
    "    <li>incorrect indentation.</li>\n",
    "    <li>empty block.</li>\n",
    "  </ul>\n",
    "</list>\n",
    "</body>"
   ]
  },
  {
   "cell_type": "code",
   "execution_count": null,
   "metadata": {},
   "outputs": [],
   "source": [
    "x = 1\n",
    "if x > 0:\n",
    "  print(\"Hello\")\n"
   ]
  },
  {
   "cell_type": "markdown",
   "metadata": {},
   "source": [
    "<body>\n",
    "  <head>\n",
    "    <title>Learn Python</title>\n",
    "    <link rel=\"stylesheet\" href=\"./Resources/assets/style.css\">\n",
    "  </head>\n",
    "  <h3></font>Program Steps or Program flow</h3>\n",
    "  <list style=\"text-align: justify; font-size: 18px;\">\n",
    "    <ol>\n",
    "      <li>Like a installation instructions, a program is a <mark>sequence</mark> of steps to be done in order</li>\n",
    "      <li>Some steps are <mark>conditional</mark> - they may be skipped</li>\n",
    "      <li>Sometimes a step or group of steps is to be <mark>repeated</mark>.</li>\n",
    "      <li>Sometimes we store a set of steps to be used over and over as needed several places throughout the program.</li>\n",
    "    </ol>\n",
    "  </list>\n",
    "</body>"
   ]
  },
  {
   "cell_type": "markdown",
   "metadata": {},
   "source": [
    "<body>\n",
    "  <head>\n",
    "    <title>Learn Python</title>\n",
    "    <link rel=\"stylesheet\" href=\"./Resources/assets/style.css\">\n",
    "  </head>\n",
    "  <h3></font>Sequential Steps</h3>\n",
    "  <img src=\"Resources/Flowcharts/seqsteps.png\" alt=\"Sequential Steps\" style=\"display: block; margin-left: auto; margin-right: auto;\">\n",
    "  <p style=\"font-size: 18px; text-align: justify;\">\n",
    "    Sequential steps are <span class=\"grn\">step by step</span> execution of a program. They are used to show the flow of a program. it is kind of unintelligent execution of a program. \n",
    "  </p>\n",
    "</body>"
   ]
  },
  {
   "cell_type": "code",
   "execution_count": null,
   "metadata": {},
   "outputs": [],
   "source": [
    "x = 2\n",
    "print(x)\n",
    "x = x + 2\n",
    "print(x)"
   ]
  },
  {
   "cell_type": "markdown",
   "metadata": {},
   "source": [
    "<body>\n",
    "  <head>\n",
    "    <title>Learn Python</title>\n",
    "    <link rel=\"stylesheet\" href=\"./Resources/assets/style.css\">\n",
    "  </head>\n",
    "  <h3></font>Conditional Steps</h3>\n",
    "  <img src=\"Resources/Flowcharts/condsteps.png\" alt=\"Conditional Steps\" style=\"display: block; margin-left: auto; margin-right: auto;\">\n",
    "  <p style=\"font-size: 18px; text-align: justify;\">\n",
    "    Conditional steps are used to determine the next step in the process. They are used to determine the next step in the process based on the result of a previous step. For example, if the user has entered a valid email address, the next step would be to send the user an email with a link to reset their password. If the user has entered an invalid email address, the next step would be to display an error message.\n",
    "    Here we can make python to decide what to do based on the condition, We use the Reserved word <span style=\"color: yellow; font-size: 20px;\">if</span> this makes python code look intelligent</p>\n",
    "</body>"
   ]
  },
  {
   "cell_type": "code",
   "execution_count": null,
   "metadata": {},
   "outputs": [],
   "source": [
    "x = 2\n",
    "if x > 5:\n",
    "    print('Bigger')\n",
    "if x < 5:\n",
    "    print('Smaller')\n",
    "\n",
    "print('Done')"
   ]
  },
  {
   "cell_type": "markdown",
   "metadata": {},
   "source": [
    "<body>\n",
    "  <head>\n",
    "    <title>Learn Python</title>\n",
    "    <link rel=\"stylesheet\" href=\"./Resources/assets/style.css\">\n",
    "  </head>\n",
    "  <h3></font>Repeated Steps</h3>\n",
    "  <img src=\"Resources/Flowcharts/repsteps.png\" alt=\"Repeated Steps\" style=\"display: block; margin-left: auto; margin-right: auto;\">\n",
    "  <p style=\"font-size: 18px; text-align: justify;\">\n",
    "  Loops (Repeated Steps) are used to repeat a set of instructions a certain number of times. The number of times the loop is repeated is known as the loop's <span class=\"grn\">iteration count</span>. The loop's iteration count is set by the user. The loop's termination condition is set by the user. The loop's termination condition is checked at the end of each iteration. \n",
    "  </p>\n",
    "</body>"
   ]
  },
  {
   "cell_type": "code",
   "execution_count": null,
   "metadata": {},
   "outputs": [],
   "source": [
    "X = 5\n",
    "while X > 0:\n",
    "    print(X)\n",
    "    X = X - 1\n",
    "print(\"Done\")"
   ]
  },
  {
   "cell_type": "code",
   "execution_count": null,
   "metadata": {},
   "outputs": [],
   "source": [
    "print(\"Hello\")\n",
    "print(\"Hello\")\n",
    "print(\"Hello\")\n",
    "print(\"Hello\")\n",
    "print(\"Hello\")"
   ]
  },
  {
   "cell_type": "code",
   "execution_count": null,
   "metadata": {},
   "outputs": [],
   "source": [
    "for i in range(5):\n",
    "    print(\"Hello\")"
   ]
  },
  {
   "cell_type": "markdown",
   "metadata": {},
   "source": [
    "<body>\n",
    "  <head>\n",
    "    <title>Learn Python</title>\n",
    "    <link rel=\"stylesheet\" href=\"./Resources/assets/style.css\">\n",
    "  </head>\n",
    "  <h3>Python Story</h3>\n",
    "\n",
    " <block> \n",
    "  <p style=\"font-size: 18px; text-align: justify;\">\n",
    "    A Short python \"Story\" about how to count a file\n",
    "  </p>\n",
    "  <p style=\"font-size: 18px; text-align: justify;\">\n",
    "  </block>\n",
    "\n",
    "<br>\n",
    "\n",
    "<p style=\"font-weight: bold; color: yellow;\">**Sequential**</p>\n",
    "<block style=\"color: yellow;\"> \n",
    "  print = (\"Reading the file...\")<br>\n",
    "  file = open(\"Resources/docs/blockchain.txt\")<br>\n",
    "  counts = dict()<br>\n",
    "</block>\n",
    "\n",
    "<br>\n",
    "\n",
    "<p style=\"font-weight: bold; color: green;\">**Repeated**</p>\n",
    "<block style=\"color: green;\">\n",
    "for line in file:<br>\n",
    "&nbsp;&nbsp;&nbsp;&nbsp;&nbsp;&nbsp;words = line.split()<br>\n",
    "&nbsp;&nbsp;&nbsp;&nbsp;&nbsp;&nbsp;for word in words:<br>\n",
    "&nbsp;&nbsp;&nbsp;&nbsp;&nbsp;&nbsp;&nbsp;&nbsp;&nbsp;&nbsp;&nbsp;&nbsp;counts[word] = counts.get(word, 0) + 1<br>\n",
    "</block>\n",
    "\n",
    "<br>\n",
    "\n",
    "<p style=\"font-weight: bold; color: yellow;\">**Sequential**</p>\n",
    "<block style=\"color: yellow;\">\n",
    "bigcount = None<br>\n",
    "bigword = None<br>\n",
    "</block>\n",
    "\n",
    "<br>\n",
    "\n",
    "<p style=\"font-weight: bold; color: green;\">**Repeated**</p>\n",
    "<block style=\"color: green;\">\n",
    "for word,count in counts.items():<br>\n",
    "</block>\n",
    "\n",
    "<br>\n",
    "\n",
    "<p style=\"font-weight: bold; color: orange;\">**Conditional**</p>\n",
    "<block style=\"color: orange;\">\n",
    "  &nbsp;&nbsp;&nbsp;&nbsp;&nbsp;&nbsp;if bigcount is None or count > bigcount:<br>\n",
    "  &nbsp;&nbsp;&nbsp;&nbsp;&nbsp;&nbsp;&nbsp;&nbsp;&nbsp;&nbsp;&nbsp;&nbsp;bigword = word<br>\n",
    "  &nbsp;&nbsp;&nbsp;&nbsp;&nbsp;&nbsp;&nbsp;&nbsp;&nbsp;&nbsp;&nbsp;&nbsp;bigcount = count<br>\n",
    "</block>\n",
    "\n",
    "<br>\n",
    "\n",
    "<p style=\"font-weight: bold; color: yellow;\">**Sequential**</p>\n",
    "<block style=\"color: yellow;\">\n",
    "print(bigword, bigcount)<br>\n",
    "</block>\n",
    "</p>\n",
    "</body>"
   ]
  },
  {
   "cell_type": "markdown",
   "metadata": {},
   "source": [
    "<body>\n",
    "  <h3 style=\"color: wheat; text-align: center; font-family: 'Times New Roman', Times, serif; font-size: 30px; \">Chapter 2: Variables, Expressions, and Statements</h3>\n",
    "</body>"
   ]
  },
  {
   "cell_type": "markdown",
   "metadata": {},
   "source": [
    "<body>\n",
    "  <head>\n",
    "    <title>Learn Python</title>\n",
    "    <link rel=\"stylesheet\" href=\"./Resources/assets/style.css\">\n",
    "  </head>\n",
    "  <h3>Constants</h3>\n",
    "<list>\n",
    "<ul><li><span class=\"orng\">Fixed Values </span>Such as numbers, letters, and strings are called <span class=\"orng\">\"Constants\" </span>because their value does not change</li>\n",
    "<li>Numeric <span class=\"orng\">Constants </span>are integer type</li>\n",
    "<li>String <span class=\"orng\">Constants </span>use single quotes (') or double quotes (\")</li></ul>\n",
    "<pre>\n",
    "  >>> print(123)\n",
    "  123\n",
    "  >>> print(98.6)\n",
    "  98.6\n",
    "  >>> print('Hello')\n",
    "  Hello\n",
    "</pre>\n",
    "</list>\n",
    "</body>"
   ]
  },
  {
   "cell_type": "code",
   "execution_count": null,
   "metadata": {},
   "outputs": [],
   "source": [
    "print()"
   ]
  },
  {
   "cell_type": "markdown",
   "metadata": {},
   "source": [
    "<body>\n",
    "  <head>\n",
    "    <title>Learn Python</title>\n",
    "    <link rel=\"stylesheet\" href=\"./Resources/assets/style.css\">\n",
    "  </head>\n",
    "  <h3>Variables</h3>\n",
    "<list>\n",
    "<ul>\n",
    "  <li>A <span class=\"grn\">variable </span> is a named place in the memory where a programmer can store data and later retrieve the data using the <span class=\"grn\">variable </span>name.</li>\n",
    "  <li>Programmers get to choose the names of the <span class=\"grn\">variable </strong></li>\n",
    "  <li>You can change the contents of a <span class=\"grn\">variable </span> in a later statement</li>\n",
    "  <pre>\n",
    "    x = 5\n",
    "    y = x + 5\n",
    "    x = 10\n",
    "  </pre>\n",
    "</ul>\n",
    "</list>\n",
    "</body>"
   ]
  },
  {
   "cell_type": "code",
   "execution_count": null,
   "metadata": {},
   "outputs": [],
   "source": [
    "x = 5\n",
    "print(x)"
   ]
  },
  {
   "cell_type": "code",
   "execution_count": null,
   "metadata": {},
   "outputs": [],
   "source": [
    "y = x + 5\n",
    "print(x)\n",
    "print(y)"
   ]
  },
  {
   "cell_type": "code",
   "execution_count": null,
   "metadata": {},
   "outputs": [],
   "source": [
    "x = y\n",
    "print(x)\n",
    "print(y)"
   ]
  },
  {
   "cell_type": "code",
   "execution_count": null,
   "metadata": {},
   "outputs": [],
   "source": [
    "y = x + 5\n",
    "print(x)\n",
    "print(y)"
   ]
  },
  {
   "cell_type": "markdown",
   "metadata": {},
   "source": [
    "<body>\n",
    "  <head>\n",
    "    <title>Learn Python</title>\n",
    "    <link rel=\"stylesheet\" href=\"./Resources/assets/style.css\">\n",
    "  </head>\n",
    "  <h3>Python Variable Name Rules</h3>\n",
    "<list>\n",
    "<ul>\n",
    "  <li>Must start with a letter or underscore _</li>\n",
    "  <li>Must consist of letter, numbers, and underscores</li>\n",
    "  <li>Case Sensitive</li>\n",
    "  <li>Use camelCase while using a long variable name</li>\n",
    "</ul>\n",
    "</list>\n",
    "<p>&nbsp;&nbsp;&nbsp;&nbsp;<span style=\"color: lightgreen;\">Good : </span>num &nbsp;&nbsp;value &nbsp;&nbsp; data1 &nbsp;&nbsp; first_number <br>\n",
    "&nbsp;&nbsp;&nbsp;&nbsp;<span style=\"color: lightcoral;\">Bad : </span>123 &nbsp;&nbsp;12num &nbsp;&nbsp; #val &nbsp;&nbsp; var.12 <br>\n",
    "&nbsp;&nbsp;&nbsp;&nbsp;<span style=\"color: lightblue;\">Case Sensitive : </span>value &nbsp;&nbsp;Value &nbsp;&nbsp; VALUE </p>\n",
    "</body>"
   ]
  },
  {
   "cell_type": "code",
   "execution_count": null,
   "metadata": {},
   "outputs": [],
   "source": [
    "num = 100\n",
    "print(num)"
   ]
  },
  {
   "cell_type": "code",
   "execution_count": null,
   "metadata": {},
   "outputs": [],
   "source": [
    "_ = 15\n",
    "print(_)"
   ]
  },
  {
   "cell_type": "code",
   "execution_count": null,
   "metadata": {},
   "outputs": [],
   "source": [
    "dfgh123 = 100\n",
    "print(dfgh123)"
   ]
  },
  {
   "cell_type": "code",
   "execution_count": null,
   "metadata": {},
   "outputs": [],
   "source": [
    "value = 100\n",
    "print(value)"
   ]
  },
  {
   "cell_type": "code",
   "execution_count": null,
   "metadata": {},
   "outputs": [],
   "source": [
    "12num = 100\n",
    "print(12num)"
   ]
  },
  {
   "cell_type": "code",
   "execution_count": null,
   "metadata": {},
   "outputs": [],
   "source": [
    "this_Is_A_Very_LargeVariable = 100\n",
    "print(thisIsAVeryLargeVariable)"
   ]
  },
  {
   "cell_type": "code",
   "execution_count": null,
   "metadata": {},
   "outputs": [],
   "source": [
    "thisisaverylargevariable = 100\n",
    "print(thisisaverylargevariable)"
   ]
  },
  {
   "cell_type": "code",
   "execution_count": null,
   "metadata": {},
   "outputs": [],
   "source": [
    "thisIsAVeryLargeVariable = 200"
   ]
  },
  {
   "cell_type": "markdown",
   "metadata": {},
   "source": [
    "<body>\n",
    "  <head>\n",
    "    <title>Learn Python</title>\n",
    "    <link rel=\"stylesheet\" href=\"./Resources/assets/style.css\">\n",
    "  </head>\n",
    "  <h3>Mnemonic Variable Names</h3>\n",
    "<list>\n",
    "<ul>\n",
    "<li>Since we are given a choice in how we choose our variable names, there is a  bit of \"Best practice\"</li>\n",
    "<li>We name variable to help us remember what we intend to store in them (<span class=\"ylw\">\"mnemonic\"</span> = \"memory aid\")</li>\n",
    "<li>A well named variable helps users to find the actual use of it.</li>\n",
    "</ul>\n",
    "</list>\n",
    "</body>"
   ]
  },
  {
   "cell_type": "code",
   "execution_count": null,
   "metadata": {},
   "outputs": [],
   "source": [
    "sdfsdf8 = 35.0\n",
    "wadasdw3 = 12.50\n",
    "rf09fsasf = sdfsdf8 * wadasdw3\n",
    "print(rf09fsasf)"
   ]
  },
  {
   "cell_type": "code",
   "execution_count": null,
   "metadata": {},
   "outputs": [],
   "source": [
    "a = 35.0\n",
    "b = 12.50\n",
    "c = a * b\n",
    "print(c)"
   ]
  },
  {
   "cell_type": "code",
   "execution_count": null,
   "metadata": {},
   "outputs": [],
   "source": [
    "hours = 35.0\n",
    "rate = 12.50\n",
    "pay = hours * rate\n",
    "print(pay)"
   ]
  },
  {
   "cell_type": "markdown",
   "metadata": {},
   "source": [
    "<body>\n",
    "  <head>\n",
    "    <title>Learn Python</title>\n",
    "    <link rel=\"stylesheet\" href=\"./Resources/assets/style.css\">\n",
    "  </head>\n",
    "  <h3>Assignment Statements</h3>\n",
    "<list>\n",
    "<ul>\n",
    "<li>We Assign a value to a variable using the assignment statement (=)</li>\n",
    "<li>An assignment statement consists of an <span class=\"ylw\">expression on the right-hand side </span>and a <span class=\"grn\">variable </span>on left to store the result</li>\n",
    "</ul>\n",
    "</list>\n",
    "<p class=\"grn\">A variable is a memory location used to store a value, For Eg: (<mark>0.6</mark>)</p>\n",
    "<img src=\"Resources/Flowcharts/assignment.png\" alt=\"assignment\" style=\"display: block; margin-left: auto; margin-right: auto;\">\n",
    "<p style=\"color: yellow;\">The right side is an expression</p>\n",
    "<p style=\"color: orange;\">The left side is a variable, once the expression is evaluated,</p>\n",
    "<p style=\"color: green;\">the result is stored (assigned to) in the variable x</p>\n",
    "</body>"
   ]
  },
  {
   "cell_type": "code",
   "execution_count": null,
   "metadata": {},
   "outputs": [],
   "source": [
    "x = 0.6\n",
    "x = 3.9 * x * (1 - x)\n",
    "print(x)"
   ]
  },
  {
   "cell_type": "markdown",
   "metadata": {},
   "source": [
    "<body>\n",
    "  <head>\n",
    "    <title>Learn Python</title>\n",
    "    <link rel=\"stylesheet\" href=\"./Resources/assets/style.css\">\n",
    "  </head>\n",
    "  <h3>Expressions</h3>\n",
    "  <p>Expressions are little more complex calculations that we can do on the right hand side of the assignment statement</p>\n",
    "  <h3>Numeric Expressions</h3>\n",
    "<list>\n",
    "  <ul>\n",
    "    <li>Because of the lack of mathematical symbols on computer keyboards - we use \"Computer-speak\" to express the classic math operator</li>\n",
    "    <li>We use the following symbols: <span class=\"lgrn\">+, -, *, /, %, **, //</span></li>\n",
    "    <li>Asterisk is multiplication</li>\n",
    "    <li>Exponentiation (raise to a power) uses double Asterisk</li>\n",
    "</list>\n",
    "<table border=\"2px\", align=\"center\">\n",
    "  <caption>Numeric Expressions</caption>\n",
    "  <tr class=\"trhd\">\n",
    "    <th>Operator</th>\n",
    "    <th>Description</th>\n",
    "  </tr>\n",
    "  <tr>\n",
    "    <td>+</td>\n",
    "    <td>Addition</td>\n",
    "  </tr>\n",
    "  <tr>\n",
    "    <td>-</td>\n",
    "    <td>Subtraction</td>\n",
    "  </tr>\n",
    "  <tr>\n",
    "    <td>*</td>\n",
    "    <td>Multiplication</td>\n",
    "  </tr>\n",
    "  <tr>\n",
    "    <td>/</td>\n",
    "    <td>Division</td>\n",
    "  </tr>\n",
    "  <tr>\n",
    "    <td>%</td>\n",
    "    <td>Modulus</td>\n",
    "  </tr>\n",
    "  <tr>\n",
    "    <td>**</td>\n",
    "    <td>Exponentiation</td>\n",
    "  </tr>\n",
    "  <tr>\n",
    "    <td>//</td>\n",
    "    <td>Floor Division</td>\n",
    "  </tr>\n",
    "</table>\n",
    "</body>"
   ]
  },
  {
   "cell_type": "code",
   "execution_count": null,
   "metadata": {},
   "outputs": [],
   "source": [
    "xx = 2\n",
    "xx = xx + 2\n",
    "print(xx)"
   ]
  },
  {
   "cell_type": "code",
   "execution_count": null,
   "metadata": {},
   "outputs": [],
   "source": [
    "yy = 440 * 12\n",
    "print(yy)"
   ]
  },
  {
   "cell_type": "code",
   "execution_count": null,
   "metadata": {},
   "outputs": [],
   "source": [
    "zz = yy / 1000\n",
    "print(zz)"
   ]
  },
  {
   "cell_type": "code",
   "execution_count": null,
   "metadata": {},
   "outputs": [],
   "source": [
    "jj = 23\n",
    "kk = jj % 5\n",
    "print(kk)"
   ]
  },
  {
   "cell_type": "code",
   "execution_count": null,
   "metadata": {},
   "outputs": [],
   "source": [
    "print(4 ** 4)"
   ]
  },
  {
   "cell_type": "code",
   "execution_count": null,
   "metadata": {},
   "outputs": [],
   "source": [
    "print(9//2)"
   ]
  },
  {
   "cell_type": "markdown",
   "metadata": {},
   "source": [
    "<body>\n",
    "  <head>\n",
    "    <title>Learn Python</title>\n",
    "    <link rel=\"stylesheet\" href=\"./Resources/assets/style.css\">\n",
    "  </head>\n",
    "  <h3 style=\"color: tomato;\">Order of Evaluation</h3>\n",
    "<list>\n",
    "<ul>\n",
    "<li>When we string operators together - Python must know which one to do first</li>\n",
    "<li>This is called \"<span class=\"cyn\">operator precedence</span>\"</li>\n",
    "<li>Which operator \"takes precedence\" over the others?</li>\n",
    "</ul>\n",
    "</list>\n",
    "</body>"
   ]
  },
  {
   "cell_type": "code",
   "execution_count": null,
   "metadata": {},
   "outputs": [],
   "source": [
    "X = (1 + 2) / 3 - 4 * 5 ** 6\n",
    "print(X)"
   ]
  },
  {
   "cell_type": "markdown",
   "metadata": {},
   "source": [
    "<body>\n",
    "  <head>\n",
    "    <title>Learn Python</title>\n",
    "    <link rel=\"stylesheet\" href=\"./Resources/assets/style.css\">\n",
    "  </head>\n",
    "  <h3>Operator Precedence Rules</h3>\n",
    "  <p>Highest precedence rule to lowest precedence rule:</p>\n",
    "<list>\n",
    "<ul>\n",
    "  <li>Parentheses are always respected</li>\n",
    "  <li>Exponentiation (raise to a power)</li>\n",
    "  <li>Multiplication, division, and remainder</li>\n",
    "  <li>Addition and subtraction</li>\n",
    "  <li>Left to right</li>\n",
    "</ul>\n",
    "</list>\n",
    "<img src=\"Resources/Flowcharts/precedencerule.png\" alt=\"assignment\" style=\"display: block; margin-left: auto; margin-right: auto;\">\n",
    "<pre>\n",
    "  >>> x = 1 + 2 ** 3 / 4 * 5\n",
    "  >>> print(x)\n",
    "  11.0\n",
    "  >>>\n",
    "</pre>\n",
    "<img src=\"Resources/Flowcharts/egexpression.png\" alt=\"egexpression\" style=\"display: block; margin-left: auto; margin-right: auto;\">\n",
    "<h4>Operator Precedence</h4>\n",
    "<list>\n",
    "<ul>\n",
    "<li>Remember the rules top to bottom</li>\n",
    "<li>When writing code - use Parentheses</li>\n",
    "<li>When writing code - keep mathematical expression simple enough that they are easy to understand</li>\n",
    "<li>Break long series of mathematical operations up to make them more clear</li>\n",
    "</ul>\n",
    "</list>\n",
    "</body>"
   ]
  },
  {
   "cell_type": "code",
   "execution_count": null,
   "metadata": {},
   "outputs": [],
   "source": [
    "x = 1 + 2 ** 3 / 4 * 5\n",
    "print(x)"
   ]
  },
  {
   "cell_type": "markdown",
   "metadata": {},
   "source": [
    "<body>\n",
    "  <head>\n",
    "    <title>Learn Python</title>\n",
    "    <link rel=\"stylesheet\" href=\"./Resources/assets/style.css\">\n",
    "  </head>\n",
    "  <h3>Python Datatype</h3>\n",
    "<h4>What does \"Type\" Mean?</h4>\n",
    "<list>\n",
    "  <ul>\n",
    "    <li>In Python Variables, literals, and constants have a <span id=\"grn\">\"Type\"</span></li>\n",
    "    <li>In Python, the type of a variable is determined by the value assigned to it</li>\n",
    "    <li>Python knows the <span id=\"grn\">difference</span> between an integer number and a string</li>\n",
    "    <li>For Eg. \"+\" means \"Addition\" if something is a number and \"concatenate\" if something is a string</li>\n",
    "    <li>We can ask python what type something is by using the <span id=\"lgrn\">type()</span> function</li>\n",
    "  </ul>\n",
    "</list>\n",
    "</body>"
   ]
  },
  {
   "cell_type": "code",
   "execution_count": null,
   "metadata": {},
   "outputs": [],
   "source": [
    "a = 1 + 4\n",
    "print(a)"
   ]
  },
  {
   "cell_type": "code",
   "execution_count": null,
   "metadata": {},
   "outputs": [],
   "source": [
    "b = '1' + '4' \n",
    "print(b)"
   ]
  },
  {
   "cell_type": "code",
   "execution_count": null,
   "metadata": {},
   "outputs": [],
   "source": [
    "b = 3 + 'Batcha'\n",
    "print(b)"
   ]
  },
  {
   "cell_type": "code",
   "execution_count": null,
   "metadata": {},
   "outputs": [],
   "source": [
    "a = 3.2\n",
    "a"
   ]
  },
  {
   "cell_type": "markdown",
   "metadata": {},
   "source": [
    "<body>\n",
    "  <head>\n",
    "    <title>Learn Python</title>\n",
    "    <link rel=\"stylesheet\" href=\"./Resources/assets/style.css\">\n",
    "  </head>\n",
    "  <h3>Several Types of Numbers</h3>\n",
    "<list>\n",
    "  <ul>\n",
    "    <li>Numbers have two main types</li>\n",
    "    <li><span id=\"grn\">Integers</span> are whole numbers: -14, -2, 0, 1, 100, 401233</li>\n",
    "    <li><span id=\"grn\">Floating Point Numbers</span> have decimal parts: -2.5, 0.0, 98.6, 14.0</li>\n",
    "    <li>There are other number types - they are variations of float and integer</li>\n",
    "  </ul>\n",
    "</list>\n",
    "<h4>Built-in Data Types in Python</h4>\n",
    "<list>\n",
    "  <ul>\n",
    "    <li>Types: memoryview, bytearray, bytes.</li>\n",
    "    <li>Boolean Type: bool.</li>\n",
    "    <li>Set Types: frozenset, set.</li>\n",
    "    <li>Mapping Type: dict.</li>\n",
    "    <li>Sequence Types: range, tuple, list.</li>\n",
    "    <li>Numeric Types: complex, float, int.</li>\n",
    "    <li>Text Type: str.</li>\n",
    "  </ul>\n",
    "</list>\n",
    "</body>"
   ]
  },
  {
   "cell_type": "markdown",
   "metadata": {},
   "source": [
    "<body>\n",
    "  <head>\n",
    "    <title>Learn Python</title>\n",
    "    <link rel=\"stylesheet\" href=\"./Resources/assets/style.css\">\n",
    "  </head>\n",
    "  <h3>Type Conversions</h3>\n",
    "  <list>\n",
    "    <ul>\n",
    "      <li>When you put an integer and floating point in  an expression, the integer is <span id=\"ylw\">implicitly</span> converted to a float</li>\n",
    "      <li>you can control this with the built-in functions int() and float()</li>\n",
    "    </ul>\n",
    "  </list>\n",
    "</body>"
   ]
  },
  {
   "cell_type": "code",
   "execution_count": null,
   "metadata": {},
   "outputs": [],
   "source": [
    "print(99 + 100)"
   ]
  },
  {
   "cell_type": "code",
   "execution_count": null,
   "metadata": {},
   "outputs": [],
   "source": [
    "print(float(99) + 100)"
   ]
  },
  {
   "cell_type": "code",
   "execution_count": null,
   "metadata": {},
   "outputs": [],
   "source": [
    "i = 42\n",
    "type(i)"
   ]
  },
  {
   "cell_type": "code",
   "execution_count": null,
   "metadata": {},
   "outputs": [],
   "source": [
    "f = float(i)\n",
    "print(f)"
   ]
  },
  {
   "cell_type": "code",
   "execution_count": null,
   "metadata": {},
   "outputs": [],
   "source": [
    "type(f)"
   ]
  },
  {
   "cell_type": "code",
   "execution_count": null,
   "metadata": {},
   "outputs": [],
   "source": [
    "a = \"1\"\n",
    "type(a)"
   ]
  },
  {
   "cell_type": "code",
   "execution_count": null,
   "metadata": {},
   "outputs": [],
   "source": [
    "a = \"1\"\n",
    "b = 2\n",
    "\n",
    "print(float(a) + b)"
   ]
  },
  {
   "cell_type": "markdown",
   "metadata": {},
   "source": [
    "<body>\n",
    "  <head>\n",
    "    <title>Learn Python</title>\n",
    "    <link rel=\"stylesheet\" href=\"./Resources/assets/style.css\">\n",
    "  </head>\n",
    "  <h3>Integer Division</h3>\n",
    "  <list>\n",
    "    <ul>\n",
    "      <li>Integer Division produces a floating point result</li>\n",
    "    </ul>\n",
    "  </list>\n",
    "</body>"
   ]
  },
  {
   "cell_type": "code",
   "execution_count": null,
   "metadata": {},
   "outputs": [],
   "source": [
    "10/2"
   ]
  },
  {
   "cell_type": "code",
   "execution_count": null,
   "metadata": {},
   "outputs": [],
   "source": [
    "print (10 / 2)"
   ]
  },
  {
   "cell_type": "code",
   "execution_count": null,
   "metadata": {},
   "outputs": [],
   "source": [
    "print(9/2)"
   ]
  },
  {
   "cell_type": "code",
   "execution_count": null,
   "metadata": {},
   "outputs": [],
   "source": [
    "print(9.5/2.1)"
   ]
  },
  {
   "cell_type": "code",
   "execution_count": null,
   "metadata": {},
   "outputs": [],
   "source": [
    "print(10.0/2)"
   ]
  },
  {
   "cell_type": "markdown",
   "metadata": {},
   "source": [
    "<body>\n",
    "  <head>\n",
    "    <title>Learn Python</title>\n",
    "    <link rel=\"stylesheet\" href=\"./Resources/assets/style.css\">\n",
    "  </head>\n",
    "  <h3>String Conversion</h3>\n",
    "  <list>\n",
    "    <ul>\n",
    "      <li>You can also use <span id=\"ylw\">int()</span> and <span id=\"ylw\">float()</span> to convert between string and integers</li>\n",
    "      <li>You will get an <span id=\"lred\">error</span> if the string does not contain any numeric characters</li>\n",
    "    </ul>\n",
    "  </list>\n",
    "</body>"
   ]
  },
  {
   "cell_type": "code",
   "execution_count": null,
   "metadata": {},
   "outputs": [],
   "source": [
    "a = '123'\n",
    "type(a)"
   ]
  },
  {
   "cell_type": "code",
   "execution_count": null,
   "metadata": {},
   "outputs": [],
   "source": [
    "print(a + 1)"
   ]
  },
  {
   "cell_type": "code",
   "execution_count": null,
   "metadata": {},
   "outputs": [],
   "source": [
    "a = int(a)\n",
    "type(a)"
   ]
  },
  {
   "cell_type": "code",
   "execution_count": null,
   "metadata": {},
   "outputs": [],
   "source": [
    "print(a + 1)"
   ]
  },
  {
   "cell_type": "code",
   "execution_count": null,
   "metadata": {},
   "outputs": [],
   "source": [
    "b = 'Hello'\n",
    "c = int(b)"
   ]
  },
  {
   "cell_type": "markdown",
   "metadata": {},
   "source": [
    "<body>\n",
    "  <head>\n",
    "    <title>Learn Python</title>\n",
    "    <link rel=\"stylesheet\" href=\"./Resources/assets/style.css\">\n",
    "  </head>\n",
    "  <h3>User Input</h3>\n",
    "  <list>\n",
    "    <ul>\n",
    "      <li>We can instruct Python to Pause and read data from the user using the <span id=\"ylw\">input()</span> function</li>\n",
    "      <li>The <span id=\"ylw\">input()</span> function returns a string</li>\n",
    "    </ul>\n",
    "  </list>\n",
    "</body>"
   ]
  },
  {
   "cell_type": "code",
   "execution_count": null,
   "metadata": {},
   "outputs": [],
   "source": [
    "vari = float(input())"
   ]
  },
  {
   "cell_type": "code",
   "execution_count": null,
   "metadata": {},
   "outputs": [],
   "source": [
    "type(vari)"
   ]
  },
  {
   "cell_type": "code",
   "execution_count": null,
   "metadata": {},
   "outputs": [],
   "source": [
    "# name = 'Bob'\n",
    "# print('Hello', name)\n",
    "\n",
    "name = input(\"What is your name? \")\n",
    "print('Hello', name)"
   ]
  },
  {
   "cell_type": "code",
   "execution_count": null,
   "metadata": {},
   "outputs": [],
   "source": [
    "x = input(\"Please enter a number: \")\n",
    "y = input(\"Please enter another number: \")\n",
    "\n",
    "z = x + y\n",
    "print(z)"
   ]
  },
  {
   "cell_type": "markdown",
   "metadata": {},
   "source": [
    "<body>\n",
    "  <head>\n",
    "    <title>Learn Python</title>\n",
    "    <link rel=\"stylesheet\" href=\"./Resources/assets/style.css\">\n",
    "  </head>\n",
    "  <h3>Converting User Input</h3>\n",
    "  <list>\n",
    "    <ul>\n",
    "      <li>If we want to read a number from the user, we must convert it from a string to a number using the type conversion function</li>\n",
    "    </ul>\n",
    "  </list>\n",
    "</body>"
   ]
  },
  {
   "cell_type": "code",
   "execution_count": null,
   "metadata": {},
   "outputs": [],
   "source": [
    "x = input(\"Please enter a number: \")\n",
    "y = input(\"Please enter another number: \")\n",
    "\n",
    "z = x + y\n",
    "print(z)"
   ]
  },
  {
   "cell_type": "code",
   "execution_count": null,
   "metadata": {},
   "outputs": [],
   "source": [
    "x = int(input(\"Please enter a number: \"))\n",
    "y = int(input(\"Please enter another number: \"))\n",
    "\n",
    "z = x + y\n",
    "print(z)\n"
   ]
  },
  {
   "cell_type": "code",
   "execution_count": null,
   "metadata": {},
   "outputs": [],
   "source": [
    "x = input(\"Please enter a number: \")\n",
    "y = input(\"Please enter another number: \")\n",
    "\n",
    "z = int(x) + int(y)\n",
    "print(z)"
   ]
  },
  {
   "cell_type": "markdown",
   "metadata": {},
   "source": [
    "<body>\n",
    "  <head>\n",
    "    <title>Learn Python</title>\n",
    "    <link rel=\"stylesheet\" href=\"./Resources/assets/style.css\">\n",
    "  </head>\n",
    "  <h3>Comments in Python</h3>\n",
    "  <list>\n",
    "    <ul>\n",
    "      <li>Anything after a <span id=\"ylw\"> # </span>is ignored by python</li>\n",
    "      <li>Why Comment?</li>\n",
    "      <li>Describe what is going to happen in a sequence of code</li>\n",
    "      <li>Document who wrote the code or other important information</li>\n",
    "      <li>Turn off a line of code - perhaps temporarily</li>\n",
    "    </ul>\n",
    "  </list>\n",
    "</body>"
   ]
  },
  {
   "cell_type": "code",
   "execution_count": null,
   "metadata": {},
   "outputs": [],
   "source": [
    "# get input from user and store it in a variable x\n",
    "x = input(\"please enter a number: \")\n",
    "# get input from user and store it in a variable y\n",
    "y = input(\"please enter another number: \")\n",
    "# convert x and y to integers\n",
    "# add x and y and store it in a variable z\n",
    "z = int(x) + int(y)\n",
    "# print z\n",
    "print(z)"
   ]
  },
  {
   "cell_type": "markdown",
   "metadata": {},
   "source": [
    "<body>\n",
    "  <h3 style=\"color: wheat; text-align: center; font-family: 'Times New Roman', Times, serif; font-size: 30px;\">Chapter 3: Conditional Execution</h3>\n",
    "</body>"
   ]
  },
  {
   "cell_type": "markdown",
   "metadata": {},
   "source": [
    "<body>\n",
    "  <head>\n",
    "    <title>Learn Python</title>\n",
    "    <link rel=\"stylesheet\" href=\"./Resources/assets/style.css\">\n",
    "  </head>\n",
    "  <h3>Conditional Steps</h3>\n",
    "  <img src=\"Resources/Flowcharts/ifcond.png\" alt=\"Conditional Steps\">\n",
    "</body>"
   ]
  },
  {
   "cell_type": "code",
   "execution_count": null,
   "metadata": {},
   "outputs": [],
   "source": [
    "x = 15\n",
    "if x > 25:\n",
    "    print(\"Small\")\n",
    "    print(\"Hello\")\n",
    "print(\"Done\")\n"
   ]
  },
  {
   "cell_type": "markdown",
   "metadata": {},
   "source": [
    "<body>\n",
    "  <head>\n",
    "    <title>Learn Python</title>\n",
    "    <link rel=\"stylesheet\" href=\"./Resources/assets/style.css\">\n",
    "  </head>\n",
    "  <h3>Comparison Operators</h3>\n",
    "<list>\n",
    "  <ul>\n",
    "    <li><span class=\"ylw\">Boolean expressions</span> ask a question and produce a Yes or No Result which we use to control program flow</li>\n",
    "    <li><span class=\"ylw\">Boolean expressions</span> using <span class=\"cyn\">comparison Operator</span> to evaluate True / False or Yes/No</li>\n",
    "    <li>Comparison operators look at variables but do not change the variables</li>\n",
    "  </ul>\n",
    "</list>\n",
    "<br>\n",
    "<br>\n",
    "<strong class=\"orng\">Remember : '=' is used for assignment</strong>\n",
    "<table border=\"2px\", align=\"center\">\n",
    "  <caption>Comparison Operators</caption>\n",
    "  <tr>\n",
    "    <th class=\"cyn\">Operator</th>\n",
    "    <th class=\"ylw\">Meaning</th>\n",
    "  </tr>\n",
    "  <tr>\n",
    "    <td class=\"cyn\"><</td>\n",
    "    <td>Less Than</td>\n",
    "  </tr>\n",
    "  <tr>\n",
    "    <td class=\"cyn\"><=</td>\n",
    "    <td>Less than or Equal to</td>\n",
    "  </tr>\n",
    "  <tr>\n",
    "    <td class=\"cyn\">==</td>\n",
    "    <td>Equal to</td>\n",
    "  </tr>\n",
    "  <tr>\n",
    "    <td class=\"cyn\">>=</td>\n",
    "    <td>Greater than or Equal to</td>\n",
    "  </tr>\n",
    "  <tr>\n",
    "    <td class=\"cyn\">></td>\n",
    "    <td>Greater than</td>\n",
    "  </tr>\n",
    "  <tr>\n",
    "    <td class=\"cyn\">!=</td>\n",
    "    <td>Not Equal to</td>\n",
    "  </tr>\n",
    "</table>\n",
    "</body>"
   ]
  },
  {
   "cell_type": "code",
   "execution_count": null,
   "metadata": {},
   "outputs": [],
   "source": [
    "x = 5\n",
    "if x == 5:\n",
    "    print(\"Equal to 5\") "
   ]
  },
  {
   "cell_type": "code",
   "execution_count": null,
   "metadata": {},
   "outputs": [],
   "source": [
    "x == 6"
   ]
  },
  {
   "cell_type": "code",
   "execution_count": null,
   "metadata": {},
   "outputs": [],
   "source": [
    "if x > 4:\n",
    "    print(\"Greater than 4\")"
   ]
  },
  {
   "cell_type": "code",
   "execution_count": null,
   "metadata": {},
   "outputs": [],
   "source": [
    "if x >= 5:\n",
    "    print(\"Greater than or equal to 5\") "
   ]
  },
  {
   "cell_type": "code",
   "execution_count": null,
   "metadata": {},
   "outputs": [],
   "source": [
    "if x < 6:\n",
    "    print(\"Less than 6\")"
   ]
  },
  {
   "cell_type": "code",
   "execution_count": null,
   "metadata": {},
   "outputs": [],
   "source": [
    "if x <= 5:\n",
    "    print(\"Less than or equal to 5\")"
   ]
  },
  {
   "cell_type": "code",
   "execution_count": null,
   "metadata": {},
   "outputs": [],
   "source": [
    "if x != 5:\n",
    "    print(\"Not equal to 6\")"
   ]
  },
  {
   "cell_type": "code",
   "execution_count": null,
   "metadata": {},
   "outputs": [],
   "source": [
    "1 == 0"
   ]
  },
  {
   "cell_type": "markdown",
   "metadata": {},
   "source": [
    "<body>\n",
    "  <head>\n",
    "    <title>Learn Python</title>\n",
    "    <link rel=\"stylesheet\" href=\"./Resources/assets/style.css\">\n",
    "  </head>\n",
    "  <h3>One-Way Decisions</h3>\n",
    "  <img src=\"Resources/Flowcharts/owd.png\" alt=\"owd\">\n",
    "</body>"
   ]
  },
  {
   "cell_type": "code",
   "execution_count": null,
   "metadata": {},
   "outputs": [],
   "source": [
    "x = 5\n",
    "\n",
    "if x == 6:\n",
    "    print(\"Is Equal\")\n",
    "\n",
    "print(\"hello\")\n",
    "\n",
    "print(\"Not Equal\")"
   ]
  },
  {
   "cell_type": "markdown",
   "metadata": {},
   "source": [
    "<body>\n",
    "  <head>\n",
    "    <title>Learn Python</title>\n",
    "    <link rel=\"stylesheet\" href=\"./Resources/assets/style.css\">\n",
    "  </head>\n",
    "  <h3>Indentation</h3>\n",
    "  <list>\n",
    "    <ul>\n",
    "      <li><span class=\"orng\">Increase indent</span> after an <span class=\"ylw\"> if</span> statement or <span class=\"ylw\"> for</span> statement (after :)</li>\n",
    "      <li><span class=\"orng\">Maintain indent</span> to indicate the <span class=\"orng\"> scope</span> of the block (which lines are affected by the <span class=\"ylw\"> if/for</span>)</li>\n",
    "      <li><span class=\"orng\">Reduce indent</span> back to the level of the <span class=\"ylw\"> if</span> statement or <span class=\"ylw\"> for</span> statement to indicate the end of the block</li>\n",
    "      <li><span class=\"ylw\">Blank lines</span> are ignored - they do not affect <span class=\"orng\">indentation</span></li>\n",
    "      <li><span class=\"ylw\">Comments</span> on a line by themselves are ignored with regards to <span class=\"orng\"> indentation</span></li>\n",
    "    </ul>\n",
    "  </list>\n",
    "</body>"
   ]
  },
  {
   "cell_type": "markdown",
   "metadata": {},
   "source": [
    "<body>\n",
    "  <head>\n",
    "    <title>Learn Python</title>\n",
    "    <link rel=\"stylesheet\" href=\"./Resources/assets/style.css\">\n",
    "  </head>\n",
    "  <h3>Two-Way Decisions</h3>\n",
    "  <list>\n",
    "    <ul>\n",
    "      <li>Sometimes we want to do thing if a logical expressions is true and something else if the expression is false</li>\n",
    "      <li>It is like a fork in the road - we must choose <span class=\"ylw\">one or the other</span> path but not both</li>\n",
    "      <li>The Syntax we use for this is <span class=\"orng\">if then else</span></li>\n",
    "    </ul>\n",
    "  </list>\n",
    "  <img src=\"Resources/Flowcharts/twd.png\" alt=\"twd\">\n",
    "</body>"
   ]
  },
  {
   "cell_type": "code",
   "execution_count": null,
   "metadata": {},
   "outputs": [],
   "source": [
    "x = 5\n",
    "\n",
    "if x > 10:\n",
    "    print(\"Bigger\")\n",
    "else:\n",
    "    print(\"!Not Bigger\")\n",
    "\n",
    "print(\"Done\")"
   ]
  },
  {
   "cell_type": "markdown",
   "metadata": {},
   "source": [
    "<body>\n",
    "  <head>\n",
    "    <title>Learn Python</title>\n",
    "    <link rel=\"stylesheet\" href=\"./Resources/assets/style.css\">\n",
    "  </head>\n",
    "  <h3>Multi-Way Decisions</h3>\n",
    "  <list>\n",
    "    <ul>\n",
    "      <li>This form is used to set off any number of mutually exclusive code blocks</li>\n",
    "      <li>Python will evaluate each condition in turn looking for the first one that is true\n",
    "      <li> If a true condition is found, the statements indented under that condition are executed, and control passes to the next statement after the entire <span class=\"grn\">if-elif-else</span></li>\n",
    "      <li>If none of the conditions are true, the statements under the else are performed</li>\n",
    "      <li>The else clause is optional; if omitted, it is possible that no indented statement block will be executed.</li>\n",
    "      </li>\n",
    "    </ul>\n",
    "  </list>\n",
    "  <img src=\"Resources/Flowcharts/mwd.png\" alt=\"mwd\">\n",
    "</body>"
   ]
  },
  {
   "cell_type": "code",
   "execution_count": null,
   "metadata": {},
   "outputs": [],
   "source": [
    "x = 5\n",
    "if x < 2:\n",
    "    print(\"Small\")\n",
    "elif x > 4:\n",
    "    print(\"Medium\")\n",
    "else:\n",
    "    print(\"Large\")\n",
    "\n",
    "print(\"Done\")"
   ]
  },
  {
   "cell_type": "code",
   "execution_count": null,
   "metadata": {},
   "outputs": [],
   "source": [
    "x = 5\n",
    "if x < 2:\n",
    "    print(\"Small\")\n",
    "if x > 2 and x < 6:\n",
    "    print(\"Medium\")\n",
    "if x > 6:\n",
    "    print(\"Big\")"
   ]
  },
  {
   "cell_type": "code",
   "execution_count": null,
   "metadata": {},
   "outputs": [],
   "source": [
    "x = 5"
   ]
  },
  {
   "cell_type": "markdown",
   "metadata": {},
   "source": [
    "<body>\n",
    "  <head>\n",
    "    <title>Learn Python</title>\n",
    "    <link rel=\"stylesheet\" href=\"./Resources/assets/style.css\">\n",
    "  </head>\n",
    "  <h3>Nested Condition</h3>\n",
    "  <list>\n",
    "    <ul>\n",
    "      <li>A nested conditional statement is an if or if else statement inside another if else statement</li>\n",
    "    </ul>\n",
    "  </list>\n",
    "  <img src=\"Resources/Flowcharts/Nestedif.png\" alt=\"Nestedif\">\n",
    "</body>"
   ]
  },
  {
   "cell_type": "code",
   "execution_count": null,
   "metadata": {},
   "outputs": [],
   "source": [
    "x = 10\n",
    "if x == 5:\n",
    "    print(\"More than 1\")\n",
    "    if x == 10:\n",
    "        print(\"More than 2\")\n",
    "elif x < 15:\n",
    "        print(\"Less than 100\")\n",
    "        if x == 12:\n",
    "            print(\"Less than 10\")\n",
    "print(\"Done\")"
   ]
  },
  {
   "cell_type": "markdown",
   "metadata": {},
   "source": [
    "<body>\n",
    "  <head>\n",
    "    <title>Learn Python</title>\n",
    "    <link rel=\"stylesheet\" href=\"./Resources/assets/style.css\">\n",
    "  </head>\n",
    "  <h3>The try / except Structure</h3>\n",
    "  <list>\n",
    "    <ul>\n",
    "      <li><p>You surround a dangerous section of code with <span class=\"grn\">try </span>and <span class=\"orng\">except</p></span></li>\n",
    "      <li><p>if the code in the <span class=\"grn\">try </span>works - the <span class=\"orng\">except</span> is skipped</p></li>\n",
    "      <li><p>if the code in the <span class=\"grn\">try </span>fails - it jumps to <span class=\"orng\">except </span> section</p></li>\n",
    "    </ul>\n",
    "  </list>\n",
    "</body>"
   ]
  },
  {
   "cell_type": "code",
   "execution_count": null,
   "metadata": {},
   "outputs": [],
   "source": [
    "numu = \"ten\"\n",
    "num1 =  int(numu)\n",
    "\n",
    "print(num1)"
   ]
  },
  {
   "cell_type": "code",
   "execution_count": null,
   "metadata": {},
   "outputs": [],
   "source": [
    "Number = \"1k\"\n",
    "\n",
    "try:\n",
    "    num = int(Number)\n",
    "    print('This is Number', num)\n",
    "except:\n",
    "    print(\"That's not a number\")"
   ]
  },
  {
   "cell_type": "code",
   "execution_count": null,
   "metadata": {},
   "outputs": [],
   "source": [
    "number = \"One\"\n",
    "num = int(number)\n",
    "print(num)\n",
    "\n",
    "# num2 = \"1\"\n",
    "# num3 = int(num2)\n",
    "# print(num3)"
   ]
  },
  {
   "cell_type": "code",
   "execution_count": null,
   "metadata": {},
   "outputs": [],
   "source": [
    "name1 = input(\"Enter a number: \")\n",
    "try:\n",
    "    print(num)\n",
    "except:\n",
    "    print(\"Error, Please Enter a numerical value\")\n",
    "finally:\n",
    "    print(\"Finally\")"
   ]
  },
  {
   "cell_type": "code",
   "execution_count": null,
   "metadata": {},
   "outputs": [],
   "source": [
    "while True:\n",
    "    try:\n",
    "        num1 = int(input(\"Please enter the first number: \"))\n",
    "        break   \n",
    "    except ValueError:\n",
    "        print(\"Oops!  That was no valid number.  Try again...\")\n",
    "\n",
    "print(\"The number is\", num1)"
   ]
  },
  {
   "cell_type": "markdown",
   "metadata": {},
   "source": [
    "<body>\n",
    "  <h3 style=\"color: wheat; text-align: center; font-family: 'Times New Roman', Times, serif; font-size: 30px;\">Chapter 4: Functions</h3>\n",
    "</body>"
   ]
  },
  {
   "cell_type": "markdown",
   "metadata": {},
   "source": [
    "<body>\n",
    "  <head>\n",
    "    <title>Learn Python</title>\n",
    "    <link rel=\"stylesheet\" href=\"./Resources/assets/style.css\">\n",
    "  </head>\n",
    "  <h3>Stored (and reused) Steps</h3>\n",
    "  <p> We call these reusable piece of code \"functions\"</p>\n",
    "</body>"
   ]
  },
  {
   "cell_type": "code",
   "execution_count": null,
   "metadata": {},
   "outputs": [],
   "source": [
    "def name():\n",
    "    print(\"Bob\")"
   ]
  },
  {
   "cell_type": "code",
   "execution_count": null,
   "metadata": {},
   "outputs": [],
   "source": [
    "name()"
   ]
  },
  {
   "cell_type": "markdown",
   "metadata": {},
   "source": [
    "<body>\n",
    "  <head>\n",
    "    <title>Learn Python</title>\n",
    "    <link rel=\"stylesheet\" href=\"./Resources/assets/style.css\">\n",
    "  </head>\n",
    "  <h3>Python Functions</h3>\n",
    "  <list>\n",
    "    <ul>\n",
    "      <li><p>There are two kinds of functions in Python.</p></li>\n",
    "      <li><p><span class=\"grn\">Built-in functions </span>that are provided as part of Python like - <span class=\"lgrn\">print(), input(), type(), float(), int()...</span></p></li>\n",
    "      <li><p><span class=\"grn\">Functions that we define ourselves </span>and then we use.</p></li>\n",
    "      <li><p>We treat the built-in function names as a <span class=\"ylw\">reserved words </span>(i.e., we avoid them as variable names)</p></li>\n",
    "    </ul>\n",
    "  </list>\n",
    "</body>"
   ]
  },
  {
   "cell_type": "markdown",
   "metadata": {},
   "source": [
    "<body>\n",
    "  <head>\n",
    "    <title>Learn Python</title>\n",
    "    <link rel=\"stylesheet\" href=\"./Resources/assets/style.css\">\n",
    "  </head>\n",
    "  <h3>Function Definition</h3>\n",
    "  <list>\n",
    "    <ul>\n",
    "      <li><p>In Python a <span class=\"grn\">function </span>is some reusable code that takes <span class=\"orng\"> arguments</span>(s) as input, does some computation, and then returns a result or results</p></li>\n",
    "      <li><p>We define a <span class=\"grn\">function </span> using the <span class=\"ylw\">def </span> reserved word</p></li>\n",
    "      <li><p>We call/invoke the <span class=\"grn\">function </span>by using the function name, parentheses, and <span class=\"orng\">arguments </span>in an expression</p></li>\n",
    "    </ul>\n",
    "  </list>\n",
    "</body>"
   ]
  },
  {
   "cell_type": "code",
   "execution_count": null,
   "metadata": {},
   "outputs": [],
   "source": [
    "# Max and Min function\n",
    "\n",
    "a = (12,15, 36, 7, 9, 10, 85, 23, 45, 67, 89, 100)\n",
    "#max(a)\n",
    "min(a)\n",
    "\n"
   ]
  },
  {
   "cell_type": "code",
   "execution_count": null,
   "metadata": {},
   "outputs": [],
   "source": [
    "# bigword = max('Astez')\n",
    "# print(bigword)\n",
    "\n",
    "smallword = min('Astez')\n",
    "print(smallword)"
   ]
  },
  {
   "cell_type": "markdown",
   "metadata": {},
   "source": [
    "type conversion"
   ]
  },
  {
   "cell_type": "markdown",
   "metadata": {},
   "source": [
    "<body>\n",
    "  <head>\n",
    "    <title>Learn Python</title>\n",
    "    <link rel=\"stylesheet\" href=\"./Resources/assets/style.css\">\n",
    "  </head>\n",
    "  <h3>Building our own Functions</h3>\n",
    "  <list>\n",
    "    <ul>\n",
    "      <li>We create a new function using the <span class=\"ylw\">def </span> keyword followed by optional parameters in parentheses.</p></li>\n",
    "      <li>We indent the body of the function</p></li>\n",
    "      <li>This <span class=\"ylw\">defines </span>the function but <span class=\"orng\"> does not</span> execute the body of the function</p></li>\n",
    "    </ul>\n",
    "  </list>\n",
    "</body>"
   ]
  },
  {
   "cell_type": "code",
   "execution_count": null,
   "metadata": {},
   "outputs": [],
   "source": [
    "def song():\n",
    "  print(\"Twinkle, twinkle, little star\")\n",
    "  print(\"How I wonder what you are\")\n",
    "  print(\"Up above the world so high\")\n",
    "  print(\"Like a diamond in the sky\")"
   ]
  },
  {
   "cell_type": "code",
   "execution_count": null,
   "metadata": {},
   "outputs": [],
   "source": [
    "song()"
   ]
  },
  {
   "cell_type": "markdown",
   "metadata": {},
   "source": [
    "<body>\n",
    "  <head>\n",
    "    <title>Learn Python</title>\n",
    "    <link rel=\"stylesheet\" href=\"./Resources/assets/style.css\">\n",
    "  </head>\n",
    "  <h3>Arguments</h3>\n",
    "  <list>\n",
    "    <ul>\n",
    "      <li><p>An <span class=\"orng\">arguments </span>is a value we pass into the <span class=\"prpl\">function </span>as its <span class=\"orng\">input </span>when we call the function</p></li>\n",
    "      <li><p>We use <span class=\"orng\">arguments </span>so we can direct the <span class=\"prpl\">function </span> to do different kinds of work when we call it at <span class=\"orng\">different </span>times</p></li>\n",
    "      <li><p>We put the <span class=\"orng\">arguments </span> in parentheses after the <span class=\"prpl\"> name</span> of the function</p></li>\n",
    "    </ul>\n",
    "  </list>\n",
    "\n",
    "  &nbsp;&nbsp;&nbsp;&nbsp;&nbsp;&nbsp;&nbsp;&nbsp;&nbsp;<p><span class=\"grn\">big</span>=<span class=\"prpl\">max</span>(<span class=\"orng\">'Python'</span>)</p>\n",
    "</body>"
   ]
  },
  {
   "cell_type": "code",
   "execution_count": null,
   "metadata": {},
   "outputs": [],
   "source": [
    "big = max('python')\n",
    "print(big)"
   ]
  },
  {
   "cell_type": "markdown",
   "metadata": {},
   "source": [
    "<body>\n",
    "  <head>\n",
    "    <title>Learn Python</title>\n",
    "    <link rel=\"stylesheet\" href=\"./Resources/assets/style.css\">\n",
    "  </head>\n",
    "  <h3>Parameters</h3>\n",
    "  <p>A <span class=\"cyn\"> parameter</span> is a variable which we use <span class=\"prpl\">in </span>the function <span class=\"ylw\">definition</span>. It is a \"handle\" that allows the code in the function to access the <span class=\"orng\">arguments</span> for a particular function invocation.</p>\n",
    "</body>"
   ]
  },
  {
   "cell_type": "code",
   "execution_count": null,
   "metadata": {},
   "outputs": [],
   "source": [
    "def greet(lang):\n",
    "    if lang == 'es':\n",
    "        print('Hola')\n",
    "    elif lang == 'fr':\n",
    "        print('Bonjour')\n",
    "    elif lang == 'en':\n",
    "        print('Hello')\n",
    "    else:\n",
    "        print('I don\\'t know that language')"
   ]
  },
  {
   "cell_type": "code",
   "execution_count": null,
   "metadata": {},
   "outputs": [],
   "source": [
    "greet('fr')"
   ]
  },
  {
   "cell_type": "markdown",
   "metadata": {},
   "source": [
    "<body>\n",
    "  <head>\n",
    "    <title>Learn Python</title>\n",
    "    <link rel=\"stylesheet\" href=\"./Resources/assets/style.css\">\n",
    "  </head>\n",
    "  <h3>Return Values</h3>\n",
    "  <p> Often a function will take its arguments, do some computation, and <span class=\"orng\">return </span> a value to be used as the value of the function call in the <span class=\"prpl\">calling expression</span>. The <span class=\"orng\">return </span> keyword is used for this.</p>\n",
    "  <list>\n",
    "    <ul>\n",
    "      <li><p>A <span class=\"grn\">function </span>is one that produces a <span class=\"prpl\">result </span>( or <span class=\"ylw\">return </span><span class=\"prpl\">value </span>)</p></li>\n",
    "      <li><p>The <span class=\"ylw\">return </span>statement ends the <span class=\"grn\">function </span>execution and \"sends back\" the <span class=\"prpl\">result </span>of the <span class=\"grn\">function</span></p></li>\n",
    "    </ul>\n",
    "  </list>\n",
    "</body>"
   ]
  },
  {
   "cell_type": "code",
   "execution_count": null,
   "metadata": {},
   "outputs": [],
   "source": [
    "def greet():\n",
    "    return 'Hello'"
   ]
  },
  {
   "cell_type": "code",
   "execution_count": null,
   "metadata": {},
   "outputs": [],
   "source": [
    "print(greet(), 'Bob')\n",
    "print(greet(), 'Alice')"
   ]
  },
  {
   "cell_type": "code",
   "execution_count": null,
   "metadata": {},
   "outputs": [],
   "source": [
    "greet()"
   ]
  },
  {
   "cell_type": "code",
   "execution_count": null,
   "metadata": {},
   "outputs": [],
   "source": [
    "def greet(lang):\n",
    "    if lang == 'es':\n",
    "        return 'Hola'\n",
    "    elif lang == 'fr':\n",
    "        return 'Bonjour'\n",
    "    elif lang == 'en':\n",
    "        return 'Hello'\n",
    "    else:\n",
    "        return 'I don\\'t know that language'"
   ]
  },
  {
   "cell_type": "code",
   "execution_count": null,
   "metadata": {},
   "outputs": [],
   "source": [
    "print(greet('es'), 'Bob')"
   ]
  },
  {
   "cell_type": "code",
   "execution_count": null,
   "metadata": {},
   "outputs": [],
   "source": [
    "print(greet('en'), 'Alice')"
   ]
  },
  {
   "cell_type": "code",
   "execution_count": null,
   "metadata": {},
   "outputs": [],
   "source": [
    "print(greet('fr'), 'fred')"
   ]
  },
  {
   "cell_type": "markdown",
   "metadata": {},
   "source": [
    "<body>\n",
    "  <head>\n",
    "    <title>Learn Python</title>\n",
    "    <link rel=\"stylesheet\" href=\"./Resources/assets/style.css\">\n",
    "  </head>\n",
    "  <h3>Multiple Parameter / Arguments</h3>\n",
    "  <list>\n",
    "    <ul>\n",
    "      <li><p>We can define more than one <span class=\"cyn\">parameter </span>in the <span class=\"grn\">function </span><span class=\"ylw\">definition</span></p></li>\n",
    "      <li><p>We simply add more <span class=\"orng\">arguments </span> when we call the <span class=\"grn\">function</span></p></li>\n",
    "      <li><p>We match the number and order of arguments and parameters</p></li>\n",
    "    </ul>\n",
    "  </list>\n",
    "</body>"
   ]
  },
  {
   "cell_type": "code",
   "execution_count": null,
   "metadata": {},
   "outputs": [],
   "source": [
    "def add(x, y):\n",
    "    return x + y"
   ]
  },
  {
   "cell_type": "markdown",
   "metadata": {},
   "source": [
    "<body>\n",
    "  <head>\n",
    "    <title>Learn Python</title>\n",
    "    <link rel=\"stylesheet\" href=\"./Resources/assets/style.css\">\n",
    "  </head>\n",
    "  <h3>To function or not to function</h3>\n",
    "  <list>\n",
    "    <ul>\n",
    "      <li><p>Organize your code into \"paragraph\" - capture a complete thought and \"name it\"</p></li>\n",
    "      <li><p>Don't repeat yourself - make it work once and then reuse it</p></li>\n",
    "      <li><p>if something gets too long or complex, break it up into logical chunks and put those chunks in functions</p></li>\n",
    "      <li><p>Make a library of common stuff that you do over and over - perhaps share this with your friends</p></li>\n",
    "    </ul>\n",
    "  </list>\n",
    "</body>"
   ]
  },
  {
   "cell_type": "markdown",
   "metadata": {},
   "source": [
    "<body>\n",
    "  <h3 style=\"color: wheat; text-align: center; font-family: 'Times New Roman', Times, serif; font-size: 30px;\">Chapter 5: Loops and Iteration</h3>\n",
    "</body>"
   ]
  },
  {
   "cell_type": "markdown",
   "metadata": {},
   "source": [
    "<body>\n",
    "  <head>\n",
    "    <title>Learn Python</title>\n",
    "    <link rel=\"stylesheet\" href=\"./Resources/assets/style.css\">\n",
    "  </head>\n",
    "  <h3>Finite Loop</h3>\n",
    "  <p>Loops (Repeated steps) have <span class=\"grn\">iteration variables </span>that change each time through a loop. Often these <span class=\"grn\">iteration variables </span>go through a sequence of numbers.</p>\n",
    "</body>"
   ]
  },
  {
   "cell_type": "code",
   "execution_count": null,
   "metadata": {},
   "outputs": [],
   "source": [
    "n = 5\n",
    "\n",
    "while n > 0:\n",
    "    print(n)\n",
    "    n = n - 1\n",
    "\n",
    "print(\"Boom!!\")"
   ]
  },
  {
   "cell_type": "code",
   "execution_count": null,
   "metadata": {},
   "outputs": [],
   "source": [
    "0 > 0"
   ]
  },
  {
   "cell_type": "markdown",
   "metadata": {},
   "source": [
    "<body>\n",
    "  <head>\n",
    "    <title>Learn Python</title>\n",
    "    <link rel=\"stylesheet\" href=\"./Resources/assets/style.css\">\n",
    "  </head>\n",
    "  <h3>An Infinite Loop</h3>\n",
    "</body>"
   ]
  },
  {
   "cell_type": "code",
   "execution_count": null,
   "metadata": {},
   "outputs": [],
   "source": [
    "n = 5\n",
    "\n",
    "while n > 0:\n",
    "    print(\"Error!\")\n",
    "\n",
    "print(\"End of program\")"
   ]
  },
  {
   "cell_type": "markdown",
   "metadata": {},
   "source": [
    "<body>\n",
    "  <head>\n",
    "    <title>Learn Python</title>\n",
    "    <link rel=\"stylesheet\" href=\"./Resources/assets/style.css\">\n",
    "  </head>\n",
    "  <h3>Another Loop</h3>\n",
    "</body>"
   ]
  },
  {
   "cell_type": "code",
   "execution_count": null,
   "metadata": {},
   "outputs": [],
   "source": [
    "n = 0\n",
    "\n",
    "while n > 0:\n",
    "    print(\"Error!\")\n",
    "\n",
    "print(\"End of program\")"
   ]
  },
  {
   "cell_type": "markdown",
   "metadata": {},
   "source": [
    "<body>\n",
    "  <head>\n",
    "    <title>Learn Python</title>\n",
    "    <link rel=\"stylesheet\" href=\"./Resources/assets/style.css\">\n",
    "  </head>\n",
    "  <h3>Breaking out of a loop</h3>\n",
    "  <list>\n",
    "    <ul>\n",
    "      <li><p>The <span class=\"ylw\">break </span>statement ends the current loop and jumps to the statement immediately following the loop</p></li>\n",
    "      <li><p>It is like a loop test that can happen anywhere in the body of the loop</p></li>\n",
    "    </ul>\n",
    "  </list>\n",
    "</body>"
   ]
  },
  {
   "cell_type": "code",
   "execution_count": null,
   "metadata": {},
   "outputs": [],
   "source": [
    "while True:\n",
    "  text = input('>')\n",
    "  if text == 'q':\n",
    "    break\n",
    "  print('You said: ' + text)\n",
    "print('Bye')"
   ]
  },
  {
   "cell_type": "markdown",
   "metadata": {},
   "source": [
    "<body>\n",
    "  <head>\n",
    "    <title>Learn Python</title>\n",
    "    <link rel=\"stylesheet\" href=\"./Resources/assets/style.css\">\n",
    "  </head>\n",
    "  <h3>Finishing an Iteration with continue</h3>\n",
    "      <p>The <span class=\"ylw\">continue </span>statement ends the <span class=\"cyn\">current iteration </span>and jumps to the <span class=\"ylw\">top of the loop </span>and starts the next iteration</p>\n",
    "</body>"
   ]
  },
  {
   "cell_type": "code",
   "execution_count": null,
   "metadata": {},
   "outputs": [],
   "source": [
    "while True:\n",
    "  text = input('>')\n",
    "  if text[0] == 'a':\n",
    "    continue\n",
    "  if text == 'quit':\n",
    "    break\n",
    "  print('You said: ' + text)\n",
    "print('Bye')"
   ]
  },
  {
   "cell_type": "markdown",
   "metadata": {},
   "source": [
    "<body>\n",
    "  <head>\n",
    "    <title>Learn Python</title>\n",
    "    <link rel=\"stylesheet\" href=\"./Resources/assets/style.css\">\n",
    "  </head>\n",
    "  <h3>Indefinite Loops</h3>\n",
    "  <list>\n",
    "    <ul>\n",
    "      <li><p>While loops are called <span class=\"ylw\">\"indefinite loops\" </span>because they keep going until a logical condition become <span class=\"orng\">False</span></p></li>\n",
    "      <li><p>The loops we have seen so for are pretty easy to examine to see if they will terminate or if they will be \"infinite loops\"</p></li>\n",
    "      <li><p>Sometimes it is a little harder to be sure if a loop will terminate</p></li>\n",
    "    </ul>\n",
    "  </list>\n",
    "</body>"
   ]
  },
  {
   "cell_type": "markdown",
   "metadata": {},
   "source": [
    "<body>\n",
    "  <head>\n",
    "    <title>Learn Python</title>\n",
    "    <link rel=\"stylesheet\" href=\"./Resources/assets/style.css\">\n",
    "  </head>\n",
    "  <h3>Definite Loops</h3>\n",
    "  <list>\n",
    "    <ul>\n",
    "      <li><p>Quite often we have a <span class=\"orng\">list </span>of items of the <span class=\"orng\">lines in a file </span>- effectively a <span class=\"ylw\">finite set </span>of things</p></li>\n",
    "      <li><p>We can write a loop to run the loop once for each of the items in a set using the Python <span class=\"ylw\">for </span>construct</p></li>\n",
    "      <li><p>These loops are called <span class=\"grn\">\"definite loops\" </span>because they execute an exact number of times</p></li>\n",
    "      <li><p>We say that <span class=\"grn\">\"definite loops iterate through the members of a set\"</span></p></li>\n",
    "  </list>\n",
    "</body>"
   ]
  },
  {
   "cell_type": "markdown",
   "metadata": {},
   "source": [
    "<body>\n",
    "  <head>\n",
    "    <title>Learn Python</title>\n",
    "    <link rel=\"stylesheet\" href=\"./Resources/assets/style.css\">\n",
    "  </head>\n",
    "  <h3>A Simple Definite Loops</h3>\n",
    "  <list>\n",
    "</body>"
   ]
  },
  {
   "cell_type": "code",
   "execution_count": null,
   "metadata": {},
   "outputs": [],
   "source": [
    "for i in range(1,5):\n",
    "    print(i)\n",
    "print(\"Done\")"
   ]
  },
  {
   "cell_type": "code",
   "execution_count": null,
   "metadata": {},
   "outputs": [],
   "source": [
    "for i in \"Gayathri\":\n",
    "    print(i)"
   ]
  },
  {
   "cell_type": "markdown",
   "metadata": {},
   "source": [
    "<body>\n",
    "  <head>\n",
    "    <title>Learn Python</title>\n",
    "    <link rel=\"stylesheet\" href=\"./Resources/assets/style.css\">\n",
    "  </head>\n",
    "  <h3>A Definite Loop with Strings</h3>\n",
    "  <list>\n",
    "</body>"
   ]
  },
  {
   "cell_type": "code",
   "execution_count": null,
   "metadata": {},
   "outputs": [],
   "source": [
    "for name in ['Alice', 'Bob', 'Carol', 'Dave']:\n",
    "    print('Hello', name)\n",
    "print('Bye')"
   ]
  },
  {
   "cell_type": "markdown",
   "metadata": {},
   "source": [
    "<body>\n",
    "  <head>\n",
    "    <title>Learn Python</title>\n",
    "    <link rel=\"stylesheet\" href=\"./Resources/assets/style.css\">\n",
    "  </head>\n",
    "  <h3>Iteration variable</h3>\n",
    "  <p>\n",
    "  <list>\n",
    "    <ul>\n",
    "      <li><p>The <span class=\"grn\">iteration variable </span>\"iterates\" through the <span class=\"orng\">sequence </span>(ordered set)</p></li>\n",
    "      <li><p>The <span class=\"prpl\">block (body) </span>of code is executed once for each value <span class=\"ylw\">in </span>the <span class=\"orng\">sequence</span></p></li>\n",
    "      <li><p>The <span class=\"grn\">iteration variable </span>moves through all the values <span class=\"ylw\">in </span>the <span class=\"orng\">sequence</span></p></li>\n",
    "    </ul>\n",
    "  </list>\n",
    "</body>"
   ]
  },
  {
   "cell_type": "code",
   "execution_count": null,
   "metadata": {},
   "outputs": [],
   "source": [
    "# i is the iteration variable\n",
    "# [5, 4, 3, 2, 1] is five-element sequence\n",
    "for i in [5, 4, 3, 2, 1]:\n",
    "    print(i)"
   ]
  },
  {
   "cell_type": "markdown",
   "metadata": {},
   "source": [
    "<body>\n",
    "  <head>\n",
    "    <title>Learn Python</title>\n",
    "    <link rel=\"stylesheet\" href=\"./Resources/assets/style.css\">\n",
    "  </head>\n",
    "  <h3>Looping through a Set</h3>\n",
    "</body>"
   ]
  },
  {
   "cell_type": "code",
   "execution_count": null,
   "metadata": {},
   "outputs": [],
   "source": [
    "max(12, 35, 18, 36, 28, 73, 74, 22, 96, 41, 27, 33, 20, 8, 2, 88)"
   ]
  },
  {
   "cell_type": "markdown",
   "metadata": {},
   "source": [
    "<body>\n",
    "  <head>\n",
    "    <title>Learn Python</title>\n",
    "    <link rel=\"stylesheet\" href=\"./Resources/assets/style.css\" />\n",
    "  </head>\n",
    "  <h3>What is the Largest Number?</h3>\n",
    "  <p>\n",
    "    numbers = [\n",
    "    <span class=\"orng\"\n",
    "      >12, 35, 18, 36, 28, 73, 74, 22, 96, 41, 27, 33, 20, 8, 2, 88</span\n",
    "    >\n",
    "    ]\n",
    "  </p>\n",
    "  <p>largest = <span class=\"prpl\">12</span></p>\n",
    "  <p>largest = <span class=\"prpl\">35</span></p>\n",
    "  <p>largest = <span class=\"prpl\">36</span></p>\n",
    "  <p>largest = <span class=\"prpl\">73</span></p>\n",
    "  <p>largest = <span class=\"prpl\">74</span></p>\n",
    "  <p>largest = <span class=\"prpl\">96</span></p>\n",
    "</body>"
   ]
  },
  {
   "cell_type": "markdown",
   "metadata": {},
   "source": [
    "<body>\n",
    "  <head>\n",
    "    <title>Learn Python</title>\n",
    "    <link rel=\"stylesheet\" href=\"./Resources/assets/style.css\" />\n",
    "  </head>\n",
    "  <h3>Finding the largest value</h3>\n",
    "  <p>\n",
    "    We make a variable that contains the largest value we have seen so far. If\n",
    "    the current <span class=\"prpl\">number we are looking at </span>is larger, it\n",
    "    is the new <span class=\"grn\">largest value we have seen so far</span>.\n",
    "  </p>\n",
    "</body>\n"
   ]
  },
  {
   "cell_type": "code",
   "execution_count": null,
   "metadata": {},
   "outputs": [],
   "source": [
    "largest = -1\n",
    "print('Before', largest)\n",
    "for number in [12, 35, 18, 36, 28, 73, 74, 22, 96, 41, 27, 33, 20, 8, 2, 88]:\n",
    "    if number > largest:\n",
    "        largest = number\n",
    "    print(largest, number)\n",
    "print('After', largest)"
   ]
  },
  {
   "cell_type": "markdown",
   "metadata": {},
   "source": [
    "<body>\n",
    "  <head>\n",
    "    <title>Learn Python</title>\n",
    "    <link rel=\"stylesheet\" href=\"./Resources/assets/style.css\" />\n",
    "  </head>\n",
    "  <h3>Counting in a Loop</h3>\n",
    "  <p>\n",
    "    To <span class=\"grn\">count </span> how many times we execute a loop, we\n",
    "    introduce a <span class=\"cyn\">counter variable that starts at 0 </span> and\n",
    "    we add <span class=\"cyn\">one to it each time through the loop.</span>\n",
    "  </p>\n",
    "</body>\n"
   ]
  },
  {
   "cell_type": "code",
   "execution_count": null,
   "metadata": {},
   "outputs": [],
   "source": [
    "count = 0\n",
    "print('Before', count)\n",
    "for numbers in [12, 35, 18, 36, 28, 73, 74, 22, 96, 41, 27, 33, 20, 8, 2, 88]:\n",
    "  count = count + 1\n",
    "  print(count, numbers)\n",
    "print('After', count)"
   ]
  },
  {
   "cell_type": "markdown",
   "metadata": {},
   "source": [
    "<body>\n",
    "  <head>\n",
    "    <title>Learn Python</title>\n",
    "    <link rel=\"stylesheet\" href=\"./Resources/assets/style.css\" />\n",
    "  </head>\n",
    "  <h3>Summing in a Loop</h3>\n",
    "  <p>\n",
    "    To <span class=\"grn\">add up </span>a <span class=\"cyn\">value </span>we encounter in the loop, we introduce a <span class=\"grn\">sum variable that starts at 0 </span>and we add the <span class=\"cyn\">value </span> to the sum each time through the loop\n",
    "  </p>\n",
    "</body>\n"
   ]
  },
  {
   "cell_type": "code",
   "execution_count": null,
   "metadata": {},
   "outputs": [],
   "source": [
    "sum = 0\n",
    "print('Before', sum)\n",
    "for numbers in [12, 35, 18, 36, 28, 73, 74, 22, 96, 41, 27, 33, 20, 8, 2, 88]:\n",
    "  sum = sum + numbers\n",
    "  print(sum, numbers)\n",
    "print('After', sum)"
   ]
  },
  {
   "cell_type": "markdown",
   "metadata": {},
   "source": [
    "<body>\n",
    "  <head>\n",
    "    <title>Learn Python</title>\n",
    "    <link rel=\"stylesheet\" href=\"./Resources/assets/style.css\" />\n",
    "  </head>\n",
    "  <h3>Filtering in a loop</h3>\n",
    "  <p>\n",
    "    We use the <span class=\"ylw\">if </span>statement in the\n",
    "    <span class=\"prpl\">loop </span> to catch / filter the values we are looking\n",
    "    for.\n",
    "  </p>\n",
    "</body>\n"
   ]
  },
  {
   "cell_type": "code",
   "execution_count": null,
   "metadata": {},
   "outputs": [],
   "source": [
    "find = int(input(\"Enter a number to find: \"))\n",
    "values = [12, 35, 18, 36, 28, 73, 74, 22, 96, 41, 27, 33, 20, 8, 2, 88]\n",
    "for value in values:\n",
    "    if value == find:\n",
    "        print(\"Found\", find, \"at\", values.index(value))\n",
    "        break\n",
    "else:\n",
    "    print(find, \"not in list\")"
   ]
  },
  {
   "cell_type": "markdown",
   "metadata": {},
   "source": [
    "<body>\n",
    "  <head>\n",
    "    <title>Learn Python</title>\n",
    "    <link rel=\"stylesheet\" href=\"./Resources/assets/style.css\" />\n",
    "  </head>\n",
    "  <h3>Finding the smallest value</h3>\n",
    "</body>\n"
   ]
  },
  {
   "cell_type": "code",
   "execution_count": null,
   "metadata": {},
   "outputs": [],
   "source": [
    "smallest = 100\n",
    "print('Before', smallest)\n",
    "for numbers in [12, 35, 18, 36, 28, 73, 74, 22, 96, 41, 27, 33, 20, 8, 2, 88]:\n",
    "    if numbers < smallest:\n",
    "        smallest = numbers\n",
    "    print(smallest, numbers)\n",
    "print('After', smallest)"
   ]
  },
  {
   "cell_type": "code",
   "execution_count": null,
   "metadata": {},
   "outputs": [],
   "source": [
    "smallest = None\n",
    "print('Before')\n",
    "for number in [12, 35, 18, 36, 28, 73, 74, 22, 96, 41, 27, 33, 20, 8, 2, 88]:\n",
    "  if smallest is None:\n",
    "    smallest = number\n",
    "  elif number < smallest:\n",
    "    smallest = number\n",
    "  print(smallest, number)\n",
    "print('After', smallest)"
   ]
  },
  {
   "cell_type": "markdown",
   "metadata": {},
   "source": [
    "<body>\n",
    "  <head>\n",
    "    <title>Learn Python</title>\n",
    "    <link rel=\"stylesheet\" href=\"./Resources/assets/style.css\" />\n",
    "  </head>\n",
    "  <h3>The \"<span class=\"cyn\">is</span>\" and \"<span class=\"orng\">is not</span>\" Operators</h3>\n",
    "  <list>\n",
    "    <ul>\n",
    "      <li><p>Python has an <span class=\"cyn\">is </span>operator that can be used in logical expressions</p></li>\n",
    "      <li><p>implies \"<span class=\"cyn\">is the same as</span>\"</p></li>\n",
    "      <li><p>Similar to, but stronger than <span class=\"cyn\">==</span></p></li>\n",
    "      <li><p><span class=\"orng\">is not </span>also is a logical operator</p></li>\n",
    "    </ul>\n",
    "  </list>\n",
    "</body>\n"
   ]
  },
  {
   "cell_type": "markdown",
   "metadata": {},
   "source": [
    "<body>\n",
    "  <h3 style=\"color: wheat; text-align: center; font-family: 'Times New Roman', Times, serif; font-size: 30px;\">Chapter 6: Strings</h3>\n",
    "</body>"
   ]
  },
  {
   "cell_type": "markdown",
   "metadata": {},
   "source": [
    "<body>\n",
    "  <head>\n",
    "    <title>Learn Python</title>\n",
    "    <link rel=\"stylesheet\" href=\"./Resources/assets/style.css\" />\n",
    "  </head>\n",
    "  <h3>String Data Type</h3>\n",
    "  <list>\n",
    "    <ul>\n",
    "      <li class=\"prpl\"><p>A String is a sequence of characters</p></li>\n",
    "      <li class=\"prpl\"><p>A String literal uses quotes 'Python' or \"Python\"</p></li>\n",
    "      <li class=\"grn\"><p>For strings, + means \"concatenate\"</p></li>\n",
    "      <li class=\"orng\"><p>When a string contains number, it is still a string</p></li>\n",
    "      <li class=\"cyn\">\n",
    "        <p>We can convert number in a string into number using</p><span class=\"prpl\">int</span>()\n",
    "      </li>\n",
    "    </ul>\n",
    "  </list>\n",
    "</body>\n"
   ]
  },
  {
   "cell_type": "code",
   "execution_count": null,
   "metadata": {},
   "outputs": [],
   "source": [
    "str1  = \"Hello\"\n",
    "str2 = 'Mark'\n",
    "\n",
    "str3 = str1 + \" \" + str2\n",
    "print(str3)"
   ]
  },
  {
   "cell_type": "markdown",
   "metadata": {},
   "source": [
    "<body>\n",
    "  <head>\n",
    "    <title>Learn Python</title>\n",
    "    <link rel=\"stylesheet\" href=\"./Resources/assets/style.css\" />\n",
    "  </head>\n",
    "  <h3>Reading and Converting</h3>\n",
    "  <list>\n",
    "    <ul>\n",
    "      <li><p>We prefer to read data in using <span class=\"orng\">string </span> and then parse and convert the data as we need</p></li>\n",
    "      <li><p>This gives us more control error situations and.or bad user input</p></li>\n",
    "      <li><p>Raw input number must be <span class=\"prpl\">converted </span>from string</p></li>\n",
    "    </ul>\n",
    "  </list>\n",
    "</body>\n"
   ]
  },
  {
   "cell_type": "code",
   "execution_count": null,
   "metadata": {},
   "outputs": [],
   "source": [
    "name = input(\"Enter\")"
   ]
  },
  {
   "cell_type": "code",
   "execution_count": null,
   "metadata": {},
   "outputs": [],
   "source": [
    "type(name)"
   ]
  },
  {
   "cell_type": "markdown",
   "metadata": {},
   "source": [
    "<body>\n",
    "  <head>\n",
    "    <title>Learn Python</title>\n",
    "    <link rel=\"stylesheet\" href=\"./Resources/assets/style.css\" />\n",
    "  </head>\n",
    "  <h3>Looking Inside Strings</h3>\n",
    "  <list>\n",
    "    <ul>\n",
    "      <li><p>We can get at any single character in a string using an index specified in <span class=\"cyn\">square brackets</span></p></li>\n",
    "      <li><p>The index value must be an integer and starts at zero</p></li>\n",
    "      <li><p>The index value can be an expression that is computed</p></li>\n",
    "    </ul>\n",
    "  </list>\n",
    "</body>\n"
   ]
  },
  {
   "cell_type": "code",
   "execution_count": null,
   "metadata": {},
   "outputs": [],
   "source": [
    "fruit = 'Blueberry'\n",
    "letter = fruit[4]\n",
    "print(letter)"
   ]
  },
  {
   "cell_type": "code",
   "execution_count": null,
   "metadata": {},
   "outputs": [],
   "source": [
    "x = 5\n",
    "w = fruit[x-2]\n",
    "print(w)"
   ]
  },
  {
   "cell_type": "markdown",
   "metadata": {},
   "source": [
    "<body>\n",
    "  <head>\n",
    "    <title>Learn Python</title>\n",
    "    <link rel=\"stylesheet\" href=\"./Resources/assets/style.css\" />\n",
    "  </head>\n",
    "  <h3>A Character Too Far</h3>\n",
    "  <list>\n",
    "    <ul>\n",
    "      <li><p>You will get a <span class=\"lred\">Python Error </span>if you attempt to index beyond the end of a string</p></li>\n",
    "      <li><p>So be careful when constructing index values and slices</p></li>\n",
    "    </ul>\n",
    "  </list>\n",
    "</body>\n"
   ]
  },
  {
   "cell_type": "code",
   "execution_count": null,
   "metadata": {},
   "outputs": [],
   "source": [
    "word = \"Python\"\n",
    "print(word[7])"
   ]
  },
  {
   "cell_type": "markdown",
   "metadata": {},
   "source": [
    "<body>\n",
    "  <head>\n",
    "    <title>Learn Python</title>\n",
    "    <link rel=\"stylesheet\" href=\"./Resources/assets/style.css\" />\n",
    "  </head>\n",
    "  <h3>String Have Length</h3>\n",
    "  <p>\n",
    "    The built-in function <span class=\"prpl\">len() </span>gives us the length of\n",
    "    a string\n",
    "  </p>\n",
    "  <img src=\"./Resources/Flowcharts/stridx.png\" alt=\"stridx\">\n",
    "</body>\n"
   ]
  },
  {
   "cell_type": "code",
   "execution_count": null,
   "metadata": {},
   "outputs": [],
   "source": [
    "word = 'Python'\n",
    "print(len(word))"
   ]
  },
  {
   "cell_type": "markdown",
   "metadata": {},
   "source": [
    "<body>\n",
    "  <head>\n",
    "    <title>Learn Python</title>\n",
    "    <link rel=\"stylesheet\" href=\"./Resources/assets/style.css\" />\n",
    "  </head>\n",
    "  <h3>Looping Through Strings</h3>\n",
    "  <list>\n",
    "    <ul>\n",
    "      <li><p>Using a <span class=\"ylw\">while </span>statement and an <span class=\"grn\">iteration variable</span>, and the <span class=\"prpl\">len </span>function, we can construct a loop to look at each of the letters in a string individually\n",
    "      </p></li>\n",
    "      <li><p>A definite loop using a <span class=\"ylw\">for </span>statement is much more elegant.</p></li>\n",
    "      <li><p>The <span class=\"grn\">iteration variable </span>is completely taken care of by the <span class=\"ylw\">for </span>loop</p></li>\n",
    "    </ul>\n",
    "  </list>\n",
    "</body>\n"
   ]
  },
  {
   "cell_type": "code",
   "execution_count": null,
   "metadata": {},
   "outputs": [],
   "source": [
    "word = 'Python'\n",
    "idx = 0\n",
    "while idx < len(word):\n",
    "  print(word[idx], idx)\n",
    "  idx = idx + 1\n"
   ]
  },
  {
   "cell_type": "code",
   "execution_count": null,
   "metadata": {},
   "outputs": [],
   "source": [
    "word = 'Python'\n",
    "for letter in word:\n",
    "    print(letter)"
   ]
  },
  {
   "cell_type": "markdown",
   "metadata": {},
   "source": [
    "<body>\n",
    "  <head>\n",
    "    <title>Learn Python</title>\n",
    "    <link rel=\"stylesheet\" href=\"./Resources/assets/style.css\" />\n",
    "  </head>\n",
    "  <h3>Looping and Counting</h3>\n",
    "  <p>\n",
    "    This is a simple loop that loops through each letter in a string and counts\n",
    "    the number of times the loop encounters the 'a' character\n",
    "  </p>\n",
    "</body>\n"
   ]
  },
  {
   "cell_type": "code",
   "execution_count": null,
   "metadata": {},
   "outputs": [],
   "source": [
    "magic  = 'abracadabra'\n",
    "count = 0\n",
    "for letter in magic:\n",
    "    if letter == 'a':\n",
    "        count = count + 1\n",
    "print('Letter a Present :', count ,'Times')"
   ]
  },
  {
   "cell_type": "code",
   "execution_count": null,
   "metadata": {},
   "outputs": [],
   "source": [
    "magic.count('a')"
   ]
  },
  {
   "cell_type": "markdown",
   "metadata": {},
   "source": [
    "<body>\n",
    "  <head>\n",
    "    <title>Learn Python</title>\n",
    "    <link rel=\"stylesheet\" href=\"./Resources/assets/style.css\" />\n",
    "  </head>\n",
    "  <h3>Looking deeper into <span class=\"ylw\">in</span></h3>\n",
    "  <list>\n",
    "    <ul>\n",
    "      <li>\n",
    "        <p>The <span class=\"grn\">iteration variable </span>\"iterates\" through the <span class=\"choc\">sequence </span>(ordered set)</p>\n",
    "      </li>\n",
    "      <li>\n",
    "        <p>The <span class=\"prpl\">block(body) </span>of code is executed once for each value <span class=\"ylw\">in </span>the <span class=\"choc\">sequence</span></p>\n",
    "      </li>\n",
    "      <li>\n",
    "        <p>The <span class=\"grn\">iteration variable </span>moves through all of the values <span class=\"ylw\">in </span>the <span class=\"choc\">sequence</span></p>\n",
    "      </li>\n",
    "    </ul>\n",
    "  </list>\n",
    "</body>\n"
   ]
  },
  {
   "cell_type": "code",
   "execution_count": null,
   "metadata": {},
   "outputs": [],
   "source": [
    "for letter in 'Python':\n",
    "    print(letter)"
   ]
  },
  {
   "cell_type": "code",
   "execution_count": null,
   "metadata": {},
   "outputs": [],
   "source": [
    "len('Python')"
   ]
  },
  {
   "cell_type": "code",
   "execution_count": null,
   "metadata": {},
   "outputs": [],
   "source": [
    "'a' not in 'Python'"
   ]
  },
  {
   "cell_type": "markdown",
   "metadata": {},
   "source": [
    "<body>\n",
    "  <head>\n",
    "    <title>Learn Python</title>\n",
    "    <link rel=\"stylesheet\" href=\"./Resources/assets/style.css\" />\n",
    "  </head>\n",
    "  <h3>Slicing Strings</h3>\n",
    "  <list>\n",
    "    <ul>\n",
    "      <li><p>We can also look at any continuous section of a string using a <span class=\"cyn\">colon operator </span></p></li>\n",
    "      <li><p>The second number is one beyond the end of the slice - \"up to but not including\"</p></li>\n",
    "      <li><p>If the second number is beyond the end of the string, it stops at the end.</p></li>\n",
    "      <li><p>If we leave off the first number or the last number of the slice, it is assumed to be the beginning or end of the string respectively</p></li>\n",
    "    </ul>\n",
    "  </list>\n",
    "</body>\n"
   ]
  },
  {
   "cell_type": "code",
   "execution_count": null,
   "metadata": {},
   "outputs": [],
   "source": [
    "s = 'Alpha Silverback'\n",
    "#print(s)\n",
    "print(s[0:7])"
   ]
  },
  {
   "cell_type": "code",
   "execution_count": null,
   "metadata": {},
   "outputs": [],
   "source": [
    "print(s[::-1])"
   ]
  },
  {
   "cell_type": "markdown",
   "metadata": {},
   "source": [
    "<body>\n",
    "  <head>\n",
    "    <title>Learn Python</title>\n",
    "    <link rel=\"stylesheet\" href=\"./Resources/assets/style.css\" />\n",
    "  </head>\n",
    "  <h3>String Concatenation</h3>\n",
    "  <p>When the <span class=\"cyn\">+ </span>is applied to the string, it means \"<span class=\"cyn\">concatenation</span>\"</p>\n",
    "</body>\n"
   ]
  },
  {
   "cell_type": "code",
   "execution_count": null,
   "metadata": {},
   "outputs": [],
   "source": [
    "a = 'Hello'\n",
    "b = a + 'There'\n",
    "print(b)"
   ]
  },
  {
   "cell_type": "code",
   "execution_count": null,
   "metadata": {},
   "outputs": [],
   "source": [
    "c = a + ' ' + 'There'\n",
    "print(c)"
   ]
  },
  {
   "cell_type": "markdown",
   "metadata": {},
   "source": [
    "<body>\n",
    "  <head>\n",
    "    <title>Learn Python</title>\n",
    "    <link rel=\"stylesheet\" href=\"./Resources/assets/style.css\" />\n",
    "  </head>\n",
    "  <h3>Using <span class=\"ylw\">in </span>as a logical Operator</h3>\n",
    "  <list>\n",
    "    <ul>\n",
    "      <li>\n",
    "        <p>The <span class=\"ylw\">in </span>keyword can also be used to check to see if one string is \"in\" another string</p>\n",
    "      </li>\n",
    "      <li>\n",
    "        <p>The <span class=\"ylw\">in </span>expression is a logical expression that returns <span class=\"orng\">True </span>or <span class=\"orng\">False </span>and can be used in an <span class=\"ylw\">if </span></p>\n",
    "      </li>\n",
    "    </ul>\n",
    "  </list>\n",
    "</body>\n"
   ]
  },
  {
   "cell_type": "code",
   "execution_count": null,
   "metadata": {},
   "outputs": [],
   "source": [
    "fruit = 'banana'\n",
    "'n' in fruit"
   ]
  },
  {
   "cell_type": "code",
   "execution_count": null,
   "metadata": {},
   "outputs": [],
   "source": [
    "'o' in fruit"
   ]
  },
  {
   "cell_type": "code",
   "execution_count": null,
   "metadata": {},
   "outputs": [],
   "source": [
    "'nan' in fruit"
   ]
  },
  {
   "cell_type": "code",
   "execution_count": null,
   "metadata": {},
   "outputs": [],
   "source": [
    "if 'b' in fruit:\n",
    "    print('Found it!')"
   ]
  },
  {
   "cell_type": "markdown",
   "metadata": {},
   "source": [
    "<body>\n",
    "  <head>\n",
    "    <title>Learn Python</title>\n",
    "    <link rel=\"stylesheet\" href=\"./Resources/assets/style.css\" />\n",
    "  </head>\n",
    "  <h3>String Library</h3>\n",
    "  <list>\n",
    "    <ul>\n",
    "      <li>\n",
    "        <p>\n",
    "          Python has a number of string <span class=\"prpl\">function </span>which\n",
    "          are in the <span class=\"prpl\">string library</span>\n",
    "        </p>\n",
    "      </li>\n",
    "      <li>\n",
    "        <p>\n",
    "          These <span class=\"prpl\">functions </span>are already\n",
    "          <span class=\"prpl\">built into </span>every string - we invoke them by\n",
    "          appending the function to the string variable\n",
    "        </p>\n",
    "      </li>\n",
    "      <li>\n",
    "        <p>These <span class=\"prpl\">functions </span>do not modify the original string, instead they return a new string that has been altered</p>\n",
    "      </li>\n",
    "      <li><p>List of string method library available <a href=\"https://docs.python.org/3/library/stdtypes.html#string-methods\">here</a>.</p></li>\n",
    "    </ul>\n",
    "  </list>\n",
    "</body>\n"
   ]
  },
  {
   "cell_type": "code",
   "execution_count": null,
   "metadata": {},
   "outputs": [],
   "source": [
    "a = 'Hello'\n",
    "a.isidentifier()"
   ]
  },
  {
   "cell_type": "code",
   "execution_count": null,
   "metadata": {},
   "outputs": [],
   "source": [
    "greet = 'HELLO BOB'\n",
    "small = greet.lower()\n",
    "print(small)\n",
    "print(greet)"
   ]
  },
  {
   "cell_type": "code",
   "execution_count": null,
   "metadata": {},
   "outputs": [],
   "source": [
    "big = greet.upper()\n",
    "print(big)"
   ]
  },
  {
   "cell_type": "code",
   "execution_count": null,
   "metadata": {},
   "outputs": [],
   "source": [
    "a = 'Hello'\n",
    "dir(a)"
   ]
  },
  {
   "cell_type": "markdown",
   "metadata": {},
   "source": [
    "<body>\n",
    "  <head>\n",
    "    <title>Learn Python</title>\n",
    "    <link rel=\"stylesheet\" href=\"./Resources/assets/style.css\" />\n",
    "  </head>\n",
    "  <h3>Searching a String</h3>\n",
    "  <list>\n",
    "    <ul>\n",
    "      <li>\n",
    "        <p>\n",
    "          We use the <span class=\"prpl\">find() </span> function to search for a\n",
    "          substring withing another string\n",
    "        </p>\n",
    "      </li>\n",
    "      <li>\n",
    "        <p>\n",
    "          <span class=\"prpl\">find() </span> finds the first occurrence of the\n",
    "          substring\n",
    "        </p>\n",
    "      </li>\n",
    "      <li>\n",
    "        <p>\n",
    "          if the substring is not found,\n",
    "          <span class=\"prpl\">find() </span>returns <span class=\"grn\">-1 </span>\n",
    "        </p>\n",
    "      </li>\n",
    "      <li><p class=\"gld\">Remember that string position starts at zero</p></li>\n",
    "    </ul>\n",
    "  </list>\n",
    "</body>\n"
   ]
  },
  {
   "cell_type": "code",
   "execution_count": null,
   "metadata": {},
   "outputs": [],
   "source": [
    "city = 'Madagascar'\n",
    "pos = city.find('d')\n",
    "print(pos)"
   ]
  },
  {
   "cell_type": "code",
   "execution_count": null,
   "metadata": {},
   "outputs": [],
   "source": [
    "pos2 = city.find('f')\n",
    "print(pos2)"
   ]
  },
  {
   "cell_type": "markdown",
   "metadata": {},
   "source": [
    "<body>\n",
    "  <head>\n",
    "    <title>Learn Python</title>\n",
    "    <link rel=\"stylesheet\" href=\"./Resources/assets/style.css\" />\n",
    "  </head>\n",
    "  <h3>Case Changing of String</h3>\n",
    "  <list>\n",
    "    <ul>\n",
    "      <li>\n",
    "        <p>\n",
    "          You can make a copy of a string in\n",
    "          <span class=\"grn\">lower case </span>or\n",
    "          <span class=\"cyn\">upper case</span>\n",
    "        </p>\n",
    "      </li>\n",
    "      <li>\n",
    "        <p>\n",
    "          Often when we are searching for a string using\n",
    "          <span class=\"prpl\">find() </span>we first convert the string to lower\n",
    "          case so we can search a string regardless of case\n",
    "        </p>\n",
    "      </li>\n",
    "    </ul>\n",
    "  </list>\n",
    "</body>\n"
   ]
  },
  {
   "cell_type": "code",
   "execution_count": null,
   "metadata": {},
   "outputs": [],
   "source": [
    "city = 'Macedonia'\n",
    "a = city.upper()\n",
    "print(a)"
   ]
  },
  {
   "cell_type": "code",
   "execution_count": null,
   "metadata": {},
   "outputs": [],
   "source": [
    "b = city.lower()\n",
    "print(b)"
   ]
  },
  {
   "cell_type": "markdown",
   "metadata": {},
   "source": [
    "<body>\n",
    "  <head>\n",
    "    <title>Learn Python</title>\n",
    "    <link rel=\"stylesheet\" href=\"./Resources/assets/style.css\" />\n",
    "  </head>\n",
    "  <h3>Search and replace</h3>\n",
    "  <list>\n",
    "    <ul>\n",
    "      <li>\n",
    "        <p>The <span class=\"prpl\">replace() </span>function is like a \"Search and replace\" operation in a word processor</p>\n",
    "      </li>\n",
    "      <li>\n",
    "        <p>it replaces <span class=\"orng\">all the occurrences </span>of the <span class=\"grn\">search string </span>with the <span class=\"cyn\"> replacement string</span></p>\n",
    "      </li>\n",
    "    </ul>\n",
    "  </list>\n",
    "</body>\n"
   ]
  },
  {
   "cell_type": "code",
   "execution_count": null,
   "metadata": {},
   "outputs": [],
   "source": [
    "greet = 'Hetlo Start'\n",
    "greet = greet.replace('t', 'l')\n",
    "print(greet)\n",
    "print(replace1)"
   ]
  },
  {
   "cell_type": "markdown",
   "metadata": {},
   "source": [
    "<body>\n",
    "  <head>\n",
    "    <title>Learn Python</title>\n",
    "    <link rel=\"stylesheet\" href=\"./Resources/assets/style.css\" />\n",
    "  </head>\n",
    "  <h3>Stripping Whitespace</h3>\n",
    "  <list>\n",
    "    <ul>\n",
    "      <li>\n",
    "        <p>Sometimes we want to take a string and remove whitespace at the beginning and/or end</p>\n",
    "      </li>\n",
    "      <li>\n",
    "        <p><span class=\"prpl\">lstrip() </span>and <span class=\"prpl\">rstrip() </span>remove whitespaces at the left or right</p>\n",
    "      </li>\n",
    "      <li>\n",
    "        <p><span class=\"prpl\">strip() </span>removes both beginning and ending whitespace</p>\n",
    "      </li>\n",
    "    </ul>\n",
    "  </list>\n",
    "</body>\n"
   ]
  },
  {
   "cell_type": "code",
   "execution_count": null,
   "metadata": {},
   "outputs": [],
   "source": [
    "element = '  Hydrogen  '\n",
    "print(element)"
   ]
  },
  {
   "cell_type": "code",
   "execution_count": null,
   "metadata": {},
   "outputs": [],
   "source": [
    "element.lstrip() "
   ]
  },
  {
   "cell_type": "code",
   "execution_count": null,
   "metadata": {},
   "outputs": [],
   "source": [
    "element.rstrip()"
   ]
  },
  {
   "cell_type": "code",
   "execution_count": null,
   "metadata": {},
   "outputs": [],
   "source": [
    "element.strip()"
   ]
  },
  {
   "cell_type": "code",
   "execution_count": null,
   "metadata": {},
   "outputs": [],
   "source": [
    "a = ' HJHSDF KKSJ '\n",
    "a.strip()"
   ]
  },
  {
   "cell_type": "markdown",
   "metadata": {},
   "source": [
    "<body>\n",
    "  <head>\n",
    "    <title>Learn Python</title>\n",
    "    <link rel=\"stylesheet\" href=\"./Resources/assets/style.css\" />\n",
    "  </head>\n",
    "  <h3>Prefixes and Suffixes</h3>\n",
    "</body>\n"
   ]
  },
  {
   "cell_type": "code",
   "execution_count": null,
   "metadata": {},
   "outputs": [],
   "source": [
    "line = 'How are you doing today?'\n",
    "line.startswith('How')"
   ]
  },
  {
   "cell_type": "code",
   "execution_count": null,
   "metadata": {},
   "outputs": [],
   "source": [
    "line.endswith('?')"
   ]
  },
  {
   "cell_type": "code",
   "execution_count": null,
   "metadata": {},
   "outputs": [],
   "source": [
    "line.startswith('h')"
   ]
  },
  {
   "cell_type": "markdown",
   "metadata": {},
   "source": [
    "<body>\n",
    "  <head>\n",
    "    <title>Learn Python</title>\n",
    "    <link rel=\"stylesheet\" href=\"./Resources/assets/style.css\" />\n",
    "  </head>\n",
    "  <h3>Parsing and Extracting</h3>\n",
    "</body>\n"
   ]
  },
  {
   "cell_type": "code",
   "execution_count": null,
   "metadata": {},
   "outputs": [],
   "source": [
    "data  = 'from:\tGrammarly Insights <info@grammarly.com>'\n",
    "fpos = data.find('<')\n",
    "print(fpos)"
   ]
  },
  {
   "cell_type": "code",
   "execution_count": null,
   "metadata": {},
   "outputs": [],
   "source": [
    "lpos = data.find('>')\n",
    "print(lpos)"
   ]
  },
  {
   "cell_type": "code",
   "execution_count": null,
   "metadata": {},
   "outputs": [],
   "source": [
    "email = data[fpos+1:lpos]\n",
    "print(email)"
   ]
  },
  {
   "cell_type": "markdown",
   "metadata": {},
   "source": [
    "<body>\n",
    "  <h3 style=\"color: wheat; text-align: center; font-family: 'Times New Roman', Times, serif; font-size: 30px;\">Chapter 7: Reading Files</h3>\n",
    "</body>"
   ]
  },
  {
   "cell_type": "markdown",
   "metadata": {},
   "source": [
    "<body>\n",
    "  <head>\n",
    "    <title>Learn Python</title>\n",
    "    <link rel=\"stylesheet\" href=\"./Resources/assets/style.css\" />\n",
    "  </head>\n",
    "  <h3>File Processing</h3>\n",
    "  <list>\n",
    "    <ul>\n",
    "      <li><p>A text file can be thought as a sequence of lines</p></li>\n",
    "    </ul>\n",
    "  </list>\n",
    "  <pre class=\"lblu\">\n",
    "        from:\tGrammarly Insights <\"info@send.grammarly.com\">\n",
    "        reply-to:\tNo Reply <\"reply-fe8c107277670d7a7d-45825_HTML-418795428-6424583-3256@send.grammarly.com\">\n",
    "        to:\tgmailaddress@gmail.com\n",
    "        date:\tMar 15, 2022, 7:37 AM\n",
    "        subject:\tKeep writing to see your super stats.\n",
    "        mailing list:\t<\"6424583.xt.local\"> Filter messages from this mailing list\n",
    "        mailed-by:\tbounce.send.grammarly.com\n",
    "        signed-by:\tsend.grammarly.com\n",
    "        security:\t Standard encryption (TLS) Learn more\n",
    "  </pre\n",
    "  >\n",
    "</body>\n"
   ]
  },
  {
   "cell_type": "markdown",
   "metadata": {},
   "source": [
    "<body>\n",
    "  <head>\n",
    "    <title>Learn Python</title>\n",
    "    <link rel=\"stylesheet\" href=\"./Resources/assets/style.css\" />\n",
    "  </head>\n",
    "  <h3>Opening a File</h3>\n",
    "  <list>\n",
    "    <ul>\n",
    "      <li><p>Before we can read the contents of the file, we must tell Python which file we are going to work with and what we will be doing with the file</p></li>\n",
    "      <li><p>This is done with the <span class=\"prpl\">open</span>() function</p></li>\n",
    "      <li><p><span class=\"prpl\">open</span>() returns a \"<span class=\"orng\">file handle </span>\" - a variable used to perform operations on the file</p></li>\n",
    "      <li><p>Similar to \"File ⇨ Open\" in a Word Processor</p></li>\n",
    "    </ul>\n",
    "  </list>\n",
    "</body>\n"
   ]
  },
  {
   "cell_type": "markdown",
   "metadata": {},
   "source": [
    "<body>\n",
    "  <head>\n",
    "    <title>Learn Python</title>\n",
    "    <link rel=\"stylesheet\" href=\"./Resources/assets/style.css\" />\n",
    "  </head>\n",
    "  <h3>Using open()</h3>\n",
    "  <list>\n",
    "    <ul>\n",
    "      <li>\n",
    "        <p>\n",
    "          <span class=\"orng\">file</span> = <span class=\"prpl\">open</span>('<span\n",
    "            class=\"cyn\"\n",
    "            >data.txt</span\n",
    "          >', '<span class=\"ylw\">r</span>')\n",
    "        </p>\n",
    "      </li>\n",
    "      <li>\n",
    "        <p>\n",
    "          <span class=\"orng\">handle</span> =\n",
    "          <span class=\"prpl\">open</span>(<span class=\"cyn\">filename</span>,\n",
    "          <span class=\"ylw\">mode</span>)\n",
    "        </p>\n",
    "      </li>\n",
    "      <li><p class=\"orng\">return a handle use to manipulate the file</p></li>\n",
    "      <li><p class=\"cyn\">filename is a string</p></li>\n",
    "      <li>\n",
    "        <p class=\"ylw\">\n",
    "          mode is optional and should be 'r' if we are planning to read the file\n",
    "          and 'w' if we are going to write to the file\n",
    "        </p>\n",
    "      </li>\n",
    "    </ul>\n",
    "  </list>\n",
    "</body>\n"
   ]
  },
  {
   "cell_type": "code",
   "execution_count": null,
   "metadata": {},
   "outputs": [],
   "source": [
    "file = open('./Resources/docs/email.txt')\n",
    "print(file)"
   ]
  },
  {
   "cell_type": "code",
   "execution_count": null,
   "metadata": {},
   "outputs": [],
   "source": [
    "file1 = open('file.txt')\n",
    "print(file1)"
   ]
  },
  {
   "cell_type": "markdown",
   "metadata": {},
   "source": [
    "<body>\n",
    "  <head>\n",
    "    <title>Learn Python</title>\n",
    "    <link rel=\"stylesheet\" href=\"./Resources/assets/style.css\" />\n",
    "  </head>\n",
    "  <h3>The newline Character</h3>\n",
    "  <list>\n",
    "    <ul>\n",
    "      <li><p>We use a special character called the \"<span class=\"cyn\">newline</span>\" to indicate when a line ends</p></li>\n",
    "      <li><p>We represent is as <span class=\"cyn\">\\n </span>in strings</p></li>\n",
    "      <li><p><span class=\"cyn\">Newline </span>is still one character - not two</p></li>\n",
    "    </ul>\n",
    "  </list>\n",
    "</body>\n"
   ]
  },
  {
   "cell_type": "code",
   "execution_count": null,
   "metadata": {},
   "outputs": [],
   "source": [
    "word = 'Burmese\\nPython'\n",
    "print(word)"
   ]
  },
  {
   "cell_type": "code",
   "execution_count": null,
   "metadata": {},
   "outputs": [],
   "source": [
    "len(word)"
   ]
  },
  {
   "cell_type": "code",
   "execution_count": null,
   "metadata": {},
   "outputs": [],
   "source": [
    "a = 'b\\nc'\n",
    "print(a)"
   ]
  },
  {
   "cell_type": "code",
   "execution_count": null,
   "metadata": {},
   "outputs": [],
   "source": [
    "len(a)"
   ]
  },
  {
   "cell_type": "markdown",
   "metadata": {},
   "source": [
    "<body>\n",
    "  <head>\n",
    "    <title>Learn Python</title>\n",
    "    <link rel=\"stylesheet\" href=\"./Resources/assets/style.css\" />\n",
    "  </head>\n",
    "  <h3>File Processing</h3>\n",
    "  <list>\n",
    "    <ul>\n",
    "      <li>\n",
    "        <p>A text file has <span>newlines </span>at the end of each line</p>\n",
    "      </li>\n",
    "    </ul>\n",
    "  </list>\n",
    "  <pre class=\"lblu\">\n",
    "        from:\tGrammarly Insights <\"info@send.grammarly.com\"><span class=\"cyn\">\\n</span>\n",
    "        reply-to:\tNo Reply <\"reply-fe8c107277670d7a7d-45825_HTML-418795428-6424583-3256@send.grammarly.com\"><span class=\"cyn\">\\n</span>\n",
    "        to:\tgmailaddress@gmail.com<span class=\"cyn\">\\n</span>\n",
    "        date:\tMar 15, 2022, 7:37 AM<span class=\"cyn\">\\n</span>\n",
    "        subject:\tKeep writing to see your super stats.<span class=\"cyn\">\\n</span>\n",
    "        mailing list:\t<\"6424583.xt.local\"> Filter messages from this mailing list<span class=\"cyn\">\\n</span>\n",
    "        mailed-by:\tbounce.send.grammarly.com<span class=\"cyn\">\\n</span>\n",
    "        signed-by:\tsend.grammarly.com<span class=\"cyn\">\\n</span>\n",
    "        <span class=\"cyn\">\\n</span>\n",
    "        security:\t Standard encryption (TLS) Learn more<span class=\"cyn\">\\n</span>\n",
    "  </pre>\n",
    "</body>\n"
   ]
  },
  {
   "cell_type": "markdown",
   "metadata": {},
   "source": [
    "<body>\n",
    "  <head>\n",
    "    <title>Learn Python</title>\n",
    "    <link rel=\"stylesheet\" href=\"./Resources/assets/style.css\" />\n",
    "  </head>\n",
    "  <h3>File Handle as a Sequence</h3>\n",
    "  <list>\n",
    "    <ul>\n",
    "      <li><p>A <span class=\"orng\">file handle </span>open for read can be treated as a <span class=\"cyn\">sequence </span>of string where each line in the file is a string in the sequence</p></li>\n",
    "      <li><p>We can use the <span class=\"ylw\">for </span>statement to iterate through a <span class=\"cyn\">sequence</span></p></li>\n",
    "      <li><p>Remember - a <span class=\"cyn\">sequence </span>is an ordered set</p></li>\n",
    "    </ul>\n",
    "  </list>\n",
    "</body>\n"
   ]
  },
  {
   "cell_type": "code",
   "execution_count": null,
   "metadata": {},
   "outputs": [],
   "source": [
    "xfile = open(\"./Resources/docs/email.txt\")\n",
    "xfile"
   ]
  },
  {
   "cell_type": "code",
   "execution_count": null,
   "metadata": {},
   "outputs": [],
   "source": [
    "xfile = open(\"./Resources/docs/email.txt\")\n",
    "for line in xfile:\n",
    "    print(line)"
   ]
  },
  {
   "cell_type": "markdown",
   "metadata": {},
   "source": [
    "<body>\n",
    "  <head>\n",
    "    <title>Learn Python</title>\n",
    "    <link rel=\"stylesheet\" href=\"./Resources/assets/style.css\" />\n",
    "  </head>\n",
    "  <h3>Counting Lines in a File</h3>\n",
    "  <list>\n",
    "    <ul>\n",
    "      <li>\n",
    "        <p>\n",
    "          Open a <span class=\"grn\">file </span>read-only\n",
    "        </p>\n",
    "      </li>\n",
    "      <li>\n",
    "        <p>\n",
    "          Use a <span class=\"ylw\">for </span>loop to read each line\n",
    "        </p>\n",
    "      </li>\n",
    "      <li>\n",
    "        <p>\n",
    "          <span class=\"orng\">Count </span>the lines and print out the number of lines\n",
    "        </p>\n",
    "      </li>\n",
    "    </ul>\n",
    "  </list>\n",
    "</body>\n"
   ]
  },
  {
   "cell_type": "code",
   "execution_count": null,
   "metadata": {},
   "outputs": [],
   "source": [
    "fname = open(\"./Resources/docs/email.txt\")\n",
    "count = 0\n",
    "for line in fname:\n",
    "    count = count + 1\n",
    "print('Line Count:',count)"
   ]
  },
  {
   "cell_type": "markdown",
   "metadata": {},
   "source": [
    "<body>\n",
    "  <head>\n",
    "    <title>Learn Python</title>\n",
    "    <link rel=\"stylesheet\" href=\"./Resources/assets/style.css\" />\n",
    "  </head>\n",
    "  <h3>Reading the *Whole* File</h3>\n",
    "  <p>\n",
    "    We can <span class=\"orng\">read </span>the whole file (newlines and all) into\n",
    "    a <span class=\"cyn\">single string</span>\n",
    "  </p>\n",
    "</body>\n"
   ]
  },
  {
   "cell_type": "code",
   "execution_count": null,
   "metadata": {},
   "outputs": [],
   "source": [
    "theFile = open(\"./Resources/docs/email.txt\")\n",
    "data = theFile.read()\n",
    "print(data)"
   ]
  },
  {
   "cell_type": "code",
   "execution_count": null,
   "metadata": {},
   "outputs": [],
   "source": [
    "print(len(data))"
   ]
  },
  {
   "cell_type": "code",
   "execution_count": null,
   "metadata": {},
   "outputs": [],
   "source": [
    "print(data[:25])"
   ]
  },
  {
   "cell_type": "markdown",
   "metadata": {},
   "source": [
    "<body>\n",
    "  <head>\n",
    "    <title>Learn Python</title>\n",
    "    <link rel=\"stylesheet\" href=\"./Resources/assets/style.css\" />\n",
    "  </head>\n",
    "  <h3>Searching Through a File</h3>\n",
    "  <p>\n",
    "    We can put an <span class=\"ylw\">if </span>statement in our\n",
    "    <span class=\"ylw\">for </span>loop to only print lines that meet some\n",
    "    criteria\n",
    "  </p>\n",
    "</body>"
   ]
  },
  {
   "cell_type": "code",
   "execution_count": null,
   "metadata": {},
   "outputs": [],
   "source": [
    "file3 = open(\"./Resources/docs/email.txt\")\n",
    "for line in file3:\n",
    "  if line.startswith('from:'):\n",
    "    print(line)"
   ]
  },
  {
   "cell_type": "markdown",
   "metadata": {},
   "source": [
    "<body>\n",
    "  <head>\n",
    "    <title>Learn Python</title>\n",
    "    <link rel=\"stylesheet\" href=\"./Resources/assets/style.css\" />\n",
    "  </head>\n",
    "  <h3>Problem</h3>\n",
    "  <p class=\"pslst\">What are all these blank lines doing here</p>\n",
    "  <pre class=\"lblu\">\n",
    "  from:\tGrammarly Insights <'info@send.grammarly.com><span class=\"cyn\">\\n</span>\n",
    "  <span class=\"cyn\">\\n</span>\n",
    "  from:\tReddit <'noreply@redditmail.com><span class=\"cyn\">\\n</span>\n",
    "  <span class=\"cyn\">\\n</span>\n",
    "  from:\tIconScout <'mail@iconscout.com><span class=\"cyn\">\\n</span>\n",
    "  <span class=\"cyn\">\\n</span>\n",
    "  from:\tHackerRank Team <'no-reply@hackerrankmail.com>\n",
    "</pre>\n",
    "  <list>\n",
    "    <ul>\n",
    "      <li>\n",
    "        <p>\n",
    "          Each line from the file has a <span class=\"grn\">newline </span>at the\n",
    "          end\n",
    "        </p>\n",
    "      </li>\n",
    "      <li>\n",
    "        <p>\n",
    "          The <span class=\"ylw\">print </span>statement adds a\n",
    "          <span class=\"ylw\">newline </span>to each line\n",
    "        </p>\n",
    "      </li>\n",
    "    </ul>\n",
    "  </list>\n",
    "</body>\n"
   ]
  },
  {
   "cell_type": "markdown",
   "metadata": {},
   "source": [
    "<body>\n",
    "  <head>\n",
    "    <title>Learn Python</title>\n",
    "    <link rel=\"stylesheet\" href=\"./Resources/assets/style.css\" />\n",
    "  </head>\n",
    "  <h3>Searching Through a File (fixed)</h3>\n",
    "  <list>\n",
    "    <ul>\n",
    "      <li><p>We can strip the whitespace from the right-hand side of the string using <span class=\"orng\">rstrip</span>() from the string library</p></li>\n",
    "      <li><p>The newline is considered \"white space\" and is <span class=\"orng\">stripped</span></p></li>\n",
    "    </ul>\n",
    "  </list>\n",
    "</body>\n"
   ]
  },
  {
   "cell_type": "code",
   "execution_count": null,
   "metadata": {},
   "outputs": [],
   "source": [
    "txtFile1 = open(\"./Resources/docs/email.txt\")\n",
    "for line in txtFile1:\n",
    "  line = line.rstrip()\n",
    "  if line.startswith('from:'):\n",
    "    print(line) "
   ]
  },
  {
   "cell_type": "markdown",
   "metadata": {},
   "source": [
    "<body>\n",
    "  <head>\n",
    "    <title>Learn Python</title>\n",
    "    <link rel=\"stylesheet\" href=\"./Resources/assets/style.css\" />\n",
    "  </head>\n",
    "  <h3>Skipping with continue</h3>\n",
    "  <p>We can conveniently skip a line by using the <span class=\"ylw\">continue </span>statement</p>\n",
    "</body>\n"
   ]
  },
  {
   "cell_type": "code",
   "execution_count": null,
   "metadata": {},
   "outputs": [],
   "source": [
    "txtFile2 = open(\"./Resources/docs/email.txt\")\n",
    "for line in txtFile2:\n",
    "  line = line.rstrip()\n",
    "  if not line.startswith('from:'):\n",
    "    continue\n",
    "  print(line)"
   ]
  },
  {
   "cell_type": "markdown",
   "metadata": {},
   "source": [
    "<body>\n",
    "  <head>\n",
    "    <title>Learn Python</title>\n",
    "    <link rel=\"stylesheet\" href=\"./Resources/assets/style.css\" />\n",
    "  </head>\n",
    "  <h3>\n",
    "    Using <span class=\"ylw\">in </span>to select <span class=\"grn\">lines</span>\n",
    "  </h3>\n",
    "  <p>\n",
    "    We can look for a string anywhere <span class=\"ylw\">in </span>a\n",
    "    <span class=\"grn\">line </span>as our selection criteria\n",
    "  </p>\n",
    "</body>\n"
   ]
  },
  {
   "cell_type": "code",
   "execution_count": null,
   "metadata": {},
   "outputs": [],
   "source": [
    "fhandle = open(\"./Resources/docs/email.txt\")\n",
    "for line in fhandle:\n",
    "  line = line.rstrip()\n",
    "  if not '@' in line:\n",
    "    continue\n",
    "  print(line)"
   ]
  },
  {
   "cell_type": "markdown",
   "metadata": {},
   "source": [
    "<body>\n",
    "  <head>\n",
    "    <title>Learn Python</title>\n",
    "    <link rel=\"stylesheet\" href=\"./Resources/assets/style.css\" />\n",
    "  </head>\n",
    "  <h3>\n",
    "    Prompt for File Name\n",
    "  </h3>\n",
    "  <p>\n",
    "    We use input() function to get file name and Assign to variable\n",
    "  </p>\n",
    "</body>\n"
   ]
  },
  {
   "cell_type": "code",
   "execution_count": null,
   "metadata": {},
   "outputs": [],
   "source": [
    "fname = input('Enter the file name: ')\n",
    "fhand = open(fname)\n",
    "count = 0\n",
    "for line in fhand:\n",
    "    if line.startswith('subject:'):\n",
    "        count = count + 1\n",
    "print('There were', count, 'subject lines in', fname)"
   ]
  },
  {
   "cell_type": "markdown",
   "metadata": {},
   "source": [
    "<body>\n",
    "  <head>\n",
    "    <title>Learn Python</title>\n",
    "    <link rel=\"stylesheet\" href=\"./Resources/assets/style.css\" />\n",
    "  </head>\n",
    "  <h3>\n",
    "    Bad File Names\n",
    "  </h3>\n",
    "</body>\n"
   ]
  },
  {
   "cell_type": "code",
   "execution_count": null,
   "metadata": {},
   "outputs": [],
   "source": [
    "file4 = input('Enter the file name: ')\n",
    "fhand = open(file4)\n",
    "print(fhand)"
   ]
  },
  {
   "cell_type": "code",
   "execution_count": null,
   "metadata": {},
   "outputs": [],
   "source": [
    "fname = input('Enter the file name: ')\n",
    "try:\n",
    "  fhand = open(fname)\n",
    "except:\n",
    "  print('File cannot be opened:', fname)\n",
    "  \n",
    "\n",
    "count = 0\n",
    "for line in fhand:\n",
    "    if line.startswith('subject:'):\n",
    "        count = count + 1\n",
    "print('There were', count, 'subject lines in', fname)"
   ]
  },
  {
   "cell_type": "markdown",
   "metadata": {},
   "source": [
    "<body>\n",
    "  <h3 style=\"color: wheat; text-align: center; font-family: 'Times New Roman', Times, serif; font-size: 30px;\">Chapter 8: Python Lists</h3>\n",
    "</body>"
   ]
  },
  {
   "cell_type": "markdown",
   "metadata": {},
   "source": [
    "<body>\n",
    "  <head>\n",
    "    <title>Learn Python</title>\n",
    "    <link rel=\"stylesheet\" href=\"./Resources/assets/style.css\" />\n",
    "  </head>\n",
    "  <h3>Programming</h3>\n",
    "  <list>\n",
    "    <dl>\n",
    "      <dt class=\"orng\">Algorithms</dt>\n",
    "      <dd>A set of rules or steps used to solve a problem</dd>\n",
    "      <dt class=\"orng\">Data Structures</dt>\n",
    "      <dd>A particular way of organizing data in a computer</dd>\n",
    "    </dl>\n",
    "  </list>\n",
    "</body>\n"
   ]
  },
  {
   "cell_type": "markdown",
   "metadata": {},
   "source": [
    "<body>\n",
    "  <head>\n",
    "    <title>Learn Python</title>\n",
    "    <link rel=\"stylesheet\" href=\"./Resources/assets/style.css\" />\n",
    "  </head>\n",
    "  <h3>What is not a \"Collection\"</h3>\n",
    "<p>Most of our <span class=\"grn\">variables </span>have one value in them - when we put a new value in the <span class=\"grn\">variable</span>, the old value is overwritten</p>\n",
    "</body>\n"
   ]
  },
  {
   "cell_type": "code",
   "execution_count": null,
   "metadata": {},
   "outputs": [],
   "source": [
    "z = \"Apple\"\n",
    "print(z)\n",
    "z = \"Apple1\"\n",
    "print(z)"
   ]
  },
  {
   "cell_type": "code",
   "execution_count": null,
   "metadata": {},
   "outputs": [],
   "source": [
    "x = 2\n",
    "print(x)\n",
    "x = 4\n",
    "print(x)"
   ]
  },
  {
   "cell_type": "markdown",
   "metadata": {},
   "source": [
    "<body>\n",
    "  <head>\n",
    "    <title>Learn Python</title>\n",
    "    <link rel=\"stylesheet\" href=\"./Resources/assets/style.css\" />\n",
    "  </head>\n",
    "  <h3>A List is a kind of Collection</h3>\n",
    "  <list>\n",
    "    <ul>\n",
    "      <li>\n",
    "        <p>\n",
    "          A <span class=\"prpl\">collection </span>allows us to put many values in\n",
    "          a single \"<span class=\"grn\">variable</span>\"\n",
    "        </p>\n",
    "      </li>\n",
    "      <li>\n",
    "        <p>\n",
    "          A <span class=\"prpl\">collection </span>is nice because we can carry\n",
    "          <span class=\"orng\">many values </span>around in one convenient package\n",
    "        </p>\n",
    "      </li>\n",
    "    </ul>\n",
    "  </list>\n",
    "</body>\n"
   ]
  },
  {
   "cell_type": "code",
   "execution_count": null,
   "metadata": {},
   "outputs": [],
   "source": [
    "fruits = ['banana', 'apple', 'mango', 'orange', 'kiwi']"
   ]
  },
  {
   "cell_type": "code",
   "execution_count": null,
   "metadata": {},
   "outputs": [],
   "source": [
    "print(fruits)"
   ]
  },
  {
   "cell_type": "code",
   "execution_count": null,
   "metadata": {},
   "outputs": [],
   "source": [
    "colors = ['red', 'green', 'blue', 'yellow', 'pink']"
   ]
  },
  {
   "cell_type": "markdown",
   "metadata": {},
   "source": [
    "<body>\n",
    "  <head>\n",
    "    <title>Learn Python</title>\n",
    "    <link rel=\"stylesheet\" href=\"./Resources/assets/style.css\" />\n",
    "  </head>\n",
    "  <h3>List Constants</h3>\n",
    "  <list>\n",
    "    <ul>\n",
    "      <li>\n",
    "        <p>\n",
    "          <span class=\"orng\">List </span>constants are surrounded by square\n",
    "          brackets and the elements in the list are separated by commas\n",
    "        </p>\n",
    "      </li>\n",
    "      <li>\n",
    "        <p>\n",
    "          A <span class=\"orng\">List </span>can be any Python object - even\n",
    "          <span class=\"cyn\">another list</span>\n",
    "        </p>\n",
    "      </li>\n",
    "      <li>\n",
    "        <p>A <span class=\"orng\">List </span>can be empty</p>\n",
    "      </li>\n",
    "    </ul>\n",
    "  </list>\n",
    "</body>\n"
   ]
  },
  {
   "cell_type": "code",
   "execution_count": null,
   "metadata": {},
   "outputs": [],
   "source": [
    "print ([1, 2, 3, 4, 5])"
   ]
  },
  {
   "cell_type": "code",
   "execution_count": null,
   "metadata": {},
   "outputs": [],
   "source": [
    "lst = []\n",
    "type(lst)"
   ]
  },
  {
   "cell_type": "code",
   "execution_count": null,
   "metadata": {},
   "outputs": [],
   "source": [
    "print(['red','green','blue','yellow','pink'])"
   ]
  },
  {
   "cell_type": "code",
   "execution_count": null,
   "metadata": {},
   "outputs": [],
   "source": [
    "print(['red', 12, 12.12])"
   ]
  },
  {
   "cell_type": "code",
   "execution_count": null,
   "metadata": {},
   "outputs": [],
   "source": [
    "print([1,2,[3,4],5])"
   ]
  },
  {
   "cell_type": "markdown",
   "metadata": {},
   "source": [
    "<body>\n",
    "  <head>\n",
    "    <title>Learn Python</title>\n",
    "    <link rel=\"stylesheet\" href=\"./Resources/assets/style.css\" />\n",
    "  </head>\n",
    "  <h3>We already use lists!</h3>\n",
    "</body>\n"
   ]
  },
  {
   "cell_type": "code",
   "execution_count": null,
   "metadata": {},
   "outputs": [],
   "source": [
    "for i in [5,4,3,2,1]:\n",
    "    print(i)"
   ]
  },
  {
   "cell_type": "markdown",
   "metadata": {},
   "source": [
    "<body>\n",
    "  <head>\n",
    "    <title>Learn Python</title>\n",
    "    <link rel=\"stylesheet\" href=\"./Resources/assets/style.css\" />\n",
    "  </head>\n",
    "  <h3>Lists and definite loops - best pals</h3>\n",
    "</body>\n"
   ]
  },
  {
   "cell_type": "code",
   "execution_count": null,
   "metadata": {},
   "outputs": [],
   "source": [
    "friends = ['Joseph', 'Glenn', 'Sally']\n",
    "for friend in friends:\n",
    "    print('Happy New Year:', friend)"
   ]
  },
  {
   "cell_type": "code",
   "execution_count": null,
   "metadata": {},
   "outputs": [],
   "source": [
    "z = ['Joseph', 'Glenn', 'Sally']\n",
    "for x in z:\n",
    "    print('Happy New Year:', x)"
   ]
  },
  {
   "cell_type": "markdown",
   "metadata": {},
   "source": [
    "<body>\n",
    "  <head>\n",
    "    <title>Learn Python</title>\n",
    "    <link rel=\"stylesheet\" href=\"./Resources/assets/style.css\" />\n",
    "  </head>\n",
    "  <h3>Looking Inside Lists</h3>\n",
    "  <p>\n",
    "    Just like strings, we can get any single elements in a list using an index\n",
    "    specified in <span class=\"cyn\">square brackets</span>\n",
    "  </p>\n",
    "  <img src=\"./Resources/Flowcharts/listidx.png\" alt=\"listidx\" />\n",
    "</body>\n"
   ]
  },
  {
   "cell_type": "code",
   "execution_count": null,
   "metadata": {},
   "outputs": [],
   "source": [
    "fruit = \"Apple\"\n",
    "fruit[2]"
   ]
  },
  {
   "cell_type": "code",
   "execution_count": null,
   "metadata": {},
   "outputs": [],
   "source": [
    "words = ['Alpha','Bravo','Charlie']\n",
    "print(words[1])"
   ]
  },
  {
   "cell_type": "markdown",
   "metadata": {},
   "source": [
    "<!DOCTYPE html>\n",
    "<html lang=\"en\">\n",
    "  <head>\n",
    "    <meta charset=\"UTF-8\" />\n",
    "    <meta http-equiv=\"X-UA-Compatible\" content=\"IE=edge\" />\n",
    "    <meta name=\"viewport\" content=\"width=device-width, initial-scale=1.0\" />\n",
    "    <title>Learn Python</title>\n",
    "    <link rel=\"stylesheet\" href=\"./Resources/assets/style.css\" />\n",
    "  </head>\n",
    "  <body>\n",
    "    <h3>Lists are Mutable</h3>\n",
    "    <list>\n",
    "      <ul>\n",
    "        <li>\n",
    "          <p>\n",
    "            Strings are \"<span class=\"grn\">immutable</span>\" - we cannot change\n",
    "            the contents of a string - we must make a\n",
    "            <span class=\"prpl\">new string</span> to make any change.\n",
    "          </p>\n",
    "        </li>\n",
    "        <li>\n",
    "          <p>\n",
    "            List are \"<span class=\"grn\">mutable</span>\" - we can\n",
    "            <span class=\"prpl\">change </span>an element of the list using the\n",
    "            <span class=\"cyn\">index </span>operator\n",
    "          </p>\n",
    "        </li>\n",
    "      </ul>\n",
    "    </list>\n",
    "  </body>\n",
    "</html>\n"
   ]
  },
  {
   "cell_type": "code",
   "execution_count": null,
   "metadata": {},
   "outputs": [],
   "source": [
    "fruit = \"APPLE\"\n",
    "print(fruit)\n",
    "print(fruit.lower())\n",
    "print(fruit)\n",
    "fruit = fruit.lower()\n",
    "print(fruit)"
   ]
  },
  {
   "cell_type": "code",
   "execution_count": null,
   "metadata": {},
   "outputs": [],
   "source": [
    "fruit[2] = 'l'"
   ]
  },
  {
   "cell_type": "code",
   "execution_count": null,
   "metadata": {},
   "outputs": [],
   "source": [
    "nums = [1,2,3,4,5]\n",
    "print(nums)"
   ]
  },
  {
   "cell_type": "code",
   "execution_count": null,
   "metadata": {},
   "outputs": [],
   "source": [
    "nums[4] = 6\n",
    "print(nums)"
   ]
  },
  {
   "cell_type": "code",
   "execution_count": null,
   "metadata": {},
   "outputs": [],
   "source": [
    "words = ['Alpha','Bravo','Delta']\n",
    "print(words[2])"
   ]
  },
  {
   "cell_type": "code",
   "execution_count": null,
   "metadata": {},
   "outputs": [],
   "source": [
    "words[2] = 'Charlie'\n",
    "print(words)"
   ]
  },
  {
   "cell_type": "code",
   "execution_count": null,
   "metadata": {},
   "outputs": [],
   "source": [
    "'banana' in 'Banana'"
   ]
  },
  {
   "cell_type": "markdown",
   "metadata": {},
   "source": [
    "<!DOCTYPE html>\n",
    "<html lang=\"en\">\n",
    "  <head>\n",
    "    <meta charset=\"UTF-8\" />\n",
    "    <meta http-equiv=\"X-UA-Compatible\" content=\"IE=edge\" />\n",
    "    <meta name=\"viewport\" content=\"width=device-width, initial-scale=1.0\" />\n",
    "    <title>Learn Python</title>\n",
    "    <link rel=\"stylesheet\" href=\"./Resources/assets/style.css\" />\n",
    "  </head>\n",
    "  <body>\n",
    "    <h3>How long is a List?</h3>\n",
    "    <list>\n",
    "      <ul>\n",
    "        <li>\n",
    "          <p>\n",
    "            The <span class=\"prpl\">len() </span>function takes a\n",
    "            <span class=\"choc\">list </span>as a parameter and returns the number\n",
    "            of <span class=\"cyn\">elements </span>in the\n",
    "            <span class=\"choc\">list </span>\n",
    "          </p>\n",
    "        </li>\n",
    "        <li>\n",
    "          <p>\n",
    "            Actually <span class=\"prpl\">len() </span>tells us the number of\n",
    "            elements of any set or sequence (such as a string...)\n",
    "          </p>\n",
    "        </li>\n",
    "      </ul>\n",
    "    </list>\n",
    "  </body>\n",
    "</html>\n"
   ]
  },
  {
   "cell_type": "code",
   "execution_count": null,
   "metadata": {},
   "outputs": [],
   "source": [
    "greet = 'Hello Bruce'\n",
    "print(len(greet))"
   ]
  },
  {
   "cell_type": "code",
   "execution_count": null,
   "metadata": {},
   "outputs": [],
   "source": [
    "x = [1,2,3,'Alpha', 'Bravo', 'Charlie']\n",
    "print(len(x))"
   ]
  },
  {
   "cell_type": "markdown",
   "metadata": {},
   "source": [
    "<!DOCTYPE html>\n",
    "<html lang=\"en\">\n",
    "  <head>\n",
    "    <meta charset=\"UTF-8\" />\n",
    "    <meta http-equiv=\"X-UA-Compatible\" content=\"IE=edge\" />\n",
    "    <meta name=\"viewport\" content=\"width=device-width, initial-scale=1.0\" />\n",
    "    <title>Learn Python</title>\n",
    "    <link rel=\"stylesheet\" href=\"./Resources/assets/style.css\" />\n",
    "  </head>\n",
    "  <body>\n",
    "    <h3>Using the <span class=\"prpl\">range </span>function</h3>\n",
    "    <list>\n",
    "      <ul>\n",
    "        <li>\n",
    "          <p>\n",
    "            The <span class=\"prpl\">range </span>function\n",
    "            <span class=\"prpl\">returns a list of numbers </span>that range from\n",
    "            zero to one less than the <span class=\"rd\">parameter</span>\n",
    "          </p>\n",
    "        </li>\n",
    "        <li>\n",
    "          <p>\n",
    "            We can construct an index loop using\n",
    "            <span class=\"ylw\">for </span>and an integer\n",
    "            <span class=\"grn\">iterator</span>\n",
    "          </p>\n",
    "        </li>\n",
    "      </ul>\n",
    "    </list>\n",
    "  </body>\n",
    "</html>\n"
   ]
  },
  {
   "cell_type": "code",
   "execution_count": null,
   "metadata": {},
   "outputs": [],
   "source": [
    "print(range(5))"
   ]
  },
  {
   "cell_type": "code",
   "execution_count": null,
   "metadata": {},
   "outputs": [],
   "source": [
    "colors = ['red', 'green', 'blue', 'yellow', 'pink',1,2,3,4,5]\n",
    "print(len(colors))"
   ]
  },
  {
   "cell_type": "code",
   "execution_count": null,
   "metadata": {},
   "outputs": [],
   "source": [
    "print(range(len(colors)))"
   ]
  },
  {
   "cell_type": "markdown",
   "metadata": {},
   "source": [
    "<!DOCTYPE html>\n",
    "<html lang=\"en\">\n",
    "  <head>\n",
    "    <meta charset=\"UTF-8\" />\n",
    "    <meta http-equiv=\"X-UA-Compatible\" content=\"IE=edge\" />\n",
    "    <meta name=\"viewport\" content=\"width=device-width, initial-scale=1.0\" />\n",
    "    <title>Learn Python</title>\n",
    "    <link rel=\"stylesheet\" href=\"./Resources/assets/style.css\" />\n",
    "  </head>\n",
    "  <body>\n",
    "    <h3>\n",
    "      Lists can be <span class=\"cyn\">sliced </span>using\n",
    "      <span class=\"cyn\">:</span>\n",
    "    </h3>\n",
    "  </body>\n",
    "</html>\n"
   ]
  },
  {
   "cell_type": "code",
   "execution_count": null,
   "metadata": {},
   "outputs": [],
   "source": [
    "lst = [9, 18, 27, 36, 45, 54, 63, 72, 81, 90]\n",
    "lst[5]"
   ]
  },
  {
   "cell_type": "code",
   "execution_count": null,
   "metadata": {},
   "outputs": [],
   "source": [
    "lst[1:6]"
   ]
  },
  {
   "cell_type": "code",
   "execution_count": null,
   "metadata": {},
   "outputs": [],
   "source": [
    "lst[:6]"
   ]
  },
  {
   "cell_type": "code",
   "execution_count": null,
   "metadata": {},
   "outputs": [],
   "source": [
    "lst[6:]"
   ]
  },
  {
   "cell_type": "code",
   "execution_count": null,
   "metadata": {},
   "outputs": [],
   "source": [
    "lst[::-1]"
   ]
  },
  {
   "cell_type": "markdown",
   "metadata": {},
   "source": [
    "<!DOCTYPE html>\n",
    "<html lang=\"en\">\n",
    "  <head>\n",
    "    <meta charset=\"UTF-8\" />\n",
    "    <meta http-equiv=\"X-UA-Compatible\" content=\"IE=edge\" />\n",
    "    <meta name=\"viewport\" content=\"width=device-width, initial-scale=1.0\" />\n",
    "    <title>Learn Python</title>\n",
    "    <link rel=\"stylesheet\" href=\"./Resources/assets/style.css\" />\n",
    "  </head>\n",
    "  <body>\n",
    "    <h3>\n",
    "      List Methods\n",
    "    </h3>\n",
    "  </body>\n",
    "</html>\n"
   ]
  },
  {
   "cell_type": "code",
   "execution_count": null,
   "metadata": {},
   "outputs": [],
   "source": [
    "x = [1,2,3]\n",
    "type(x)"
   ]
  },
  {
   "cell_type": "code",
   "execution_count": null,
   "metadata": {},
   "outputs": [],
   "source": [
    "dir(x)"
   ]
  },
  {
   "cell_type": "markdown",
   "metadata": {},
   "source": [
    "<!DOCTYPE html>\n",
    "<html lang=\"en\">\n",
    "  <head>\n",
    "    <meta charset=\"UTF-8\" />\n",
    "    <meta http-equiv=\"X-UA-Compatible\" content=\"IE=edge\" />\n",
    "    <meta name=\"viewport\" content=\"width=device-width, initial-scale=1.0\" />\n",
    "    <title>Learn Python</title>\n",
    "    <link rel=\"stylesheet\" href=\"./Resources/assets/style.css\" />\n",
    "  </head>\n",
    "  <body>\n",
    "    <h3>Building a List from Scratch</h3>\n",
    "    <list>\n",
    "      <ul>\n",
    "        <li>\n",
    "          <p>\n",
    "            We can create an empty <span class=\"grn\">list </span>and then add\n",
    "            elements using the <span class=\"prpl\">append </span>method\n",
    "          </p>\n",
    "        </li>\n",
    "        <li>\n",
    "          <p>\n",
    "            The <span class=\"grn\">list </span>stays in order and new elements\n",
    "            are <span class=\"prpl\">added </span>at the end of the\n",
    "            <span class=\"grn\">list</span>\n",
    "          </p>\n",
    "        </li>\n",
    "      </ul>\n",
    "    </list>\n",
    "  </body>\n",
    "</html>\n"
   ]
  },
  {
   "cell_type": "code",
   "execution_count": null,
   "metadata": {},
   "outputs": [],
   "source": [
    "stuff = list()"
   ]
  },
  {
   "cell_type": "code",
   "execution_count": null,
   "metadata": {},
   "outputs": [],
   "source": [
    "print(stuff)"
   ]
  },
  {
   "cell_type": "code",
   "execution_count": null,
   "metadata": {},
   "outputs": [],
   "source": [
    "#stuff.append('book')\n",
    "stuff.append(99)\n",
    "print(stuff)"
   ]
  },
  {
   "cell_type": "code",
   "execution_count": null,
   "metadata": {},
   "outputs": [],
   "source": [
    "stuff.append('cookie')\n",
    "print(stuff)"
   ]
  },
  {
   "cell_type": "code",
   "execution_count": 62,
   "metadata": {},
   "outputs": [],
   "source": [
    "fruits = ['banana', 'apple', 'banana', 'mango', 'orange', 'kiwi', 'apple', 'apple', 'banana']"
   ]
  },
  {
   "cell_type": "code",
   "execution_count": null,
   "metadata": {},
   "outputs": [],
   "source": []
  },
  {
   "cell_type": "markdown",
   "metadata": {},
   "source": [
    "<!DOCTYPE html>\n",
    "<html lang=\"en\">\n",
    "  <head>\n",
    "    <meta charset=\"UTF-8\" />\n",
    "    <meta http-equiv=\"X-UA-Compatible\" content=\"IE=edge\" />\n",
    "    <meta name=\"viewport\" content=\"width=device-width, initial-scale=1.0\" />\n",
    "    <title>Learn Python</title>\n",
    "    <link rel=\"stylesheet\" href=\"./Resources/assets/style.css\" />\n",
    "  </head>\n",
    "  <body>\n",
    "    <h3>Is Something in a List?</h3>\n",
    "    <list>\n",
    "      <ul>\n",
    "        <li><p>Python Provides two <span class=\"ylw\">operators </span>that let you check if an item is in a list</p></li>\n",
    "        <li><p>These are logical operators that returns <span class=\"prpl\">True </span>or <span class=\"prpl\">False </span></p></li>\n",
    "        <li><p>They do not modify the list</p></li>\n",
    "      </ul>\n",
    "    </list>\n",
    "  </body>\n",
    "</html>\n"
   ]
  },
  {
   "cell_type": "code",
   "execution_count": null,
   "metadata": {},
   "outputs": [],
   "source": [
    "'a' in \"Apple\""
   ]
  },
  {
   "cell_type": "code",
   "execution_count": null,
   "metadata": {},
   "outputs": [],
   "source": [
    "num = [8,6,10,36,12,24,7]"
   ]
  },
  {
   "cell_type": "code",
   "execution_count": null,
   "metadata": {},
   "outputs": [],
   "source": [
    "10 in num"
   ]
  },
  {
   "cell_type": "code",
   "execution_count": null,
   "metadata": {},
   "outputs": [],
   "source": [
    "20 not in num"
   ]
  },
  {
   "cell_type": "code",
   "execution_count": null,
   "metadata": {},
   "outputs": [],
   "source": [
    "15 in num"
   ]
  },
  {
   "cell_type": "markdown",
   "metadata": {},
   "source": [
    "<!DOCTYPE html>\n",
    "<html lang=\"en\">\n",
    "  <head>\n",
    "    <meta charset=\"UTF-8\" />\n",
    "    <meta http-equiv=\"X-UA-Compatible\" content=\"IE=edge\" />\n",
    "    <meta name=\"viewport\" content=\"width=device-width, initial-scale=1.0\" />\n",
    "    <title>Learn Python</title>\n",
    "    <link rel=\"stylesheet\" href=\"./Resources/assets/style.css\" />\n",
    "  </head>\n",
    "  <body>\n",
    "    <h3>Lists are in Order</h3>\n",
    "    <list>\n",
    "      <ul>\n",
    "        <li>\n",
    "          <p>\n",
    "            A <span class=\"orng\">list </span>can hold many items and keeps those\n",
    "            items in the order until we do something to change the order\n",
    "          </p>\n",
    "        </li>\n",
    "        <li>\n",
    "          <p>\n",
    "            A <span class=\"orng\">list </span>can be\n",
    "            <span class=\"prpl\">sorted </span>(i.e., Change its order)\n",
    "          </p>\n",
    "        </li>\n",
    "        <li>\n",
    "          <p>\n",
    "            The <span class=\"prpl\">sort </span>method (unlike in strings) means\n",
    "            \"<span class=\"prpl\">sort yourself</span>\"\n",
    "          </p>\n",
    "        </li>\n",
    "      </ul>\n",
    "    </list>\n",
    "  </body>\n",
    "</html>\n"
   ]
  },
  {
   "cell_type": "code",
   "execution_count": null,
   "metadata": {},
   "outputs": [],
   "source": [
    "fruits = ['banana', 'apple', 'mango', 'orange', 'kiwi', 'pineapple']"
   ]
  },
  {
   "cell_type": "code",
   "execution_count": null,
   "metadata": {},
   "outputs": [],
   "source": [
    "fruits.sort()"
   ]
  },
  {
   "cell_type": "code",
   "execution_count": null,
   "metadata": {},
   "outputs": [],
   "source": [
    "print(fruits)"
   ]
  },
  {
   "cell_type": "markdown",
   "metadata": {},
   "source": [
    "<!DOCTYPE html>\n",
    "<html lang=\"en\">\n",
    "  <head>\n",
    "    <meta charset=\"UTF-8\" />\n",
    "    <meta http-equiv=\"X-UA-Compatible\" content=\"IE=edge\" />\n",
    "    <meta name=\"viewport\" content=\"width=device-width, initial-scale=1.0\" />\n",
    "    <title>Learn Python</title>\n",
    "    <link rel=\"stylesheet\" href=\"./Resources/assets/style.css\" />\n",
    "  </head>\n",
    "  <body>\n",
    "    <h3>Built-in Functions and Lists</h3>\n",
    "    <list>\n",
    "      <ul>\n",
    "        <li>\n",
    "          <p>\n",
    "            There are a number of <span class=\"prpl\">functions </span>built into\n",
    "            <span class=\"ylw\">Python </span> that takes\n",
    "            <span class=\"grn\">lists </span>as parameter\n",
    "          </p>\n",
    "        </li>\n",
    "        <li><p>Remember the loops we built? these are much simpler.</p></li>\n",
    "      </ul>\n",
    "    </list>\n",
    "  </body>\n",
    "</html>\n"
   ]
  },
  {
   "cell_type": "code",
   "execution_count": null,
   "metadata": {},
   "outputs": [],
   "source": [
    "n = [3, 41, 12, 9, 74, 15]"
   ]
  },
  {
   "cell_type": "code",
   "execution_count": null,
   "metadata": {},
   "outputs": [],
   "source": [
    "print(len(n))"
   ]
  },
  {
   "cell_type": "code",
   "execution_count": null,
   "metadata": {},
   "outputs": [],
   "source": [
    "print(max(n))"
   ]
  },
  {
   "cell_type": "code",
   "execution_count": null,
   "metadata": {},
   "outputs": [],
   "source": [
    "print(min(n))"
   ]
  },
  {
   "cell_type": "code",
   "execution_count": null,
   "metadata": {},
   "outputs": [],
   "source": [
    "print(sum(n))"
   ]
  },
  {
   "cell_type": "code",
   "execution_count": null,
   "metadata": {},
   "outputs": [],
   "source": [
    "print(sum(n)/len(n))"
   ]
  },
  {
   "cell_type": "code",
   "execution_count": null,
   "metadata": {},
   "outputs": [],
   "source": [
    "print(round(sum(n)/len(n), 1))"
   ]
  },
  {
   "cell_type": "markdown",
   "metadata": {},
   "source": [
    "<!DOCTYPE html>\n",
    "<html lang=\"en\">\n",
    "  <head>\n",
    "    <meta charset=\"UTF-8\" />\n",
    "    <meta http-equiv=\"X-UA-Compatible\" content=\"IE=edge\" />\n",
    "    <meta name=\"viewport\" content=\"width=device-width, initial-scale=1.0\" />\n",
    "    <title>Learn Python</title>\n",
    "    <link rel=\"stylesheet\" href=\"./Resources/assets/style.css\" />\n",
    "  </head>\n",
    "  <body>\n",
    "    <h3>Two Techniques to get average of N Numbers</h3>\n",
    "    <list>\n",
    "      <ul>\n",
    "        <li> We can find the average N Numbers using two different methods</li>\n",
    "      </ul>\n",
    "    </list>\n",
    "  </body>\n",
    "</html>\n"
   ]
  },
  {
   "cell_type": "code",
   "execution_count": null,
   "metadata": {},
   "outputs": [],
   "source": [
    "total = 0\n",
    "count = 0\n",
    "while True:\n",
    "    inp = float(input('Enter a number: '))\n",
    "    if inp == 'q': break\n",
    "    value = float(inp)\n",
    "    total = total + value\n",
    "    count = count + 1\n",
    "print('Average:', total/count)"
   ]
  },
  {
   "cell_type": "code",
   "execution_count": null,
   "metadata": {},
   "outputs": [],
   "source": [
    "numlist = list()\n",
    "while True:\n",
    "    inp = input('Enter a number: ')\n",
    "    if inp == 'q': break\n",
    "    value = float(inp)\n",
    "    numlist.append(value)\n",
    "print('Average:', sum(numlist)/len(numlist))\n"
   ]
  },
  {
   "cell_type": "markdown",
   "metadata": {},
   "source": [
    "<!DOCTYPE html>\n",
    "<html lang=\"en\">\n",
    "  <head>\n",
    "    <meta charset=\"UTF-8\" />\n",
    "    <meta http-equiv=\"X-UA-Compatible\" content=\"IE=edge\" />\n",
    "    <meta name=\"viewport\" content=\"width=device-width, initial-scale=1.0\" />\n",
    "    <title>Learn Python</title>\n",
    "    <link rel=\"stylesheet\" href=\"./Resources/assets/style.css\" />\n",
    "  </head>\n",
    "  <body>\n",
    "    <h3>Best Friends: Strings and Lists</h3>\n",
    "    <list>\n",
    "      <ul>\n",
    "        <li><p>\n",
    "          <span class=\"prpl\">Split</span> breaks a string into parts and\n",
    "          produces a list of strings. We think of these as words. We can\n",
    "          <span class=\"cyn\">access</span> a particular word or\n",
    "          <span class=\"ylw\">loops</span> through all the words.</p></li>\n",
    "          <li><p><span class=\"prpl\">Split uses the space as the <span class=\"cyn\">delimiters</span> as default for spiting a string</span></p></li>\n",
    "          <li><p>When you do not specify a <span class=\"cyn\">delimiter,</span> multiple space are treated like one delimiter</p></li>\n",
    "          <li><p>You can specify what <span class=\"cyn\">delimiter </span>character to use in the <span>splitting</span></p></li>\n",
    "        </li>\n",
    "      </ul>\n",
    "    </list>\n",
    "  </body>\n",
    "</html>\n"
   ]
  },
  {
   "cell_type": "code",
   "execution_count": null,
   "metadata": {},
   "outputs": [],
   "source": [
    "sentence = 'a quick brown fox jumps over the lazy dog'"
   ]
  },
  {
   "cell_type": "code",
   "execution_count": null,
   "metadata": {},
   "outputs": [],
   "source": [
    "sentence[10]"
   ]
  },
  {
   "cell_type": "code",
   "execution_count": null,
   "metadata": {},
   "outputs": [],
   "source": [
    "type(sentence)"
   ]
  },
  {
   "cell_type": "code",
   "execution_count": null,
   "metadata": {},
   "outputs": [],
   "source": [
    "words = sentence.split()"
   ]
  },
  {
   "cell_type": "code",
   "execution_count": null,
   "metadata": {},
   "outputs": [],
   "source": [
    "print(words)"
   ]
  },
  {
   "cell_type": "code",
   "execution_count": null,
   "metadata": {},
   "outputs": [],
   "source": [
    "words[3]"
   ]
  },
  {
   "cell_type": "code",
   "execution_count": null,
   "metadata": {},
   "outputs": [],
   "source": [
    "type(words)"
   ]
  },
  {
   "cell_type": "code",
   "execution_count": null,
   "metadata": {},
   "outputs": [],
   "source": [
    "len(sentence)"
   ]
  },
  {
   "cell_type": "code",
   "execution_count": null,
   "metadata": {},
   "outputs": [],
   "source": [
    "len(words)"
   ]
  },
  {
   "cell_type": "code",
   "execution_count": null,
   "metadata": {},
   "outputs": [],
   "source": [
    "words[5]"
   ]
  },
  {
   "cell_type": "code",
   "execution_count": null,
   "metadata": {},
   "outputs": [],
   "source": [
    "sentence[5]"
   ]
  },
  {
   "cell_type": "code",
   "execution_count": null,
   "metadata": {},
   "outputs": [],
   "source": [
    "for word in words:\n",
    "    print(word)"
   ]
  },
  {
   "cell_type": "code",
   "execution_count": null,
   "metadata": {},
   "outputs": [],
   "source": [
    "line = \"A lot                     of                spaces\""
   ]
  },
  {
   "cell_type": "code",
   "execution_count": null,
   "metadata": {},
   "outputs": [],
   "source": [
    "len(line)"
   ]
  },
  {
   "cell_type": "code",
   "execution_count": null,
   "metadata": {},
   "outputs": [],
   "source": [
    "line.split()"
   ]
  },
  {
   "cell_type": "code",
   "execution_count": null,
   "metadata": {},
   "outputs": [],
   "source": [
    "line = 'first#second#third'"
   ]
  },
  {
   "cell_type": "code",
   "execution_count": null,
   "metadata": {},
   "outputs": [],
   "source": [
    "line.split()"
   ]
  },
  {
   "cell_type": "code",
   "execution_count": null,
   "metadata": {},
   "outputs": [],
   "source": [
    "line.split('#')"
   ]
  },
  {
   "cell_type": "code",
   "execution_count": null,
   "metadata": {},
   "outputs": [],
   "source": [
    "line = 'abracadabra'"
   ]
  },
  {
   "cell_type": "code",
   "execution_count": null,
   "metadata": {},
   "outputs": [],
   "source": [
    "line.split('a')"
   ]
  },
  {
   "cell_type": "markdown",
   "metadata": {},
   "source": [
    "<!DOCTYPE html>\n",
    "<html lang=\"en\">\n",
    "  <head>\n",
    "    <meta charset=\"UTF-8\" />\n",
    "    <meta http-equiv=\"X-UA-Compatible\" content=\"IE=edge\" />\n",
    "    <meta name=\"viewport\" content=\"width=device-width, initial-scale=1.0\" />\n",
    "    <title>Learn Python</title>\n",
    "    <link rel=\"stylesheet\" href=\"./Resources/assets/style.css\" />\n",
    "  </head>\n",
    "  <body>\n",
    "    <h3>What can we do with a file?</h3>\n",
    "  </body>\n",
    "</html>\n"
   ]
  },
  {
   "cell_type": "code",
   "execution_count": null,
   "metadata": {},
   "outputs": [],
   "source": [
    "fileh = open('./Resources/docs/email.txt')\n",
    "for line in fileh:\n",
    "    line = line.rstrip()\n",
    "    if not line.startswith('from:'):\n",
    "        continue\n",
    "    words = line.split()\n",
    "    print(words[1])"
   ]
  }
 ],
 "metadata": {
  "kernelspec": {
   "display_name": "Python 3.10.5 ('~Py4e': venv)",
   "language": "python",
   "name": "python3"
  },
  "language_info": {
   "codemirror_mode": {
    "name": "ipython",
    "version": 3
   },
   "file_extension": ".py",
   "mimetype": "text/x-python",
   "name": "python",
   "nbconvert_exporter": "python",
   "pygments_lexer": "ipython3",
   "version": "3.10.5"
  },
  "vscode": {
   "interpreter": {
    "hash": "b38cc145a8a0388fdb391487ded344ef1406e07d7e5214e41c0150124666a1b0"
   }
  }
 },
 "nbformat": 4,
 "nbformat_minor": 4
}

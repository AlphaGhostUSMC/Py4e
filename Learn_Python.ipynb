{
 "cells": [
  {
   "cell_type": "markdown",
   "metadata": {},
   "source": [
    "<body>\n",
    "  <h3 style=\"color: wheat; text-align: center; font-family: 'Times New Roman', Times, serif; font-size: 30px;\">Chapter 1: An Intro to Python</h3>\n",
    "</body>"
   ]
  },
  {
   "cell_type": "markdown",
   "metadata": {},
   "source": [
    "<body>\n",
    "  <h3 style=\"color: tomato;\">Elements of Python</h3>\n",
    "<list>\n",
    "<ol><li><strong style=\"color:orange;\">Vocabulary / Words : </strong>Variables and Reserved Words</li>\n",
    "<li><strong style=\"color:orange;\">Sentence Structure : </strong>Valid syntax Patterns</li>\n",
    "<li><strong style=\"color:orange;\">Story Structure : </strong>Constructing a program for a purpose</li></ol>\n",
    "</list>\n",
    "</body>"
   ]
  },
  {
   "cell_type": "markdown",
   "metadata": {},
   "source": [
    "<body>\n",
    "  <h3 style=\"color: tomato;\">Reserved Words</h3>\n",
    "<list>\n",
    "<ul><li>You cannot use <strong style=\"color: yellow;\">Reserved Words</strong> as variable names / identifiers</li></ul>\n",
    "<p style=\"color: yellow; font-size: 20px; align-items: center; text-justify: distribute-all-lines;\">\n",
    "False&nbsp;&nbsp;def&nbsp;&nbsp;if&nbsp;&nbsp;raise<br>\n",
    "None&nbsp;&nbsp;del&nbsp;&nbsp;import&nbsp;&nbsp;return<br>\n",
    "True&nbsp;&nbsp;elif&nbsp;&nbsp;in&nbsp;&nbsp;try<br>\n",
    "and&nbsp;&nbsp;else&nbsp;&nbsp;is&nbsp;&nbsp;while<br>\n",
    "as&nbsp;&nbsp;except&nbsp;&nbsp;lambda&nbsp;&nbsp;with<br>\n",
    "assert&nbsp;&nbsp;finally&nbsp;&nbsp;nonlocal&nbsp;&nbsp;yield<br>\n",
    "break&nbsp;&nbsp;for&nbsp;&nbsp;not<br>\t\n",
    "class&nbsp;&nbsp;from&nbsp;&nbsp;or<br>\t\n",
    "continue&nbsp;&nbsp;global&nbsp;&nbsp;pass<br>\n",
    "</p>\n",
    "</list>\n",
    "</body>"
   ]
  },
  {
   "cell_type": "code",
   "execution_count": null,
   "metadata": {},
   "outputs": [],
   "source": [
    "a = 1\n",
    "print(a) #correct"
   ]
  },
  {
   "cell_type": "code",
   "execution_count": null,
   "metadata": {},
   "outputs": [],
   "source": [
    "while = 1\n",
    "print(while) #incorrect use of reserved word\n",
    "\n",
    "if = 1\n",
    "print(if) #incorrect use of reserved word"
   ]
  },
  {
   "cell_type": "markdown",
   "metadata": {},
   "source": [
    "<body>\n",
    "  <h3 style=\"color: tomato;\">Sentences or Lines</h3>\n",
    "  <p><strong>\"x\"</strong> is a Variable <br>\n",
    "    <strong>\"=,+\"</strong> are Operators <br>\n",
    "    <strong>\"2\"</strong> is a constant <br>\n",
    "    <strong>\"print\"</strong> is a Reserved Word <br>\n",
    "  </p>\n",
    "</body>"
   ]
  },
  {
   "cell_type": "code",
   "execution_count": null,
   "metadata": {},
   "outputs": [],
   "source": [
    "x = 2 #Assignment statement\n",
    "x = 2 / 2 #Assignment with expression\n",
    "print(x) #Print statement"
   ]
  },
  {
   "cell_type": "markdown",
   "metadata": {},
   "source": [
    "<body>\n",
    "  <h3 style=\"color: tomato;\">Programming Paragraphs</h3>\n",
    "  <h4 style=\"color: tomato;\">Python Scripts</h4>\n",
    "  <list>\n",
    "    <ol>\n",
    "      <li style=\"font-size: 16px;\">Interactive Python is good for experiment and programs of 3-4 lines long.</li>\n",
    "      <li style=\"font-size: 16px;\">Most programs are much longer, so we type them into a file and tell Python to run the commands in the file.</li>\n",
    "      <li style=\"font-size: 16px;\">In a sense, we are \"giving Python a script\"</li>\n",
    "      <li style=\"font-size: 16px;\">As a convention, we add \".py\" as the suffix on the end of these files to indicate they contain Python.</li>\n",
    "    </ol>\n",
    "  </list>\n",
    "</body>"
   ]
  },
  {
   "cell_type": "markdown",
   "metadata": {},
   "source": [
    "<body>\n",
    "  <h3 style=\"color: tomato;\">Interactive Vs Script</h3>\n",
    "  <list>\n",
    "    <ul>\n",
    "      <header style=\"color: orange; font-weight: 200;\">Interactive</header>\n",
    "      <li>You type directly to Python one line at a time and it responds</li>\n",
    "      <header style=\"color: orange; font-weight: 200;\">Script</header>\n",
    "      <li>You enter a sequence of statements (lines) into a file using a text editor and tell Python to execute the statements in the file.</li>\n",
    "    </ul>\n",
    "  </list>\n",
    "</body>"
   ]
  },
  {
   "cell_type": "markdown",
   "metadata": {},
   "source": [
    "<body>\n",
    "  <h3 style=\"color: tomato;\">Syntax Errors</h3>\n",
    "  <p>Syntax errors are produced by Python when it is translating the source code into byte code. They usually indicate that there is something wrong with the syntax of the program. Example: Omitting the colon at the end of a def statement yields the somewhat redundant message SyntaxError: invalid syntax.</p>\n",
    "<list>\n",
    "  <ul>\n",
    "    <li>leaving out a keyword.</li>\n",
    "    <li>putting a keyword in the wrong place.</li>\n",
    "    <li>leaving out a symbol, such as a colon, comma or brackets.</li>\n",
    "    <li>misspelling a keyword.</li>\n",
    "    <li>incorrect indentation.</li>\n",
    "    <li>empty block.</li>\n",
    "  </ul>\n",
    "</list>\n",
    "</body>"
   ]
  },
  {
   "cell_type": "markdown",
   "metadata": {},
   "source": [
    "<body>\n",
    "  <h3 style=\"color: tomato;\"></font>Program Steps or Program flow</h3>\n",
    "  <list style=\"text-align: justify; font-size: 18px;\">\n",
    "    <ol>\n",
    "      <li>Like a installation instructions, a program is a <mark>sequence</mark> of steps to be done in order</li>\n",
    "      <li>Some steps are <mark>conditional</mark> - they may be skipped</li>\n",
    "      <li>Sometimes a step or group of steps is to be <mark>repeated</mark>.</li>\n",
    "      <li>Sometimes we store a set of steps to be used over and over as needed several places throughout the program.</li>\n",
    "    </ol>\n",
    "  </list>\n",
    "</body>"
   ]
  },
  {
   "cell_type": "markdown",
   "metadata": {},
   "source": [
    "<body>\n",
    "  <h3 style=\"color: tomato;\"></font>Sequential Steps</h3>\n",
    "  <img src=\"Resources/Flowcharts/seqsteps.png\" alt=\"Sequential Steps\" style=\"display: block; margin-left: auto; margin-right: auto;\">\n",
    "  <p style=\"font-size: 18px; text-align: justify;\">\n",
    "    Sequential steps are <span style=\"color: green;\">step by step</span> execution of a program. They are used to show the flow of a program. it is kind of unintelligent execution of a program. \n",
    "  </p>\n",
    "</body>"
   ]
  },
  {
   "cell_type": "code",
   "execution_count": null,
   "metadata": {},
   "outputs": [],
   "source": [
    "x = 2\n",
    "print(x)\n",
    "x = x + 2\n",
    "print(x)"
   ]
  },
  {
   "cell_type": "markdown",
   "metadata": {},
   "source": [
    "<body>\n",
    "  <h3 style=\"color: tomato;\"></font>Conditional Steps</h3>\n",
    "  <img src=\"Resources/Flowcharts/condsteps.png\" alt=\"Conditional Steps\" style=\"display: block; margin-left: auto; margin-right: auto;\">\n",
    "  <p style=\"font-size: 18px; text-align: justify;\">\n",
    "    Conditional steps are used to determine the next step in the process. They are used to determine the next step in the process based on the result of a previous step. For example, if the user has entered a valid email address, the next step would be to send the user an email with a link to reset their password. If the user has entered an invalid email address, the next step would be to display an error message.\n",
    "    Here we can make python to decide what to do based on the condition, We use the Reserved word <span style=\"color: yellow; font-size: 20px;\">if</span> this makes python code look intelligent</p>\n",
    "</body>"
   ]
  },
  {
   "cell_type": "code",
   "execution_count": null,
   "metadata": {},
   "outputs": [],
   "source": [
    "x = 2\n",
    "if x > 5:\n",
    "    print('Bigger')\n",
    "if x < 5:\n",
    "    print('Smaller')\n",
    "\n",
    "print('Done')"
   ]
  },
  {
   "cell_type": "markdown",
   "metadata": {},
   "source": [
    "<body>\n",
    "  <h3 style=\"color: tomato;\"></font>Repeated Steps</h3>\n",
    "  <img src=\"Resources/Flowcharts/repsteps.png\" alt=\"Repeated Steps\" style=\"display: block; margin-left: auto; margin-right: auto;\">\n",
    "  <p style=\"font-size: 18px; text-align: justify;\">\n",
    "  Loops (Repeated Steps) are used to repeat a set of instructions a certain number of times. The number of times the loop is repeated is known as the loop's <span style=\"color: green;\">iteration count</span>. The loop's iteration count is set by the user. The loop's termination condition is set by the user. The loop's termination condition is checked at the end of each iteration. \n",
    "  </p>\n",
    "</body>"
   ]
  },
  {
   "cell_type": "code",
   "execution_count": null,
   "metadata": {},
   "outputs": [],
   "source": [
    "X = 5\n",
    "while X > 0:\n",
    "    print(X)\n",
    "    X = X - 1\n",
    "print(\"Done\")"
   ]
  },
  {
   "cell_type": "markdown",
   "metadata": {},
   "source": [
    "<body>\n",
    "  <h3 style=\"color: tomato;\"></font>Python Story</h3>\n",
    "\n",
    " <block> \n",
    "  <p style=\"font-size: 18px; text-align: justify;\">\n",
    "    A Short python \"Story\" about how to count a file\n",
    "  </p>\n",
    "  <p style=\"font-size: 18px; text-align: justify;\">\n",
    "  </block>\n",
    "\n",
    "<br>\n",
    "\n",
    "<p style=\"font-weight: bold; color: yellow;\">**Sequential**</p>\n",
    "<block style=\"color: yellow;\"> \n",
    "  print = (\"Reading the file...\")<br>\n",
    "  file = open(\"Resources/docs/blockchain.txt\")<br>\n",
    "  counts = dict()<br>\n",
    "</block>\n",
    "\n",
    "<br>\n",
    "\n",
    "<p style=\"font-weight: bold; color: green;\">**Repeated**</p>\n",
    "<block style=\"color: green;\">\n",
    "for line in file:<br>\n",
    "&nbsp;&nbsp;&nbsp;&nbsp;&nbsp;&nbsp;words = line.split()<br>\n",
    "&nbsp;&nbsp;&nbsp;&nbsp;&nbsp;&nbsp;for word in words:<br>\n",
    "&nbsp;&nbsp;&nbsp;&nbsp;&nbsp;&nbsp;&nbsp;&nbsp;&nbsp;&nbsp;&nbsp;&nbsp;counts[word] = counts.get(word, 0) + 1<br>\n",
    "</block>\n",
    "\n",
    "<br>\n",
    "\n",
    "<p style=\"font-weight: bold; color: yellow;\">**Sequential**</p>\n",
    "<block style=\"color: yellow;\">\n",
    "bigcount = None<br>\n",
    "bigword = None<br>\n",
    "</block>\n",
    "\n",
    "<br>\n",
    "\n",
    "<p style=\"font-weight: bold; color: green;\">**Repeated**</p>\n",
    "<block style=\"color: green;\">\n",
    "for word,count in counts.items():<br>\n",
    "</block>\n",
    "\n",
    "<br>\n",
    "\n",
    "<p style=\"font-weight: bold; color: orange;\">**Conditional**</p>\n",
    "<block style=\"color: orange;\">\n",
    "  &nbsp;&nbsp;&nbsp;&nbsp;&nbsp;&nbsp;if bigcount is None or count > bigcount:<br>\n",
    "  &nbsp;&nbsp;&nbsp;&nbsp;&nbsp;&nbsp;&nbsp;&nbsp;&nbsp;&nbsp;&nbsp;&nbsp;bigword = word<br>\n",
    "  &nbsp;&nbsp;&nbsp;&nbsp;&nbsp;&nbsp;&nbsp;&nbsp;&nbsp;&nbsp;&nbsp;&nbsp;bigcount = count<br>\n",
    "</block>\n",
    "\n",
    "<br>\n",
    "\n",
    "<p style=\"font-weight: bold; color: yellow;\">**Sequential**</p>\n",
    "<block style=\"color: yellow;\">\n",
    "print(bigword, bigcount)<br>\n",
    "</block>\n",
    "</p>\n",
    "</body>"
   ]
  },
  {
   "cell_type": "markdown",
   "metadata": {},
   "source": [
    "<body>\n",
    "  <h3 style=\"color: wheat; text-align: center; font-family: 'Times New Roman', Times, serif; font-size: 30px; \">Chapter 2: Variables, Expressions, and Statements</h3>\n",
    "</body>"
   ]
  },
  {
   "cell_type": "markdown",
   "metadata": {},
   "source": [
    "<body>\n",
    "  <h3 style=\"color: tomato;\">Constants</h3>\n",
    "<list>\n",
    "<ol><li><strong style=\"color:orange;\">Fixed Values </strong>Such as numbers, letters, and strings are called <strong style=\"color: orange;\">\"Constants\" </strong>because their value does not change</li>\n",
    "<li>Numeric <strong style=\"color:orange;\">Constants </strong>are integer type</li>\n",
    "<li>String <strong style=\"color:orange;\">Constants </strong>use single quotes (') or double quotes (\")</li></ol>\n",
    "<pre>\n",
    "  >>> print(123)\n",
    "  123\n",
    "  >>> print(98.6)\n",
    "  98.6\n",
    "  >>> print('Hello')\n",
    "  Hello\n",
    "</pre>\n",
    "</list>\n",
    "</body>"
   ]
  },
  {
   "cell_type": "markdown",
   "metadata": {},
   "source": [
    "<body>\n",
    "  <h3 style=\"color: tomato;\">Variables</h3>\n",
    "<list>\n",
    "<ol>\n",
    "  <li>A <strong style=\"color: green;\">variable </strong> is a named place in the memory where a programmer can store data and later retrieve the data using the <strong style=\"color: green;\">variable </strong>name.</li>\n",
    "  <li>Programmers get to choose the names of the <strong style=\"color: green;\">variable </strong></li>\n",
    "  <li>You can change the contents of a <strong style=\"color: green;\">variable </strong> in a later statement</li>\n",
    "  <pre>\n",
    "    x = 5\n",
    "    y = x + 5\n",
    "    x = 10\n",
    "  </pre>\n",
    "</ol>\n",
    "</list>\n",
    "</body>"
   ]
  },
  {
   "cell_type": "code",
   "execution_count": null,
   "metadata": {},
   "outputs": [],
   "source": [
    "x = 5\n",
    "print(x)\n",
    "#y = x + 5\n",
    "#print(x)\n",
    "#print(y)\n",
    "#x = 10\n",
    "#print(x)\n",
    "#print(y)\n",
    "#y = x + 5\n",
    "#print(x)\n",
    "#print(y)"
   ]
  },
  {
   "cell_type": "markdown",
   "metadata": {},
   "source": [
    "<body>\n",
    "  <h3 style=\"color: tomato;\">Python Variable Name Rules</h3>\n",
    "<list>\n",
    "<ol>\n",
    "  <li>Must start with a letter or underscore _</li>\n",
    "  <li>Must consist of letter, numbers, and underscores</li>\n",
    "  <li>Case Sensitive</li>\n",
    "</ol>\n",
    "</list>\n",
    "<p>&nbsp;&nbsp;&nbsp;&nbsp;<strong style=\"color: lightgreen;\">Good : </strong>num &nbsp;&nbsp;value &nbsp;&nbsp; data1 &nbsp;&nbsp; first_number <br>\n",
    "&nbsp;&nbsp;&nbsp;&nbsp;<strong style=\"color: lightcoral;\">Bad : </strong>123 &nbsp;&nbsp;12num &nbsp;&nbsp; #val &nbsp;&nbsp; var.12 <br>\n",
    "&nbsp;&nbsp;&nbsp;&nbsp;<strong style=\"color: lightblue;\">Case Sensitive : </strong>value &nbsp;&nbsp;Value &nbsp;&nbsp; VALUE </p>\n",
    "</body>"
   ]
  },
  {
   "cell_type": "code",
   "execution_count": null,
   "metadata": {},
   "outputs": [],
   "source": [
    "num = 100\n",
    "print(num)"
   ]
  },
  {
   "cell_type": "markdown",
   "metadata": {},
   "source": [
    "<body>\n",
    "  <h3 style=\"color: tomato;\">Mnemonic Variable Names</h3>\n",
    "<list>\n",
    "<ol>\n",
    "<li>Since we are given a choice in how we choose our variable names, there is a  bit of \"Best practice\"</li>\n",
    "<li>We name variable to help us remember what we intend to store in them (<strong style=\"color: yellow;\">\"mnemonic\"</strong> = \"memory aid\")</li>\n",
    "<li>A well named variable helps users to find the actual use of it.</li>\n",
    "</ol>\n",
    "</list>\n",
    "</body>"
   ]
  },
  {
   "cell_type": "code",
   "execution_count": null,
   "metadata": {},
   "outputs": [],
   "source": [
    "sdfsdf8 = 35.0\n",
    "wadasdw3 = 12.50\n",
    "rf09fsasf = sdfsdf8 * wadasdw3\n",
    "print(rf09fsasf)"
   ]
  },
  {
   "cell_type": "code",
   "execution_count": null,
   "metadata": {},
   "outputs": [],
   "source": [
    "a = 35.0\n",
    "b = 12.50\n",
    "c = a * b\n",
    "print(c)"
   ]
  },
  {
   "cell_type": "code",
   "execution_count": null,
   "metadata": {},
   "outputs": [],
   "source": [
    "hours = 35.0\n",
    "rate = 12.50\n",
    "pay = hours * rate\n",
    "print(pay)"
   ]
  },
  {
   "cell_type": "markdown",
   "metadata": {},
   "source": [
    "<body>\n",
    "  <h3 style=\"color: tomato;\">Assignment Statements</h3>\n",
    "<list>\n",
    "<ol>\n",
    "<li>We Assign a value to a variable using the assignment statement (=)</li>\n",
    "<li>An assignment statement consists of an <strong style=\"color: yellow;\">expression on the right-hand side </strong>and a <strong style=\"color: green;\">variable </strong>on left to store the result</li>\n",
    "</ol>\n",
    "</list>\n",
    "<p style=\"color: green;\">A variable is a memory location used to store a value (<mark>0.6</mark>)</p>\n",
    "<img src=\"Resources/Flowcharts/assignment.png\" alt=\"assignment\" style=\"display: block; margin-left: auto; margin-right: auto;\">\n",
    "<p style=\"color: yellow;\">The right side is an expression</p>\n",
    "<p style=\"color: orange;\">The left side is a variable, once the expression is evaluated,</p>\n",
    "<p style=\"color: green;\">the result is stored (assigned to) in the variable x</p>\n",
    "</body>"
   ]
  },
  {
   "cell_type": "code",
   "execution_count": null,
   "metadata": {},
   "outputs": [],
   "source": [
    "x = 0.6\n",
    "x = 3.9 * x * (1 - x)\n",
    "print(x)"
   ]
  }
 ],
 "metadata": {
  "interpreter": {
   "hash": "e6ae03c729e04e8067e0b3e8ce7d36cec35b58f3b0551f9ebfb7e07158aef986"
  },
  "kernelspec": {
   "display_name": "Python 3 (ipykernel)",
   "language": "python",
   "name": "python3"
  },
  "language_info": {
   "codemirror_mode": {
    "name": "ipython",
    "version": 3
   },
   "file_extension": ".py",
   "mimetype": "text/x-python",
   "name": "python",
   "nbconvert_exporter": "python",
   "pygments_lexer": "ipython3",
   "version": "3.10.2"
  }
 },
 "nbformat": 4,
 "nbformat_minor": 4
}

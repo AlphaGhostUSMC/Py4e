{
 "cells": [],
 "metadata": {
  "kernelspec": {
   "display_name": "Python 3.10.5 ('~Py4e': venv)",
   "language": "python",
   "name": "python3"
  },
  "language_info": {
   "name": "python",
   "version": "3.10.5"
  },
  "orig_nbformat": 4,
  "vscode": {
   "interpreter": {
    "hash": "b38cc145a8a0388fdb391487ded344ef1406e07d7e5214e41c0150124666a1b0"
   }
  }
 },
 "nbformat": 4,
 "nbformat_minor": 2
}
